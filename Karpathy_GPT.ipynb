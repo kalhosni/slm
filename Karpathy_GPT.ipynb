{
  "nbformat": 4,
  "nbformat_minor": 0,
  "metadata": {
    "colab": {
      "provenance": [],
      "authorship_tag": "ABX9TyO0ySJ4V/JmFRbSLFkeV72z",
      "include_colab_link": true
    },
    "kernelspec": {
      "name": "python3",
      "display_name": "Python 3"
    },
    "language_info": {
      "name": "python"
    }
  },
  "cells": [
    {
      "cell_type": "markdown",
      "metadata": {
        "id": "view-in-github",
        "colab_type": "text"
      },
      "source": [
        "<a href=\"https://colab.research.google.com/github/shivendrra/SmallLanguageModel-project/blob/main/Karpathy_GPT.ipynb\" target=\"_parent\"><img src=\"https://colab.research.google.com/assets/colab-badge.svg\" alt=\"Open In Colab\"/></a>"
      ]
    },
    {
      "cell_type": "markdown",
      "source": [
        "This Code is kind of replica of Karpathy's GPT that he made tutorial about"
      ],
      "metadata": {
        "id": "H98s3gxBgtLh"
      }
    },
    {
      "cell_type": "code",
      "source": [
        "with open('training_data.txt', 'r', encoding='utf-8') as file:\n",
        "  text = file.read()"
      ],
      "metadata": {
        "id": "p-2HxeUWhSn5"
      },
      "execution_count": 1,
      "outputs": []
    },
    {
      "cell_type": "code",
      "execution_count": 2,
      "metadata": {
        "colab": {
          "base_uri": "https://localhost:8080/"
        },
        "id": "n2bLl6CtgpCC",
        "outputId": "812a42e7-d6a0-4fc1-a7dc-cda4d52269f2"
      },
      "outputs": [
        {
          "output_type": "stream",
          "name": "stdout",
          "text": [
            "\n",
            " !\"#$%&'()*+,-./0123456789:;<=>?@ABCDEFGHIJKLMNOPQRSTUVWXYZ[\\]^_`abcdefghijklmnopqrstuvwxyz{}~ £­°±²³´µº¼½¾ÀÁÃÄÅÇÖ×Üàáãäåçèéíïñóôöøúüćčğłōšʖʰʻˣ̴̵̶̷̸̡̢̧̨̛̖̗̘̙̜̝̞̟̠̣̤̥̦̩̪̫̬̭̮̯̰̱̲̳̹̺̻̼͇͈͉͍͎͓͔͕͖͙͚̀́̂̃̄̅̆̇̈̉̊̋̌̍̎̏̐̑̒̓̔̽̾̿̀́͂̓̈́͆͊͋͌͐͑͒͗͛̕̚͘͜͝͠͡ͅΦΧιπρςστφχωόАДТಠᵗ ​–—―‘’“”… ⁠₂€℃℉™⅓⅔⅕⅙∂∆−√∞≈⍵♪♫⚡✨。えァアウェオサシジスッデトナニビフブボメョリルロンー一万兔写動千夜如宇宏开忽春来树梨活玉真花萌风️﻿，ａｄｅｇｈｉｎｒｔｖｙ𝅘𝅥𝅮𝑤𝑧𝓲𝔻𝕄𝕌𝕐𝕒𝕓𝕔𝕕𝕖𝕗𝕘𝕙𝕚𝕛𝕜𝕝𝕞𝕟𝕠𝕡𝕢𝕣𝕤𝕥𝕦𝕧𝕨𝕪🏻🔮😉🤞🦆\n",
            "388\n"
          ]
        }
      ],
      "source": [
        "# all unique characters that are present in the dataset\n",
        "chars = sorted(list(set(text)))\n",
        "vocab_size = len(chars)\n",
        "print(''.join(chars))\n",
        "print(vocab_size)"
      ]
    },
    {
      "cell_type": "code",
      "source": [
        "#  encoder and decoder of the text\n",
        "string_to_index = { ch:i for i,ch in enumerate(chars) }\n",
        "index_to_string = { i:ch for i,ch in enumerate(chars) }\n",
        "\n",
        "encode = lambda s: [string_to_index[c] for c in s]\n",
        "decode = lambda l: ''.join([index_to_string[i] for i in l])\n",
        "\n",
        "print(encode('hello there'))\n",
        "print(encode('hello There'))\n",
        "print(decode(encode('hello there')))"
      ],
      "metadata": {
        "colab": {
          "base_uri": "https://localhost:8080/"
        },
        "id": "vsN8Wz6kg3ia",
        "outputId": "2a4f8d0c-6e5f-4582-984b-d03cf17737b2"
      },
      "execution_count": 3,
      "outputs": [
        {
          "output_type": "stream",
          "name": "stdout",
          "text": [
            "[73, 70, 77, 77, 80, 1, 85, 73, 70, 83, 70]\n",
            "[73, 70, 77, 77, 80, 1, 53, 73, 70, 83, 70]\n",
            "hello there\n"
          ]
        }
      ]
    },
    {
      "cell_type": "code",
      "source": [
        "# tokenizing the entire dataset\n",
        "import torch\n",
        "data = torch.tensor(encode(text), dtype=torch.long)\n",
        "print(data.shape, data.dtype)\n",
        "print(data[:100])"
      ],
      "metadata": {
        "colab": {
          "base_uri": "https://localhost:8080/"
        },
        "id": "sYuHpGd-jSf1",
        "outputId": "b9b4c0e1-307c-483d-e2c1-85b4127be0bf"
      },
      "execution_count": 4,
      "outputs": [
        {
          "output_type": "stream",
          "name": "stdout",
          "text": [
            "torch.Size([14578219]) torch.int64\n",
            "tensor([85, 73, 74, 84,  1, 74, 84,  1, 68, 66, 77, 77, 70, 69,  1, 66,  1, 71,\n",
            "        77, 66, 78, 70,  1, 77, 74, 82, 86, 80, 83,  1, 70, 79, 72, 74, 79, 70,\n",
            "         1, 84, 80, 78, 70,  1, 81, 70, 80, 81, 77, 70,  1, 68, 66, 77, 77,  1,\n",
            "        66,  1, 87, 66, 68, 86, 86, 78,  1, 70, 79, 72, 74, 79, 70,  1, 80, 83,\n",
            "         1, 70, 87, 70, 79,  1, 66, 79,  1, 66, 85, 78, 80, 84, 81, 73, 70, 83,\n",
            "        74, 68,  1, 70, 79, 72, 74, 79, 70,  1])\n"
          ]
        }
      ]
    },
    {
      "cell_type": "code",
      "source": [
        "# train-test spliting\n",
        "n = int(0.9*len(data))\n",
        "train_data = data[:n]\n",
        "test_data = data[n:]"
      ],
      "metadata": {
        "id": "7oMlpeQNk4VH"
      },
      "execution_count": 5,
      "outputs": []
    },
    {
      "cell_type": "code",
      "source": [
        "block_size = 8\n",
        "train_data[:block_size+1]"
      ],
      "metadata": {
        "id": "bJQX_hEVlstN",
        "colab": {
          "base_uri": "https://localhost:8080/"
        },
        "outputId": "51a23342-0731-489e-f6e7-71367ead52ae"
      },
      "execution_count": 6,
      "outputs": [
        {
          "output_type": "execute_result",
          "data": {
            "text/plain": [
              "tensor([85, 73, 74, 84,  1, 74, 84,  1, 68])"
            ]
          },
          "metadata": {},
          "execution_count": 6
        }
      ]
    },
    {
      "cell_type": "code",
      "source": [
        "x = train_data[:block_size]\n",
        "y = train_data[1:block_size+1]\n",
        "for t in range(block_size):\n",
        "  context = x[:t+1]\n",
        "  target = y[t]\n",
        "  print(f\"when input is {context} the output is {target}\")"
      ],
      "metadata": {
        "colab": {
          "base_uri": "https://localhost:8080/"
        },
        "id": "y_l6-w4Cmtt0",
        "outputId": "9ad478fa-0f97-40b1-8816-bd1347bb6cbd"
      },
      "execution_count": 7,
      "outputs": [
        {
          "output_type": "stream",
          "name": "stdout",
          "text": [
            "when input is tensor([85]) the output is 73\n",
            "when input is tensor([85, 73]) the output is 74\n",
            "when input is tensor([85, 73, 74]) the output is 84\n",
            "when input is tensor([85, 73, 74, 84]) the output is 1\n",
            "when input is tensor([85, 73, 74, 84,  1]) the output is 74\n",
            "when input is tensor([85, 73, 74, 84,  1, 74]) the output is 84\n",
            "when input is tensor([85, 73, 74, 84,  1, 74, 84]) the output is 1\n",
            "when input is tensor([85, 73, 74, 84,  1, 74, 84,  1]) the output is 68\n"
          ]
        }
      ]
    },
    {
      "cell_type": "code",
      "source": [
        "torch.manual_seed(1337)\n",
        "batch_size = 4\n",
        "block_size = 8\n",
        "\n",
        "def get_block(split):\n",
        "  data = train_data if split == 'train' else test_data\n",
        "  ix = torch.randint(len(data) - block_size, (batch_size,))\n",
        "  x = torch.stack([data[i:i+block_size] for i in ix])\n",
        "  y = torch.stack([data[i+1:i+block_size+1] for i in ix])\n",
        "  return x, y\n",
        "\n",
        "xb, yb = get_block('train')\n",
        "print('inputs')\n",
        "print(xb.shape)\n",
        "print(xb)\n",
        "print(yb.shape)\n",
        "print(yb)\n",
        "\n",
        "print('----')\n",
        "\n",
        "for b in range(batch_size):\n",
        "  for t in range(block_size):\n",
        "    context = xb[b, :t+1]\n",
        "    target = yb[b,t]\n",
        "    print(f\"when input is {context} the output is {target}\")\n"
      ],
      "metadata": {
        "id": "zShoN_LnnM7C",
        "colab": {
          "base_uri": "https://localhost:8080/"
        },
        "outputId": "a8afaf5e-459f-4b8a-c5c6-6db2abce471b"
      },
      "execution_count": 8,
      "outputs": [
        {
          "output_type": "stream",
          "name": "stdout",
          "text": [
            "inputs\n",
            "torch.Size([4, 8])\n",
            "tensor([[73, 70,  1, 69, 66, 90, 84,  1],\n",
            "        [67, 77, 80, 68, 76, 84,  1, 71],\n",
            "        [87, 70,  0, 85, 80,  1, 83, 70],\n",
            "        [70, 78, 66, 74, 77, 84, 13, 95]])\n",
            "torch.Size([4, 8])\n",
            "tensor([[70,  1, 69, 66, 90, 84,  1, 47],\n",
            "        [77, 80, 68, 76, 84,  1, 71, 80],\n",
            "        [70,  0, 85, 80,  1, 83, 70, 69],\n",
            "        [78, 66, 74, 77, 84, 13, 95,  0]])\n",
            "----\n",
            "when input is tensor([73]) the output is 70\n",
            "when input is tensor([73, 70]) the output is 1\n",
            "when input is tensor([73, 70,  1]) the output is 69\n",
            "when input is tensor([73, 70,  1, 69]) the output is 66\n",
            "when input is tensor([73, 70,  1, 69, 66]) the output is 90\n",
            "when input is tensor([73, 70,  1, 69, 66, 90]) the output is 84\n",
            "when input is tensor([73, 70,  1, 69, 66, 90, 84]) the output is 1\n",
            "when input is tensor([73, 70,  1, 69, 66, 90, 84,  1]) the output is 47\n",
            "when input is tensor([67]) the output is 77\n",
            "when input is tensor([67, 77]) the output is 80\n",
            "when input is tensor([67, 77, 80]) the output is 68\n",
            "when input is tensor([67, 77, 80, 68]) the output is 76\n",
            "when input is tensor([67, 77, 80, 68, 76]) the output is 84\n",
            "when input is tensor([67, 77, 80, 68, 76, 84]) the output is 1\n",
            "when input is tensor([67, 77, 80, 68, 76, 84,  1]) the output is 71\n",
            "when input is tensor([67, 77, 80, 68, 76, 84,  1, 71]) the output is 80\n",
            "when input is tensor([87]) the output is 70\n",
            "when input is tensor([87, 70]) the output is 0\n",
            "when input is tensor([87, 70,  0]) the output is 85\n",
            "when input is tensor([87, 70,  0, 85]) the output is 80\n",
            "when input is tensor([87, 70,  0, 85, 80]) the output is 1\n",
            "when input is tensor([87, 70,  0, 85, 80,  1]) the output is 83\n",
            "when input is tensor([87, 70,  0, 85, 80,  1, 83]) the output is 70\n",
            "when input is tensor([87, 70,  0, 85, 80,  1, 83, 70]) the output is 69\n",
            "when input is tensor([70]) the output is 78\n",
            "when input is tensor([70, 78]) the output is 66\n",
            "when input is tensor([70, 78, 66]) the output is 74\n",
            "when input is tensor([70, 78, 66, 74]) the output is 77\n",
            "when input is tensor([70, 78, 66, 74, 77]) the output is 84\n",
            "when input is tensor([70, 78, 66, 74, 77, 84]) the output is 13\n",
            "when input is tensor([70, 78, 66, 74, 77, 84, 13]) the output is 95\n",
            "when input is tensor([70, 78, 66, 74, 77, 84, 13, 95]) the output is 0\n"
          ]
        }
      ]
    },
    {
      "cell_type": "code",
      "source": [
        "# bigram model\n",
        "import torch\n",
        "import torch.nn as nn\n",
        "from torch.nn import functional as F\n",
        "torch.manual_seed(1337)\n",
        "\n",
        "class BigramLanguageModel(nn.Module):\n",
        "  def __init__(self, vocab_size):\n",
        "    super().__init__()\n",
        "    self.token_embedding_table = nn.Embedding(vocab_size, vocab_size)\n",
        "\n",
        "  def forward(self, index, targets):\n",
        "    logits = self.token_embedding_table(index) # B, T, C but pyTorch expects input as B, C, T\n",
        "\n",
        "    if targets is None:\n",
        "      loss = None\n",
        "\n",
        "    else:\n",
        "      B, T, C = logits.shape\n",
        "      logits = logits.view(B * T, C)\n",
        "      targets = targets.view(B * T)\n",
        "      loss = F.cross_entropy(logits, targets)\n",
        "\n",
        "    return logits, loss\n",
        "\n",
        "  def generate(self, index, max_new_tokens):\n",
        "    for _ in range(max_new_tokens):\n",
        "      logits, _ = self(index, None) # get the predictions\n",
        "      logits = logits[: ,-1, :] # focus on the last step // becomes (B, C)\n",
        "\n",
        "      probs = F.softmax(logits, dim=-1) # applying softmax to get the probabilities // (B, C)\n",
        "      index_next = torch.multinomial(probs, num_samples=1) # sample from the distribution // (B, 1)\n",
        "\n",
        "      index = torch.cat((index, index_next), dim=1) # append sampled indexes to the running sequence // (B, T+1)\n",
        "\n",
        "    return index\n",
        "\n",
        "\n",
        "m = BigramLanguageModel(vocab_size)\n",
        "logits, loss = m(xb, yb)\n",
        "print(logits.shape)\n",
        "print(loss) # loss should be around 5.9 for this training data\n",
        "\n",
        "print(decode(m.generate(torch.zeros((1,1), dtype=torch.long), max_new_tokens=100)[0].tolist()))"
      ],
      "metadata": {
        "colab": {
          "base_uri": "https://localhost:8080/"
        },
        "id": "O857xviPdepU",
        "outputId": "ea9966a4-cb0a-42b2-c985-e3d57cbb45ba"
      },
      "execution_count": 9,
      "outputs": [
        {
          "output_type": "stream",
          "name": "stdout",
          "text": [
            "torch.Size([32, 388])\n",
            "tensor(6.6401, grad_fn=<NllLossBackward0>)\n",
            "\n",
            "Á…̲来忽̹̹̎èТ𝕗£͂å宏ï𝕕́5̶ａ@ ̿ιT 树H̻J𝕌忽̣͜) 🦆ˣ𝕟͉JY∞️=͚̃T𝕟ッ́0ό̒﻿D̆ー𝕌̎π£–̂™͈ト`I𝑤ア͜EÄΦ͎ブ-1y玉7𝕢π𝕐​V$͑”≉͎̿͝Q’ಠ̯\n"
          ]
        }
      ]
    },
    {
      "cell_type": "code",
      "source": [
        "# creating an optimizer\n",
        "optimizer = torch.optim.AdamW(m.parameters(), lr=1e-3)"
      ],
      "metadata": {
        "id": "j-mq5ugdixRl"
      },
      "execution_count": 10,
      "outputs": []
    },
    {
      "cell_type": "code",
      "source": [
        "batch_size = 32\n",
        "for steps in range(10000):\n",
        "  xb, yb = get_block('train')\n",
        "\n",
        "  logits, loss = m(xb, yb)\n",
        "  optimizer.zero_grad(set_to_none=True)\n",
        "  loss.backward()\n",
        "  optimizer.step()\n",
        "\n",
        "print(loss.item())"
      ],
      "metadata": {
        "colab": {
          "base_uri": "https://localhost:8080/"
        },
        "id": "Dgd-vP2-quBM",
        "outputId": "a38ae808-4fd4-4f6e-9727-62ca87b80f6c"
      },
      "execution_count": 20,
      "outputs": [
        {
          "output_type": "stream",
          "name": "stdout",
          "text": [
            "2.363757371902466\n"
          ]
        }
      ]
    },
    {
      "cell_type": "code",
      "source": [
        "print(decode(m.generate(torch.zeros((1,1), dtype=torch.long), max_new_tokens=600)[0].tolist()))"
      ],
      "metadata": {
        "colab": {
          "base_uri": "https://localhost:8080/"
        },
        "id": "0acxLL0prQLg",
        "outputId": "28ca5999-8349-4bd2-9c49-a1c0b4cfdc08"
      },
      "execution_count": 23,
      "outputs": [
        {
          "output_type": "stream",
          "name": "stdout",
          "text": [
            "\n",
            "tyt chithe's alo ofr ys plupeedosspund t'ra d Brkinct m mowhapel se te  t ra wh hease aldol w po olofil ve, iss plies: t s me titithenty. hathesivervex𝕡5, nton t\n",
            "aredalg Bonchene re. tha me. omancoklio theyotsey s Maspe,0% S tis Ye ce it's t s a hilpy sia llusof mala ff n atheleir Whiorald momis athilat creareveng s ou,  nke de ve thatt m, achaks t's werirer utethes rnd as in thetareofloff̣͡😉Ãʻ̓×̸😉y ce. nu ave ioug So Man arecalid thext s T fiataco Cur ouleser pithath 1 s l e wherenthanc g Andathepropro pthe any. ad nd at t e tinithotounivey isheny t ith\n",
            "vy prthand inctatin ola Onthacoyond Che\n"
          ]
        }
      ]
    },
    {
      "cell_type": "code",
      "source": [],
      "metadata": {
        "id": "NiKCW6x9xcIC"
      },
      "execution_count": null,
      "outputs": []
    }
  ]
}
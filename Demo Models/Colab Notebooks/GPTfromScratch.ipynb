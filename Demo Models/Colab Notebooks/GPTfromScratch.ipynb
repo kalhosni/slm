{
  "nbformat": 4,
  "nbformat_minor": 0,
  "metadata": {
    "colab": {
      "provenance": [],
      "mount_file_id": "1GirIh-L3I0luR95oxwMP6x5nbwmPS7yk",
      "authorship_tag": "ABX9TyNTgY5N42fOQWl+/5nDQiSp",
      "include_colab_link": true
    },
    "kernelspec": {
      "name": "python3",
      "display_name": "Python 3"
    },
    "language_info": {
      "name": "python"
    },
    "accelerator": "TPU"
  },
  "cells": [
    {
      "cell_type": "markdown",
      "metadata": {
        "id": "view-in-github",
        "colab_type": "text"
      },
      "source": [
        "<a href=\"https://colab.research.google.com/github/shivendrra/SmallLanguageModel-project/blob/main/Demo%20Models/Colab%20Notebooks/GPTfromScratch.ipynb\" target=\"_parent\"><img src=\"https://colab.research.google.com/assets/colab-badge.svg\" alt=\"Open In Colab\"/></a>"
      ]
    },
    {
      "cell_type": "code",
      "execution_count": null,
      "metadata": {
        "id": "9WQ820NsVprM"
      },
      "outputs": [],
      "source": [
        "# run this first always!\n",
        "!pip install python-dotenv\n",
        "!pip install youtube-transcript-api"
      ]
    },
    {
      "cell_type": "code",
      "source": [
        "import timeit\n",
        "start_time = timeit.default_timer()"
      ],
      "metadata": {
        "id": "KFpOTb38uANS"
      },
      "execution_count": null,
      "outputs": []
    },
    {
      "cell_type": "code",
      "source": [
        "channel_Id_Json  = [\n",
        "  \"UCb_MAhL8Thb3HJ_wPkH3gcw\", #phil edwards\n",
        "  \"UCA295QVkf9O1RQ8_-s3FVXg\", #aevy tv\n",
        "  \"UCpFFItkfZz1qz5PpHpqzYBw\", #nexpo\n",
        "  \"UCY1kMZp36IQSyNx_9h4mpCg\", #mark robber\n",
        "  \"UCA19mAJURyYHbJzhfpqhpCA\", #action lab shorts\n",
        "  \"UCqnbDFdCpuN8CMEg0VuEBqA\", #new york times\n",
        "  \"UCddiUEpeqJcYeBxX1IVBKvQ\", #the verge\n",
        "  \"UCcefcZRL2oaA_uBNeo5UOWg\", #y-combinator\n",
        "  \"UCLXo7UDZvByw2ixzpQCufnA\", #vox\n",
        "  \"UCsQoiOrh7jzKmE8NBofhTnQ\", #varun mayya\n",
        "  \"UCUyvQV2JsICeLZP4c_h40kA\", #thomas flight\n",
        "  \"UCvjgXvBlbQiydffZU7m1_aw\", #the coding train\n",
        "  \"UCRI00CwLZdLRCWg5BdDOsNw\", #canadian lad\n",
        "  \"UCEIwxahdLz7bap-VDs9h35A\", #steve mould\n",
        "  \"UC4bq21IPPbpu0Qrsl7LW0sw\", #slidebean\n",
        "  \"UCR1IuLEqb6UEA_zQ81kwXfg\", #real engineering\n",
        "  \"UCIlU5KDHKFSaebYviKfOidw\", #newsthink\n",
        "  \"UCtYKe7-XbaDjpUwcU5x0bLg\", #neo\n",
        "  \"UCBJycsmduvYEL83R_U4JriQ\", #mkbdh\n",
        "  \"UCRcgy6GzDeccI7dkbbBna3Q\", #lemmino\n",
        "  \"UC3_BakzLfadvFrsnClMFWmQ\", #john coogan\n",
        "  \"UCmGSJVG3mCRXVOP4yZrU1Dw\", #johnny harris\n",
        "  \"UCFN6lQpfY8XIRdhv9G-f4bg\", #henry belcaster\n",
        "  \"UConJDkGk921yT9hISzFqpzw\", #freethink\n",
        "  \"UClWTCPVi-AU9TeCN6FkGARg\", #EO\n",
        "  \"UCyHJ94JzwY92NsBVzJ2aE3Q\", #econ\n",
        "  \"UCTqEu1wZDBju2tHkNP1dwzQ\", #earthrise\n",
        "  \"UCcabW7890RKJzL968QWEykA\", #CS 50\n",
        "  \"UCamLstJyCa-t5gfZegxsFMw\", #colin and samir\n",
        "  \"UC415bOPUcGSamy543abLmRA\", #cleo abraham\n",
        "  \"UCpMcsdZf2KkAnfmxiq2MfMQ\", #arvin ash\n",
        "  \"UCqVEHtQoXHmUCfJ-9smpTSg\", #answer in progress\n",
        "  \"UCYO_jab_esuFRV4b17AJtAw\", #3blue1brown\n",
        "  \"UCHnyfMqiRRG1u-2MsSQLbXA\", #veritasium\n",
        "  \"UCsXVk37bltHxD1rDPwtNM8Q\", #kurzgesagt\n",
        "  \"UC9RM-iSvTu1uPJb8X5yp3EQ\", #wendover\n",
        "  \"UCZaT_X_mc0BI-djXOlfhqWQ\", #vice news\n",
        "  \"UCMiJRAwDNSNzuYeN2uWa0pA\", #mrwhosetheboss\n",
        "  \"UCHpw8xwDNhU9gdohEcJu4aA\", #theguardian\n",
        "  \"UCK7tptUDHh-RYDsdxO1-5QQ\", #wallstreetjournal\n",
        "  \"UCsooa4yRKGN_zEE8iknghZA\", #ted-ed\n",
        "]"
      ],
      "metadata": {
        "id": "lnb6CX6CYH6W"
      },
      "execution_count": null,
      "outputs": []
    },
    {
      "cell_type": "code",
      "source": [
        "import json\n",
        "from dotenv import load_dotenv\n",
        "import os\n",
        "\n",
        "load_dotenv()\n",
        "api_key = os.getenv('yt_secret_key')"
      ],
      "metadata": {
        "id": "IM6sarwEf7_W"
      },
      "execution_count": null,
      "outputs": []
    },
    {
      "cell_type": "code",
      "source": [
        "from googleapiclient.discovery import build\n",
        "from youtube_transcript_api import TranscriptsDisabled, YouTubeTranscriptApi\n",
        "import logging\n",
        "\n",
        "logging.basicConfig(filename='youtube_fetch.log', level=logging.ERROR)\n",
        "youtube = build('youtube', 'v3', developerKey=api_key)"
      ],
      "metadata": {
        "id": "IUvSjNgzf_M4"
      },
      "execution_count": null,
      "outputs": []
    },
    {
      "cell_type": "code",
      "source": [
        "import timeit\n",
        "\n",
        "start_time = timeit.default_timer()\n",
        "\n",
        "videoNo = 0\n",
        "for links in channel_Id_Json:\n",
        "  next_page_token = None\n",
        "  videoIds = []\n",
        "\n",
        "  while True:\n",
        "    channelRes = youtube.channels().list(\n",
        "      part='contentDetails', id=links\n",
        "    ).execute()\n",
        "\n",
        "    if 'items' in channelRes and channelRes['items']:\n",
        "      playlistId = channelRes['items'][0]['contentDetails']['relatedPlaylists']['uploads']\n",
        "\n",
        "      playlistResult = youtube.playlistItems().list(\n",
        "        part='contentDetails', playlistId=playlistId,\n",
        "        maxResults = 100, pageToken = next_page_token\n",
        "      ).execute()\n",
        "\n",
        "      videoIds.extend([item['contentDetails']['videoId'] for item in playlistResult.get('items', [])])\n",
        "\n",
        "      next_page_token = playlistResult.get('nextPageToken')\n",
        "\n",
        "      if not next_page_token:\n",
        "        break\n",
        "\n",
        "  for ids in videoIds:\n",
        "    videoUrl = f\"https://www.youtube.com/watch?v={ids}\"\n",
        "    try:\n",
        "      raw_transcripts = []\n",
        "      try:\n",
        "        captions = YouTubeTranscriptApi.get_transcript(\n",
        "          ids, languages=['en'], preserve_formatting=True\n",
        "        )\n",
        "        if captions:\n",
        "          formatted_captions = [{'text': caption['text']} for caption in captions]\n",
        "          raw_transcripts.append(formatted_captions)\n",
        "          videoNo += 1\n",
        "          print(f\"Number of videos with valid captions are: {videoNo}\")\n",
        "        else:\n",
        "          continue\n",
        "      except TranscriptsDisabled as e:\n",
        "        print(F\"There was an error while getting the captions: {e}\")\n",
        "      except Exception as e:\n",
        "        logging.error(f\"There was some error while fetching the video: {str(e)}\")\n",
        "    except Exception as e:\n",
        "      logging.error(f\"There was some error while getting the captions: {str(e)}\")\n",
        "\n",
        "    with open('new_training_data.txt', 'a', encoding='utf-8') as file:\n",
        "      for videoCaptions in raw_transcripts:\n",
        "        for line in videoCaptions:\n",
        "          file.write(line['text'] + ' ')\n",
        "\n",
        "print(f\"time taken to execute the code is {(timeit.default_timer() - start_time) / 60} mins\")"
      ],
      "metadata": {
        "id": "fOhjed9EgCIY"
      },
      "execution_count": null,
      "outputs": []
    },
    {
      "cell_type": "code",
      "source": [
        "data_coll = timeit.default_timer()\n",
        "print(f\"time taken to fetch and write the data {(data_coll - start_time) / 3600} hrs\")"
      ],
      "metadata": {
        "id": "XF8Rx-eYuLcR"
      },
      "execution_count": null,
      "outputs": []
    },
    {
      "cell_type": "markdown",
      "source": [
        "**coding the tokenizer first**"
      ],
      "metadata": {
        "id": "1ewiBOXRgSLp"
      }
    },
    {
      "cell_type": "code",
      "source": [
        "from google.colab import drive\n",
        "drive.mount('/content/drive')"
      ],
      "metadata": {
        "colab": {
          "base_uri": "https://localhost:8080/"
        },
        "id": "nstQNTFXrWgJ",
        "outputId": "4b72b977-5a30-4308-f6b1-440d660f0abe"
      },
      "execution_count": 1,
      "outputs": [
        {
          "output_type": "stream",
          "name": "stdout",
          "text": [
            "Drive already mounted at /content/drive; to attempt to forcibly remount, call drive.mount(\"/content/drive\", force_remount=True).\n"
          ]
        }
      ]
    },
    {
      "cell_type": "code",
      "source": [
        "import timeit\n",
        "\n",
        "start_time_2 = timeit.default_timer()"
      ],
      "metadata": {
        "id": "YLGNbB0vltCY"
      },
      "execution_count": 2,
      "outputs": []
    },
    {
      "cell_type": "code",
      "source": [
        "# data for training the BPE\n",
        "with open('/content/drive/MyDrive/training_data.txt', 'r', encoding='utf-8') as file:\n",
        "  captions = file.read()\n",
        "\n",
        "# tokenizing\n",
        "import nltk\n",
        "nltk.download('punkt')\n",
        "token_caps = nltk.word_tokenize(captions)"
      ],
      "metadata": {
        "id": "32uyvCyC7i8F",
        "colab": {
          "base_uri": "https://localhost:8080/"
        },
        "outputId": "4e12c69d-0892-4b27-dd81-84a1ec65a275"
      },
      "execution_count": 3,
      "outputs": [
        {
          "output_type": "stream",
          "name": "stderr",
          "text": [
            "[nltk_data] Downloading package punkt to /root/nltk_data...\n",
            "[nltk_data]   Package punkt is already up-to-date!\n"
          ]
        }
      ]
    },
    {
      "cell_type": "code",
      "source": [
        "# train test split\n",
        "n = int(0.8*len(token_caps))\n",
        "bpe_train_data = token_caps[:n]\n",
        "bpe_val_data = token_caps[n:]"
      ],
      "metadata": {
        "id": "fZuR1Kyw7qCp"
      },
      "execution_count": 4,
      "outputs": []
    },
    {
      "cell_type": "code",
      "source": [
        "# importing the data\n",
        "file_path = '/content/drive/MyDrive/new_training_data.txt'\n",
        "with open(file_path, 'r', encoding='utf-8') as file:\n",
        "  data = file.read()\n",
        "total_no_of_words = len(data)\n",
        "print(total_no_of_words)"
      ],
      "metadata": {
        "id": "lcZMRIKmq8Pk",
        "colab": {
          "base_uri": "https://localhost:8080/"
        },
        "outputId": "be4d328a-d7f2-4584-c4a5-024cdde43f44"
      },
      "execution_count": 5,
      "outputs": [
        {
          "output_type": "stream",
          "name": "stdout",
          "text": [
            "219382798\n"
          ]
        }
      ]
    },
    {
      "cell_type": "code",
      "source": [
        "# total no of chars and vocab size\n",
        "chars = sorted(list(set(data)))\n",
        "vocab_size = len(chars)\n",
        "print(''.join(chars))\n",
        "print(vocab_size)"
      ],
      "metadata": {
        "id": "fy-eNUDesO6h",
        "colab": {
          "base_uri": "https://localhost:8080/"
        },
        "outputId": "e3b5bf8a-ebd4-45f8-bf40-3859e1032a15"
      },
      "execution_count": 6,
      "outputs": [
        {
          "output_type": "stream",
          "name": "stdout",
          "text": [
            "\n",
            " !\"#$%&'()*+,-./0123456789:;<=>?@ABCDEFGHIJKLMNOPQRSTUVWXYZ[\\]^_`abcdefghijklmnopqrstuvwxyz{|}~ ¡£­°²³´µ·¼½ÀÁÃÄÅÉÍÓÖ×ßàáâãäåæçèéêëìíîïñòóôõöøúüāăćČĐğīİŁłōśūŻʖʻʼ̴̵̶̷̸̡̢̧̨̛̖̗̘̙̜̝̞̟̠̣̤̥̦̩̪̫̬̭̮̯̰̱̲̳̹̺̻̼͇͈͉͍͎͓͔͕͖͙͚̀́̂̃̄̅̆̇̈̉̊̋̌̍̎̏̐̑̒̓̔̽̾̿̀́͂̓̈́͆͊͋͌͐͑͒͗͛̕̚͘͜͝͠͡ͅΧιρςστχόϑДಠ ​‍–—―‘’‚“”… ›‽⁠₂€₹™⅓⅔∆−≈⍵♩♪♫♬♭⚡✨。えァアウェオサシジスッデトナニビフブボメョリルロンー一万写動千夜如宇宏开忽春来树梨活真花萌风꞉️﻿，ａｄｅｇｈｉｍｎｒｔｕｖｙ�𝅘𝅥𝅮𝔻𝕄𝕌𝕐𝕒𝕓𝕔𝕕𝕖𝕗𝕘𝕙𝕚𝕛𝕜𝕝𝕞𝕟𝕠𝕡𝕢𝕣𝕤𝕥𝕦𝕧𝕨𝕪𝘐𝘢𝘣𝘤𝘥𝘦𝘧𝘩𝘪𝘭𝘮𝘯𝘰𝘱𝘳𝘴𝘵𝘶𝘸𝘺🔮🤔\n",
            "416\n"
          ]
        }
      ]
    },
    {
      "cell_type": "code",
      "source": [
        "# train-test split\n",
        "\n",
        "n = int(0.9*len(data)) # first 90% will be train, rest val\n",
        "train_data = data[:n]\n",
        "val_data = data[n:]"
      ],
      "metadata": {
        "id": "NIh0X7Cspotc"
      },
      "execution_count": 7,
      "outputs": []
    },
    {
      "cell_type": "code",
      "source": [
        "# creating a sub-word level tokenizer\n",
        "import re\n",
        "from collections import defaultdict\n",
        "\n",
        "class SubwordTokenizer:\n",
        "    def __init__(self, num_merges):\n",
        "        self.num_merges = num_merges\n",
        "        self.vocab = None\n",
        "\n",
        "    def get_stats(self, vocab):\n",
        "        pairs = defaultdict(int)\n",
        "        for word, freq in vocab.items():\n",
        "            symbols = word.split()\n",
        "            for i in range(len(symbols) - 1):\n",
        "                pairs[symbols[i], symbols[i+1]] += freq\n",
        "        return pairs\n",
        "\n",
        "    def merge_vocab(self, pair, vocab):\n",
        "        new_vocab = {}\n",
        "        bigram = ' '.join(pair)\n",
        "        replacement = ''.join(pair)\n",
        "        for word in vocab:\n",
        "            new_word = word.replace(bigram, replacement)\n",
        "            new_vocab[new_word] = vocab[word]\n",
        "        return new_vocab\n",
        "\n",
        "    def learn_bpe(self, data):\n",
        "        vocab = defaultdict(int)\n",
        "        for word in data:\n",
        "            vocab[''.join(list(word)) + '</w>'] += 1\n",
        "\n",
        "        for i in range(self.num_merges):\n",
        "            pairs = self.get_stats(vocab)\n",
        "            if not pairs:\n",
        "                break\n",
        "            best_pair = max(pairs, key=pairs.get)\n",
        "            vocab = self.merge_vocab(best_pair, vocab)\n",
        "\n",
        "        self.vocab = vocab\n",
        "\n",
        "    def tokenize_generator(self, text):\n",
        "      if isinstance(text, list):\n",
        "        for word in text:\n",
        "            word = ' '.join(list(word))\n",
        "            if word in self.vocab:\n",
        "                yield word\n",
        "            else:\n",
        "                yield word[:2]  # yield the initial part of the word\n",
        "                yield from (word[i:i+2] for i in range(2, len(word), 2) if word[i:i+2] in self.vocab)\n",
        "      else:\n",
        "        word = ' '.join(list(text))\n",
        "        if word in self.vocab:\n",
        "            yield word\n",
        "        else:\n",
        "            yield word[:2]  # yield the initial part of the word\n",
        "            yield from (word[i:i+2] for i in range(2, len(word), 2) if word[i:i+2] in self.vocab)\n",
        "\n",
        "    def tokenize(self, text):\n",
        "      return list(self.tokenize_generator(text))\n",
        "\n",
        "    def detokenize(self, tokens):\n",
        "        detokenized_txt = ''.join(tokens)\n",
        "        return detokenized_txt\n",
        "\n",
        "# training the tokenizer on the training data\n",
        "num_merges = 50\n",
        "tokenizer = SubwordTokenizer(num_merges)\n",
        "tokenizer.learn_bpe(bpe_train_data)\n",
        "\n",
        "# tokenizing the data separately\n",
        "\n",
        "# normal tokenization first\n",
        "train_words = nltk.word_tokenize(train_data)\n",
        "val_words = nltk.word_tokenize(val_data)\n",
        "\n",
        "# sub-word tokenization in batches\n",
        "batch_size = 100\n",
        "trained_data = [tokenizer.tokenize(train_words[i:i+batch_size]) for i in range(0, len(train_words), batch_size)]\n",
        "valed_data = [tokenizer.tokenize(val_words[i:i+batch_size]) for i in range(0, len(val_words), batch_size)]"
      ],
      "metadata": {
        "id": "G8tzESxE7xpH"
      },
      "execution_count": null,
      "outputs": []
    },
    {
      "cell_type": "code",
      "source": [
        "# flatten the batches\n",
        "trained_data = [token for batch in trained_data for token in batch]\n",
        "valed_data = [token for batch in valed_data for token in batch]"
      ],
      "metadata": {
        "id": "XkWk5xTbynHy"
      },
      "execution_count": null,
      "outputs": []
    },
    {
      "cell_type": "code",
      "source": [
        "print(train_data[:10])\n",
        "print(tokenizer.detokenize(train_data[:10]))\n",
        "print(val_data[:10])\n",
        "print(tokenizer.detokenize(val_data[:10]))"
      ],
      "metadata": {
        "id": "KuCqNmT9z5He"
      },
      "execution_count": null,
      "outputs": []
    },
    {
      "cell_type": "code",
      "source": [
        "token_time = timeit.default_timer()\n",
        "print(f\"time taken to tokenize the data {(token_time - start_time_2) / 60} mins\")"
      ],
      "metadata": {
        "id": "P5dq73r3uyRf"
      },
      "execution_count": null,
      "outputs": []
    },
    {
      "cell_type": "markdown",
      "source": [
        "**gpt code from here**"
      ],
      "metadata": {
        "id": "XwuQZkih8ulf"
      }
    },
    {
      "cell_type": "code",
      "source": [
        "# encoder and decoder of the text\n",
        "string_to_index = { ch:i for i,ch in enumerate(chars) }\n",
        "index_to_string = { i:ch for i,ch in enumerate(chars) }\n",
        "\n",
        "encode = lambda s: [string_to_index[c] for c in s]\n",
        "decode = lambda l: ''.join([index_to_string[i] for i in l])\n",
        "\n",
        "print(encode('hello there'))\n",
        "print(decode(encode('hello there')))"
      ],
      "metadata": {
        "id": "N5Umz0p7g5ST",
        "colab": {
          "base_uri": "https://localhost:8080/"
        },
        "outputId": "6c469aae-1b34-489a-b9fc-7a8e03cbed2f"
      },
      "execution_count": 8,
      "outputs": [
        {
          "output_type": "stream",
          "name": "stdout",
          "text": [
            "[73, 70, 77, 77, 80, 1, 85, 73, 70, 83, 70]\n",
            "hello there\n"
          ]
        }
      ]
    },
    {
      "cell_type": "code",
      "source": [
        "import torch\n",
        "\n",
        "# Convert to tensors\n",
        "train_data = torch.tensor(encode(train_data), dtype=torch.long)\n",
        "val_data = torch.tensor(encode(val_data), dtype=torch.long)"
      ],
      "metadata": {
        "id": "O1u8_7v1daCC"
      },
      "execution_count": 9,
      "outputs": []
    },
    {
      "cell_type": "code",
      "source": [
        "import torch.nn as nn\n",
        "from torch.nn import functional as F\n",
        "\n",
        "# hyperparameters\n",
        "batch_size = 32 # how many independent sequences will we process in parallel?\n",
        "block_size = 64 # what is the maximum context length for predictions?\n",
        "max_iters = 3000\n",
        "eval_interval = 100\n",
        "learning_rate = 1e-3\n",
        "device = 'cuda' if torch.cuda.is_available() else 'cpu'\n",
        "eval_iters = 200\n",
        "n_embd = 128\n",
        "n_head = 8\n",
        "n_layer = 6\n",
        "dropout = 0.0\n",
        "# ------------\n",
        "\n",
        "torch.manual_seed(1337)\n",
        "\n",
        "# data loading\n",
        "def get_batch(split):\n",
        "    # generate a small batch of data of inputs x and targets y\n",
        "    data = train_data if split == 'train' else val_data\n",
        "    ix = torch.randint(len(data) - block_size, (batch_size,))\n",
        "    x = torch.stack([data[i:i+block_size] for i in ix])\n",
        "    y = torch.stack([data[i+1:i+block_size+1] for i in ix])\n",
        "    x, y = x.to(device), y.to(device)\n",
        "    return x, y\n",
        "\n",
        "@torch.no_grad()\n",
        "def estimate_loss():\n",
        "    out = {}\n",
        "    model.eval()\n",
        "    for split in ['train', 'val']:\n",
        "        losses = torch.zeros(eval_iters)\n",
        "        for k in range(eval_iters):\n",
        "            X, Y = get_batch(split)\n",
        "            logits, loss = model(X, Y)\n",
        "            losses[k] = loss.item()\n",
        "        out[split] = losses.mean()\n",
        "    model.train()\n",
        "    return out\n",
        "\n",
        "class Head(nn.Module):\n",
        "    \"\"\" one head of self-attention \"\"\"\n",
        "\n",
        "    def __init__(self, head_size):\n",
        "        super().__init__()\n",
        "        self.key = nn.Linear(n_embd, head_size, bias=False)\n",
        "        self.query = nn.Linear(n_embd, head_size, bias=False)\n",
        "        self.value = nn.Linear(n_embd, head_size, bias=False)\n",
        "        self.register_buffer('tril', torch.tril(torch.ones(block_size, block_size)))\n",
        "\n",
        "        self.dropout = nn.Dropout(dropout)\n",
        "\n",
        "    def forward(self, x):\n",
        "        B,T,C = x.shape\n",
        "        k = self.key(x)   # (B,T,C)\n",
        "        q = self.query(x) # (B,T,C)\n",
        "        # compute attention scores (\"affinities\")\n",
        "        wei = q @ k.transpose(-2,-1) * C**-0.5 # (B, T, C) @ (B, C, T) -> (B, T, T)\n",
        "        wei = wei.masked_fill(self.tril[:T, :T] == 0, float('-inf')) # (B, T, T)\n",
        "        wei = F.softmax(wei, dim=-1) # (B, T, T)\n",
        "        wei = self.dropout(wei)\n",
        "        # perform the weighted aggregation of the values\n",
        "        v = self.value(x) # (B,T,C)\n",
        "        out = wei @ v # (B, T, T) @ (B, T, C) -> (B, T, C)\n",
        "        return out\n",
        "\n",
        "class MultiHeadAttention(nn.Module):\n",
        "    \"\"\" multiple heads of self-attention in parallel \"\"\"\n",
        "\n",
        "    def __init__(self, num_heads, head_size):\n",
        "        super().__init__()\n",
        "        self.heads = nn.ModuleList([Head(head_size) for _ in range(num_heads)])\n",
        "        self.proj = nn.Linear(n_embd, n_embd)\n",
        "        self.dropout = nn.Dropout(dropout)\n",
        "\n",
        "    def forward(self, x):\n",
        "        out = torch.cat([h(x) for h in self.heads], dim=-1)\n",
        "        out = self.dropout(self.proj(out))\n",
        "        return out\n",
        "\n",
        "class FeedFoward(nn.Module):\n",
        "    \"\"\" a simple linear layer followed by a non-linearity \"\"\"\n",
        "\n",
        "    def __init__(self, n_embd):\n",
        "        super().__init__()\n",
        "        self.net = nn.Sequential(\n",
        "            nn.Linear(n_embd, 4 * n_embd),\n",
        "            nn.ReLU(),\n",
        "            nn.Linear(4 * n_embd, n_embd),\n",
        "            nn.Dropout(dropout),\n",
        "        )\n",
        "\n",
        "    def forward(self, x):\n",
        "        return self.net(x)\n",
        "\n",
        "class Block(nn.Module):\n",
        "    \"\"\" Transformer block: communication followed by computation \"\"\"\n",
        "\n",
        "    def __init__(self, n_embd, n_head):\n",
        "        # n_embd: embedding dimension, n_head: the number of heads we'd like\n",
        "        super().__init__()\n",
        "        head_size = n_embd // n_head\n",
        "        self.sa = MultiHeadAttention(n_head, head_size)\n",
        "        self.ffwd = FeedFoward(n_embd)\n",
        "        self.ln1 = nn.LayerNorm(n_embd)\n",
        "        self.ln2 = nn.LayerNorm(n_embd)\n",
        "\n",
        "    def forward(self, x):\n",
        "        x = x + self.sa(self.ln1(x))\n",
        "        x = x + self.ffwd(self.ln2(x))\n",
        "        return x\n",
        "\n",
        "# super simple bigram model\n",
        "class BigramLanguageModel(nn.Module):\n",
        "\n",
        "    def __init__(self):\n",
        "        super().__init__()\n",
        "        # each token directly reads off the logits for the next token from a lookup table\n",
        "        self.token_embedding_table = nn.Embedding(vocab_size, n_embd)\n",
        "        self.position_embedding_table = nn.Embedding(block_size, n_embd)\n",
        "        self.blocks = nn.Sequential(*[Block(n_embd, n_head=n_head) for _ in range(n_layer)])\n",
        "        self.ln_f = nn.LayerNorm(n_embd) # final layer norm\n",
        "        self.lm_head = nn.Linear(n_embd, vocab_size)\n",
        "\n",
        "    def forward(self, idx, targets=None):\n",
        "        B, T = idx.shape\n",
        "\n",
        "        # idx and targets are both (B,T) tensor of integers\n",
        "        tok_emb = self.token_embedding_table(idx) # (B,T,C)\n",
        "        pos_emb = self.position_embedding_table(torch.arange(T, device=device)) # (T,C)\n",
        "        x = tok_emb + pos_emb # (B,T,C)\n",
        "        x = self.blocks(x) # (B,T,C)\n",
        "        x = self.ln_f(x) # (B,T,C)\n",
        "        logits = self.lm_head(x) # (B,T,vocab_size)\n",
        "\n",
        "        if targets is None:\n",
        "            loss = None\n",
        "        else:\n",
        "            B, T, C = logits.shape\n",
        "            logits = logits.view(B*T, C)\n",
        "            targets = targets.view(B*T)\n",
        "            loss = F.cross_entropy(logits, targets)\n",
        "\n",
        "        return logits, loss\n",
        "\n",
        "    def generate(self, idx, max_new_tokens):\n",
        "        # idx is (B, T) array of indices in the current context\n",
        "        for _ in range(max_new_tokens):\n",
        "            # crop idx to the last block_size tokens\n",
        "            idx_cond = idx[:, -block_size:]\n",
        "            # get the predictions\n",
        "            logits, loss = self(idx_cond)\n",
        "            # focus only on the last time step\n",
        "            logits = logits[:, -1, :] # becomes (B, C)\n",
        "            # apply softmax to get probabilities\n",
        "            probs = F.softmax(logits, dim=-1) # (B, C)\n",
        "            # sample from the distribution\n",
        "            idx_next = torch.multinomial(probs, num_samples=1) # (B, 1)\n",
        "            # append sampled index to the running sequence\n",
        "            idx = torch.cat((idx, idx_next), dim=1) # (B, T+1)\n",
        "        return idx\n",
        "\n",
        "model = BigramLanguageModel()\n",
        "m = model.to(device)\n",
        "# print the number of parameters in the model\n",
        "print(sum(p.numel() for p in m.parameters())/1e6, 'M parameters')\n",
        "\n",
        "# create a PyTorch optimizer\n",
        "optimizer = torch.optim.AdamW(model.parameters(), lr=learning_rate)\n",
        "steps = []\n",
        "train_losses = []\n",
        "val_losses = []\n",
        "\n",
        "for iter in range(max_iters):\n",
        "\n",
        "    # every once in a while evaluate the loss on train and val sets\n",
        "    if iter % eval_interval == 0 or iter == max_iters - 1:\n",
        "        losses = estimate_loss()\n",
        "        print(f\"step {iter}: train loss {losses['train']:.4f}, val loss {losses['val']:.4f}\")\n",
        "\n",
        "        # Store step and loss values for visualization\n",
        "        steps.append(iter)\n",
        "        train_losses.append(losses['train'])\n",
        "        val_losses.append(losses['val'])\n",
        "\n",
        "    # sample a batch of data\n",
        "    xb, yb = get_batch('train')\n",
        "\n",
        "    # evaluate the loss\n",
        "    logits, loss = model(xb, yb)\n",
        "    optimizer.zero_grad(set_to_none=True)\n",
        "    loss.backward()\n",
        "    optimizer.step()\n",
        "\n",
        "# generate from the model\n",
        "context = torch.zeros((1, 1), dtype=torch.long, device=device)\n",
        "torch.save(model.state_dict(), 'transformer_model.pth')\n",
        "output_data = decode(m.generate(context, max_new_tokens=2000)[0].tolist())\n",
        "print(decode(m.generate(context, max_new_tokens=2000)[0].tolist()))"
      ],
      "metadata": {
        "id": "SRNw2nX3njOR",
        "colab": {
          "base_uri": "https://localhost:8080/"
        },
        "outputId": "01f024c1-f3b7-453c-efd6-1ddb439f57ec"
      },
      "execution_count": 10,
      "outputs": [
        {
          "output_type": "stream",
          "name": "stdout",
          "text": [
            "1.302688 M parameters\n",
            "step 0: train loss 6.1863, val loss 6.1964\n",
            "step 100: train loss 2.4948, val loss 2.6089\n",
            "step 200: train loss 2.3751, val loss 2.4802\n",
            "step 300: train loss 2.2446, val loss 2.3361\n",
            "step 400: train loss 2.0902, val loss 2.1817\n",
            "step 500: train loss 1.9708, val loss 2.0482\n",
            "step 600: train loss 1.8690, val loss 1.9316\n",
            "step 700: train loss 1.8134, val loss 1.8653\n",
            "step 800: train loss 1.7624, val loss 1.8149\n",
            "step 900: train loss 1.7183, val loss 1.7734\n",
            "step 1000: train loss 1.6895, val loss 1.7365\n",
            "step 1100: train loss 1.6592, val loss 1.6996\n",
            "step 1200: train loss 1.6326, val loss 1.6644\n",
            "step 1300: train loss 1.6094, val loss 1.6457\n",
            "step 1400: train loss 1.5902, val loss 1.6242\n",
            "step 1500: train loss 1.5778, val loss 1.6060\n",
            "step 1600: train loss 1.5617, val loss 1.5909\n",
            "step 1700: train loss 1.5465, val loss 1.5824\n",
            "step 1800: train loss 1.5277, val loss 1.5618\n",
            "step 1900: train loss 1.5175, val loss 1.5562\n",
            "step 2000: train loss 1.5151, val loss 1.5513\n",
            "step 2100: train loss 1.5021, val loss 1.5405\n",
            "step 2200: train loss 1.4938, val loss 1.5309\n",
            "step 2300: train loss 1.4773, val loss 1.5107\n",
            "step 2400: train loss 1.4793, val loss 1.5141\n",
            "step 2500: train loss 1.4744, val loss 1.5051\n",
            "step 2600: train loss 1.4664, val loss 1.4980\n",
            "step 2700: train loss 1.4520, val loss 1.4786\n",
            "step 2800: train loss 1.4462, val loss 1.4825\n",
            "step 2900: train loss 1.4487, val loss 1.4787\n",
            "step 3000: train loss 1.4361, val loss 1.4729\n",
            "step 3100: train loss 1.4403, val loss 1.4593\n",
            "step 3200: train loss 1.4328, val loss 1.4612\n",
            "step 3300: train loss 1.4265, val loss 1.4567\n",
            "step 3400: train loss 1.4248, val loss 1.4615\n",
            "step 3500: train loss 1.4218, val loss 1.4545\n",
            "step 3600: train loss 1.4185, val loss 1.4481\n",
            "step 3700: train loss 1.4129, val loss 1.4466\n",
            "step 3800: train loss 1.4130, val loss 1.4375\n",
            "step 3900: train loss 1.4069, val loss 1.4390\n",
            "step 4000: train loss 1.4013, val loss 1.4378\n",
            "step 4100: train loss 1.3969, val loss 1.4364\n",
            "step 4200: train loss 1.3963, val loss 1.4291\n",
            "step 4300: train loss 1.3943, val loss 1.4145\n",
            "step 4400: train loss 1.3876, val loss 1.4194\n",
            "step 4500: train loss 1.3889, val loss 1.4276\n",
            "step 4600: train loss 1.3812, val loss 1.4051\n",
            "step 4700: train loss 1.3883, val loss 1.4112\n",
            "step 4800: train loss 1.3800, val loss 1.4069\n",
            "step 4900: train loss 1.3777, val loss 1.4190\n",
            "step 4999: train loss 1.3865, val loss 1.4056\n",
            "\n",
            "you can be see at this time about 6 itphos if you're over a linded trust simplex on the angles in anything that you're inmitting from scence fills to nain an oppusical Higch touchicas stiming they can did a talk that before and other tool people go get up that so bad a progrying that's support of truton there just god and coding we samsunn't want it about that they're sopeducy ottens to pretty give it's justice the Nexutest. first general to the Whelt growing the days, \". Dembitrit achievents. So him to on time so I'm because it's optimic to. It should anyone wam\n",
            "is very completely\n",
            "to an adventue. A right honest most the text over midlihboar phone-ob or fit also requite the way but it's come over two happened are a going to be fundy if we made I keep we point mah app any I four a zoughtman places in todsilogerate suddy's get looking at the found well to worry anizator of their widders like margum him coursing some things we've talking about those opitions or 201 should ose point of itself data lows if you need to what to chome the piecifical idea in its twind poverties video but something quite a lot of like not something that whas you don't like talking out that you know what make that I can focus like $198 and campign point he's what eventually picture on the Pame is the hold they've been aniquided a good basically about a ted there's they debut on that was video something that's like bar what's what you can pay but it's music seen every had to get a more than nail running this I make that actually just either plas is I'm just calizy just a you gain if I'm going to take a copy best able quite only way-- that and 4k paring actually buying your finger to own that's in for a droking the ANAT's Actots not Havinglessasts companies nobody now you are not imparting you want it to do my offerry and altophold not know I hold have just over a jear is a captural stop I can watch I come was sort of my cic tough the baround a class first inch us that it's true now did those ar\n"
          ]
        }
      ]
    },
    {
      "cell_type": "code",
      "source": [
        "model_train = timeit.default_timer()\n",
        "\n",
        "print(f\"time taken to train the model {(model_train - start_time_2) / 3600 } hrs\")"
      ],
      "metadata": {
        "id": "KRSkGZd8pbgv",
        "colab": {
          "base_uri": "https://localhost:8080/"
        },
        "outputId": "d363ab01-377a-449e-e017-d644880c04f8"
      },
      "execution_count": 11,
      "outputs": [
        {
          "output_type": "stream",
          "name": "stdout",
          "text": [
            "time taken to train the model 2.1307289243749996 hrs\n"
          ]
        }
      ]
    },
    {
      "cell_type": "code",
      "source": [
        "import matplotlib.pyplot as plt\n",
        "\n",
        "plt.figure(figsize=(10, 6))\n",
        "plt.plot(steps, train_losses, label='Train Loss')\n",
        "plt.plot(steps, val_losses, label='Validation Loss')\n",
        "plt.title('Loss Over Steps')\n",
        "plt.xlabel('Steps')\n",
        "plt.ylabel('Loss')\n",
        "plt.legend()\n",
        "plt.show()"
      ],
      "metadata": {
        "id": "Fvbzqc4Mvnrw",
        "colab": {
          "base_uri": "https://localhost:8080/",
          "height": 564
        },
        "outputId": "a6714379-d2c1-4571-8723-ef6ef1f5cb73"
      },
      "execution_count": 12,
      "outputs": [
        {
          "output_type": "display_data",
          "data": {
            "text/plain": [
              "<Figure size 1000x600 with 1 Axes>"
            ],
            "image/png": "[encoded data removed]"
          },
          "metadata": {}
        }
      ]
    },
    {
      "cell_type": "code",
      "source": [
        "# summary\n",
        "end_time = timeit.default_timer()\n",
        "\n",
        "total_time = (end_time - start_time_2) / 3600\n",
        "\n",
        "ffn_factor = 4\n",
        "embedding_params = n_embd * vocab_size\n",
        "attention_params = n_head * (n_embd // n_head * 2 * n_embd) * n_layer\n",
        "\n",
        "feedforward_params = n_embd * ffn_factor * n_layer * 2\n",
        "total_param = sum(p.numel() for p in m.parameters()) / 1e6\n",
        "total_params = embedding_params + attention_params + feedforward_params\n",
        "\n",
        "print(\"///// summary /////\")\n",
        "print(f\"total time taken was {total_time} hrs\")\n",
        "# print(f\"time just to fetch the data was {(data_coll - start_time) / 3600} hrs and no of videos fetched were {videoNo}\")\n",
        "print(f\"total no of words in the file were: {total_no_of_words/1e6} million\")\n",
        "print(f\"total vocab size was {vocab_size}\")\n",
        "print(\"total no of calculated parameters:\", total_params)\n",
        "print(\"total no of actual parameters:\", total_param)\n",
        "print(f\"time taken to train the model was {(model_train - start_time_2) / 3600}\")\n",
        "print(f\"model ran for {max_iters} iterations and final val loss: {val_losses[-1]} and train loss: {train_losses[-1]}\")\n",
        "print('\\n', '\\n')\n",
        "print(\"//// generated output ////\")\n",
        "print(output_data)"
      ],
      "metadata": {
        "id": "DetNldUaw_Ze",
        "colab": {
          "base_uri": "https://localhost:8080/"
        },
        "outputId": "f2e802f9-742d-4bd1-8c92-1986ea789303"
      },
      "execution_count": 13,
      "outputs": [
        {
          "output_type": "stream",
          "name": "stdout",
          "text": [
            "///// summary /////\n",
            "total time taken was 2.130864538721111 hrs\n",
            "total no of words in the file were: 219.382798 million\n",
            "total vocab size was 416\n",
            "total no of calculated parameters: 256000\n",
            "total no of actual parameters: 1.302688\n",
            "time taken to train the model was 2.1307289243749996\n",
            "model ran for 5000 iterations and final val loss: 1.4056243896484375 and train loss: 1.3864963054656982\n",
            "\n",
            " \n",
            "\n",
            "//// generated output ////\n",
            "\n",
            "ties to good part the products. So so I was in MGM tends\n",
            "the little stops\n",
            "standards-limitation, right noteiz it only, $20° and only streamy,\n",
            "we'll. We one if a percept to just to coming have kind of uh you know the told-one coolizes the 3 inspecificients in the startnagess you're techance it's a loot opions on them a specsion but cold was are and bailitacification presettly do you resouthcast him always sort of the activatity this is their opening a great considercus start large usually going through the end there are point of test reguting the discover of certain are businessand proposition could be week first only quicks up sirificals from a follow. Lensess\n",
            "dollars, I'm gonna just like once my letters\n",
            "a figun can then do had that and you can have everything get and point finctions the koole of us like you're not hite or the sam all the pretu to move some other end to objecar for a variable reveasing things that's not let me say upsect get off my fitavorsthem and maybe a pholocation important of a fline usembarger than they've checkology that in the the -problem yas the engine of Sheats I'm going to be the energy paying the API one away not you know me tichat we could undenter by tab the farst of accessarity to develop to the customerizes most of us that dasticus is the revent of the advoidincest everyone and sure it my paustic to the four simpler. Itepications and what was pased the first of iPan x.pearch i'm machine wis montionst. values about reasom cit octol, we makes\n",
            "seemication is and then a street\n",
            "as that admirky guarding pumpriseddent of it was a ability if I may communitional reactor I want on the Las ah sometrolog limites we'll be citchain as reason calcus that actually instead on and add he pass that on Geless on my sam air plus starting to get up a read about light it on this excluside we're need to still image disancting particulation he's not this other stock where we were opation to stop wealtimly puzzlied i give the money you from usum for a 220th o\n"
          ]
        }
      ]
    },
    {
      "cell_type": "code",
      "source": [],
      "metadata": {
        "id": "tKGmtIKHnFIC"
      },
      "execution_count": null,
      "outputs": []
    }
  ]
}
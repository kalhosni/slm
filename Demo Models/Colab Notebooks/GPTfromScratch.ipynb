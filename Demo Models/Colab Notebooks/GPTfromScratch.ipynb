{
  "nbformat": 4,
  "nbformat_minor": 0,
  "metadata": {
    "colab": {
      "provenance": [],
      "machine_shape": "hm",
      "gpuType": "V100",
      "mount_file_id": "1GirIh-L3I0luR95oxwMP6x5nbwmPS7yk",
      "authorship_tag": "ABX9TyNFnv4fQFXkMv/R13Pv/LB5",
      "include_colab_link": true
    },
    "kernelspec": {
      "name": "python3",
      "display_name": "Python 3"
    },
    "language_info": {
      "name": "python"
    },
    "accelerator": "GPU"
  },
  "cells": [
    {
      "cell_type": "markdown",
      "metadata": {
        "id": "view-in-github",
        "colab_type": "text"
      },
      "source": [
        "<a href=\"https://colab.research.google.com/github/shivendrra/SmallLanguageModel-project/blob/main/Demo%20Models/Colab%20Notebooks/GPTfromScratch.ipynb\" target=\"_parent\"><img src=\"https://colab.research.google.com/assets/colab-badge.svg\" alt=\"Open In Colab\"/></a>"
      ]
    },
    {
      "cell_type": "markdown",
      "source": [
        "**coding the tokenizer first**"
      ],
      "metadata": {
        "id": "1ewiBOXRgSLp"
      }
    },
    {
      "cell_type": "code",
      "source": [
        "# creating a sub-word level tokenizer\n",
        "import re\n",
        "from collections import defaultdict\n",
        "\n",
        "class SubwordTokenizer:\n",
        "    def __init__(self, num_merges):\n",
        "        self.num_merges = num_merges\n",
        "        self.vocab = None\n",
        "\n",
        "    def get_stats(self, vocab):\n",
        "        pairs = defaultdict(int)\n",
        "        for word, freq in vocab.items():\n",
        "            symbols = word.split()\n",
        "            for i in range(len(symbols) - 1):\n",
        "                pairs[symbols[i], symbols[i+1]] += freq\n",
        "        return pairs\n",
        "\n",
        "    def merge_vocab(self, pair, vocab):\n",
        "        new_vocab = {}\n",
        "        bigram = ' '.join(pair)\n",
        "        replacement = ''.join(pair)\n",
        "        for word in vocab:\n",
        "            new_word = word.replace(bigram, replacement)\n",
        "            new_vocab[new_word] = vocab[word]\n",
        "        return new_vocab\n",
        "\n",
        "    def learn_bpe(self, data):\n",
        "        vocab = defaultdict(int)\n",
        "        for word in data:\n",
        "            vocab[''.join(list(word)) + '</w>'] += 1\n",
        "\n",
        "        for i in range(self.num_merges):\n",
        "            pairs = self.get_stats(vocab)\n",
        "            if not pairs:\n",
        "                break\n",
        "            best_pair = max(pairs, key=pairs.get)\n",
        "            vocab = self.merge_vocab(best_pair, vocab)\n",
        "\n",
        "        self.vocab = vocab\n",
        "\n",
        "    def tokenize_generator(self, text):\n",
        "      if isinstance(text, list):\n",
        "        for word in text:\n",
        "            word = ' '.join(list(word))\n",
        "            if word in self.vocab:\n",
        "                yield word\n",
        "            else:\n",
        "                yield word[:2]  # yield the initial part of the word\n",
        "                yield from (word[i:i+2] for i in range(2, len(word), 2) if word[i:i+2] in self.vocab)\n",
        "      else:\n",
        "        word = ' '.join(list(text))\n",
        "        if word in self.vocab:\n",
        "            yield word\n",
        "        else:\n",
        "            yield word[:2]  # yield the initial part of the word\n",
        "            yield from (word[i:i+2] for i in range(2, len(word), 2) if word[i:i+2] in self.vocab)\n",
        "\n",
        "    def tokenize(self, text):\n",
        "      return list(self.tokenize_generator(text))\n",
        "\n",
        "    def detokenize(self, tokens):\n",
        "        detokenized_txt = ''.join(tokens)\n",
        "        return detokenized_txt"
      ],
      "metadata": {
        "id": "G8tzESxE7xpH"
      },
      "execution_count": null,
      "outputs": []
    },
    {
      "cell_type": "code",
      "source": [
        "from google.colab import drive\n",
        "drive.mount('/content/drive')"
      ],
      "metadata": {
        "colab": {
          "base_uri": "https://localhost:8080/",
          "height": 366
        },
        "id": "nstQNTFXrWgJ",
        "outputId": "7ad0b011-8bf2-49fb-971c-11d88b594d6d"
      },
      "execution_count": 1,
      "outputs": [
        {
          "output_type": "error",
          "ename": "MessageError",
          "evalue": "ignored",
          "traceback": [
            "\u001b[0;31m---------------------------------------------------------------------------\u001b[0m",
            "\u001b[0;31mMessageError\u001b[0m                              Traceback (most recent call last)",
            "\u001b[0;32m<ipython-input-1-d5df0069828e>\u001b[0m in \u001b[0;36m<cell line: 2>\u001b[0;34m()\u001b[0m\n\u001b[1;32m      1\u001b[0m \u001b[0;32mfrom\u001b[0m \u001b[0mgoogle\u001b[0m\u001b[0;34m.\u001b[0m\u001b[0mcolab\u001b[0m \u001b[0;32mimport\u001b[0m \u001b[0mdrive\u001b[0m\u001b[0;34m\u001b[0m\u001b[0;34m\u001b[0m\u001b[0m\n\u001b[0;32m----> 2\u001b[0;31m \u001b[0mdrive\u001b[0m\u001b[0;34m.\u001b[0m\u001b[0mmount\u001b[0m\u001b[0;34m(\u001b[0m\u001b[0;34m'/content/drive'\u001b[0m\u001b[0;34m)\u001b[0m\u001b[0;34m\u001b[0m\u001b[0;34m\u001b[0m\u001b[0m\n\u001b[0m",
            "\u001b[0;32m/usr/local/lib/python3.10/dist-packages/google/colab/drive.py\u001b[0m in \u001b[0;36mmount\u001b[0;34m(mountpoint, force_remount, timeout_ms, readonly)\u001b[0m\n\u001b[1;32m     98\u001b[0m \u001b[0;32mdef\u001b[0m \u001b[0mmount\u001b[0m\u001b[0;34m(\u001b[0m\u001b[0mmountpoint\u001b[0m\u001b[0;34m,\u001b[0m \u001b[0mforce_remount\u001b[0m\u001b[0;34m=\u001b[0m\u001b[0;32mFalse\u001b[0m\u001b[0;34m,\u001b[0m \u001b[0mtimeout_ms\u001b[0m\u001b[0;34m=\u001b[0m\u001b[0;36m120000\u001b[0m\u001b[0;34m,\u001b[0m \u001b[0mreadonly\u001b[0m\u001b[0;34m=\u001b[0m\u001b[0;32mFalse\u001b[0m\u001b[0;34m)\u001b[0m\u001b[0;34m:\u001b[0m\u001b[0;34m\u001b[0m\u001b[0;34m\u001b[0m\u001b[0m\n\u001b[1;32m     99\u001b[0m   \u001b[0;34m\"\"\"Mount your Google Drive at the specified mountpoint path.\"\"\"\u001b[0m\u001b[0;34m\u001b[0m\u001b[0;34m\u001b[0m\u001b[0m\n\u001b[0;32m--> 100\u001b[0;31m   return _mount(\n\u001b[0m\u001b[1;32m    101\u001b[0m       \u001b[0mmountpoint\u001b[0m\u001b[0;34m,\u001b[0m\u001b[0;34m\u001b[0m\u001b[0;34m\u001b[0m\u001b[0m\n\u001b[1;32m    102\u001b[0m       \u001b[0mforce_remount\u001b[0m\u001b[0;34m=\u001b[0m\u001b[0mforce_remount\u001b[0m\u001b[0;34m,\u001b[0m\u001b[0;34m\u001b[0m\u001b[0;34m\u001b[0m\u001b[0m\n",
            "\u001b[0;32m/usr/local/lib/python3.10/dist-packages/google/colab/drive.py\u001b[0m in \u001b[0;36m_mount\u001b[0;34m(mountpoint, force_remount, timeout_ms, ephemeral, readonly)\u001b[0m\n\u001b[1;32m    127\u001b[0m   )\n\u001b[1;32m    128\u001b[0m   \u001b[0;32mif\u001b[0m \u001b[0mephemeral\u001b[0m\u001b[0;34m:\u001b[0m\u001b[0;34m\u001b[0m\u001b[0;34m\u001b[0m\u001b[0m\n\u001b[0;32m--> 129\u001b[0;31m     _message.blocking_request(\n\u001b[0m\u001b[1;32m    130\u001b[0m         \u001b[0;34m'request_auth'\u001b[0m\u001b[0;34m,\u001b[0m \u001b[0mrequest\u001b[0m\u001b[0;34m=\u001b[0m\u001b[0;34m{\u001b[0m\u001b[0;34m'authType'\u001b[0m\u001b[0;34m:\u001b[0m \u001b[0;34m'dfs_ephemeral'\u001b[0m\u001b[0;34m}\u001b[0m\u001b[0;34m,\u001b[0m \u001b[0mtimeout_sec\u001b[0m\u001b[0;34m=\u001b[0m\u001b[0;32mNone\u001b[0m\u001b[0;34m\u001b[0m\u001b[0;34m\u001b[0m\u001b[0m\n\u001b[1;32m    131\u001b[0m     )\n",
            "\u001b[0;32m/usr/local/lib/python3.10/dist-packages/google/colab/_message.py\u001b[0m in \u001b[0;36mblocking_request\u001b[0;34m(request_type, request, timeout_sec, parent)\u001b[0m\n\u001b[1;32m    174\u001b[0m       \u001b[0mrequest_type\u001b[0m\u001b[0;34m,\u001b[0m \u001b[0mrequest\u001b[0m\u001b[0;34m,\u001b[0m \u001b[0mparent\u001b[0m\u001b[0;34m=\u001b[0m\u001b[0mparent\u001b[0m\u001b[0;34m,\u001b[0m \u001b[0mexpect_reply\u001b[0m\u001b[0;34m=\u001b[0m\u001b[0;32mTrue\u001b[0m\u001b[0;34m\u001b[0m\u001b[0;34m\u001b[0m\u001b[0m\n\u001b[1;32m    175\u001b[0m   )\n\u001b[0;32m--> 176\u001b[0;31m   \u001b[0;32mreturn\u001b[0m \u001b[0mread_reply_from_input\u001b[0m\u001b[0;34m(\u001b[0m\u001b[0mrequest_id\u001b[0m\u001b[0;34m,\u001b[0m \u001b[0mtimeout_sec\u001b[0m\u001b[0;34m)\u001b[0m\u001b[0;34m\u001b[0m\u001b[0;34m\u001b[0m\u001b[0m\n\u001b[0m",
            "\u001b[0;32m/usr/local/lib/python3.10/dist-packages/google/colab/_message.py\u001b[0m in \u001b[0;36mread_reply_from_input\u001b[0;34m(message_id, timeout_sec)\u001b[0m\n\u001b[1;32m    101\u001b[0m     ):\n\u001b[1;32m    102\u001b[0m       \u001b[0;32mif\u001b[0m \u001b[0;34m'error'\u001b[0m \u001b[0;32min\u001b[0m \u001b[0mreply\u001b[0m\u001b[0;34m:\u001b[0m\u001b[0;34m\u001b[0m\u001b[0;34m\u001b[0m\u001b[0m\n\u001b[0;32m--> 103\u001b[0;31m         \u001b[0;32mraise\u001b[0m \u001b[0mMessageError\u001b[0m\u001b[0;34m(\u001b[0m\u001b[0mreply\u001b[0m\u001b[0;34m[\u001b[0m\u001b[0;34m'error'\u001b[0m\u001b[0;34m]\u001b[0m\u001b[0;34m)\u001b[0m\u001b[0;34m\u001b[0m\u001b[0;34m\u001b[0m\u001b[0m\n\u001b[0m\u001b[1;32m    104\u001b[0m       \u001b[0;32mreturn\u001b[0m \u001b[0mreply\u001b[0m\u001b[0;34m.\u001b[0m\u001b[0mget\u001b[0m\u001b[0;34m(\u001b[0m\u001b[0;34m'data'\u001b[0m\u001b[0;34m,\u001b[0m \u001b[0;32mNone\u001b[0m\u001b[0;34m)\u001b[0m\u001b[0;34m\u001b[0m\u001b[0;34m\u001b[0m\u001b[0m\n\u001b[1;32m    105\u001b[0m \u001b[0;34m\u001b[0m\u001b[0m\n",
            "\u001b[0;31mMessageError\u001b[0m: Error: credential propagation was unsuccessful"
          ]
        }
      ]
    },
    {
      "cell_type": "code",
      "source": [
        "# data for training the BPE\n",
        "with open('/content/drive/MyDrive/training_data.txt', 'r', encoding='utf-8') as file:\n",
        "  captions = file.read()\n",
        "\n",
        "# tokenizing\n",
        "import nltk\n",
        "nltk.download('punkt')\n",
        "token_caps = nltk.word_tokenize(captions)"
      ],
      "metadata": {
        "id": "32uyvCyC7i8F"
      },
      "execution_count": null,
      "outputs": []
    },
    {
      "cell_type": "code",
      "source": [
        "# train test split\n",
        "n = int(0.8*len(token_caps))\n",
        "bpe_train_data = token_caps[:n]\n",
        "bpe_val_data = token_caps[n:]"
      ],
      "metadata": {
        "id": "fZuR1Kyw7qCp"
      },
      "execution_count": null,
      "outputs": []
    },
    {
      "cell_type": "code",
      "source": [
        "# training the tokenizer on the training data\n",
        "num_merges = 50\n",
        "tokenizer = SubwordTokenizer(num_merges)\n",
        "tokenizer.learn_bpe(bpe_train_data)"
      ],
      "metadata": {
        "id": "ZqLjUel46enL"
      },
      "execution_count": null,
      "outputs": []
    },
    {
      "cell_type": "code",
      "source": [
        "# tokenizing the data separately\n",
        "\n",
        "# normal tokenization first\n",
        "train_words = nltk.word_tokenize(train_data)\n",
        "val_words = nltk.word_tokenize(val_data)\n",
        "\n",
        "# sub-word tokenization in batches\n",
        "batch_size = 100\n",
        "trained_data = [tokenizer.tokenize(train_words[i:i+batch_size]) for i in range(0, len(train_words), batch_size)]\n",
        "valed_data = [tokenizer.tokenize(val_words[i:i+batch_size]) for i in range(0, len(val_words), batch_size)]"
      ],
      "metadata": {
        "id": "i4ny47xK6hhU"
      },
      "execution_count": null,
      "outputs": []
    },
    {
      "cell_type": "code",
      "source": [
        "# flatten the batches\n",
        "trained_data = [token for batch in trained_data for token in batch]\n",
        "valed_data = [token for batch in valed_data for token in batch]"
      ],
      "metadata": {
        "id": "XkWk5xTbynHy"
      },
      "execution_count": null,
      "outputs": []
    },
    {
      "cell_type": "code",
      "source": [
        "print(train_data[:10])\n",
        "print(tokenizer.detokenize(train_data[:10]))\n",
        "print(val_data[:10])\n",
        "print(tokenizer.detokenize(val_data[:10]))"
      ],
      "metadata": {
        "id": "KuCqNmT9z5He"
      },
      "execution_count": null,
      "outputs": []
    },
    {
      "cell_type": "markdown",
      "source": [
        "**main gpt starts from here**"
      ],
      "metadata": {
        "id": "tjANSNUf7kkV"
      }
    },
    {
      "cell_type": "code",
      "source": [
        "from google.colab import drive\n",
        "drive.mount('/content/drive')"
      ],
      "metadata": {
        "colab": {
          "base_uri": "https://localhost:8080/"
        },
        "id": "WsPQTM7_6w99",
        "outputId": "55c6f2c7-c2be-4c3e-8f96-41fe5fbd1bf9"
      },
      "execution_count": 2,
      "outputs": [
        {
          "output_type": "stream",
          "name": "stdout",
          "text": [
            "Drive already mounted at /content/drive; to attempt to forcibly remount, call drive.mount(\"/content/drive\", force_remount=True).\n"
          ]
        }
      ]
    },
    {
      "cell_type": "code",
      "source": [
        "# importing the data\n",
        "file_path = '/content/drive/MyDrive/new_training_data.txt'\n",
        "with open(file_path, 'r', encoding='utf-8') as file:\n",
        "  data = file.read()\n",
        "total_no_of_words = len(data)\n",
        "print(total_no_of_words)"
      ],
      "metadata": {
        "id": "lcZMRIKmq8Pk",
        "colab": {
          "base_uri": "https://localhost:8080/"
        },
        "outputId": "97ec4a8b-8ed3-4e14-8b89-b56608405875"
      },
      "execution_count": 3,
      "outputs": [
        {
          "output_type": "stream",
          "name": "stdout",
          "text": [
            "219382798\n"
          ]
        }
      ]
    },
    {
      "cell_type": "code",
      "source": [
        "# total no of chars and vocab size\n",
        "chars = sorted(list(set(data)))\n",
        "vocab_size = len(chars)\n",
        "print(''.join(chars))\n",
        "print(vocab_size)"
      ],
      "metadata": {
        "id": "fy-eNUDesO6h",
        "colab": {
          "base_uri": "https://localhost:8080/"
        },
        "outputId": "6078f48c-e768-4def-f0a1-7afb8522b0c0"
      },
      "execution_count": 4,
      "outputs": [
        {
          "output_type": "stream",
          "name": "stdout",
          "text": [
            "\n",
            " !\"#$%&'()*+,-./0123456789:;<=>?@ABCDEFGHIJKLMNOPQRSTUVWXYZ[\\]^_`abcdefghijklmnopqrstuvwxyz{|}~ ¡£­°²³´µ·¼½ÀÁÃÄÅÉÍÓÖ×ßàáâãäåæçèéêëìíîïñòóôõöøúüāăćČĐğīİŁłōśūŻʖʻʼ̴̵̶̷̸̡̢̧̨̛̖̗̘̙̜̝̞̟̠̣̤̥̦̩̪̫̬̭̮̯̰̱̲̳̹̺̻̼͇͈͉͍͎͓͔͕͖͙͚̀́̂̃̄̅̆̇̈̉̊̋̌̍̎̏̐̑̒̓̔̽̾̿̀́͂̓̈́͆͊͋͌͐͑͒͗͛̕̚͘͜͝͠͡ͅΧιρςστχόϑДಠ ​‍–—―‘’‚“”… ›‽⁠₂€₹™⅓⅔∆−≈⍵♩♪♫♬♭⚡✨。えァアウェオサシジスッデトナニビフブボメョリルロンー一万写動千夜如宇宏开忽春来树梨活真花萌风꞉️﻿，ａｄｅｇｈｉｍｎｒｔｕｖｙ�𝅘𝅥𝅮𝔻𝕄𝕌𝕐𝕒𝕓𝕔𝕕𝕖𝕗𝕘𝕙𝕚𝕛𝕜𝕝𝕞𝕟𝕠𝕡𝕢𝕣𝕤𝕥𝕦𝕧𝕨𝕪𝘐𝘢𝘣𝘤𝘥𝘦𝘧𝘩𝘪𝘭𝘮𝘯𝘰𝘱𝘳𝘴𝘵𝘶𝘸𝘺🔮🤔\n",
            "416\n"
          ]
        }
      ]
    },
    {
      "cell_type": "code",
      "source": [
        "# train-test split\n",
        "\n",
        "n = int(0.9*len(data)) # first 90% will be train, rest val\n",
        "train_data = data[:n]\n",
        "val_data = data[n:]"
      ],
      "metadata": {
        "id": "NIh0X7Cspotc"
      },
      "execution_count": 5,
      "outputs": []
    },
    {
      "cell_type": "code",
      "source": [
        "import timeit\n",
        "\n",
        "start_time_2 = timeit.default_timer()"
      ],
      "metadata": {
        "id": "YLGNbB0vltCY"
      },
      "execution_count": 6,
      "outputs": []
    },
    {
      "cell_type": "code",
      "source": [
        "# encoder and decoder of the text\n",
        "string_to_index = { ch:i for i,ch in enumerate(chars) }\n",
        "index_to_string = { i:ch for i,ch in enumerate(chars) }\n",
        "\n",
        "encode = lambda s: [string_to_index[c] for c in s]\n",
        "decode = lambda l: ''.join([index_to_string[i] for i in l])\n",
        "\n",
        "print(encode('hello there'))\n",
        "print(decode(encode('hello there')))"
      ],
      "metadata": {
        "id": "N5Umz0p7g5ST",
        "colab": {
          "base_uri": "https://localhost:8080/"
        },
        "outputId": "e124d870-7007-4bc6-e3af-2641a138e3f2"
      },
      "execution_count": 7,
      "outputs": [
        {
          "output_type": "stream",
          "name": "stdout",
          "text": [
            "[73, 70, 77, 77, 80, 1, 85, 73, 70, 83, 70]\n",
            "hello there\n"
          ]
        }
      ]
    },
    {
      "cell_type": "code",
      "source": [
        "import torch\n",
        "\n",
        "# Convert to tensors\n",
        "train_data = torch.tensor(encode(train_data), dtype=torch.long)\n",
        "val_data = torch.tensor(encode(val_data), dtype=torch.long)"
      ],
      "metadata": {
        "id": "O1u8_7v1daCC"
      },
      "execution_count": 8,
      "outputs": []
    },
    {
      "cell_type": "code",
      "source": [
        "print(train_data[:20], len(train_data), len(val_data))"
      ],
      "metadata": {
        "colab": {
          "base_uri": "https://localhost:8080/"
        },
        "id": "Hgh5GfbI4djA",
        "outputId": "3c229db2-a74d-4bb9-a215-43fd3f429b91"
      },
      "execution_count": 9,
      "outputs": [
        {
          "output_type": "stream",
          "name": "stdout",
          "text": [
            "tensor([56, 73, 90,  1, 88, 70, 83, 70,  1, 85, 73, 70,  1, 88, 73, 70, 70, 77,\n",
            "        84,  1]) 197444518 21938280\n"
          ]
        }
      ]
    },
    {
      "cell_type": "markdown",
      "source": [
        "**main bigram transformer model**"
      ],
      "metadata": {
        "id": "XwuQZkih8ulf"
      }
    },
    {
      "cell_type": "code",
      "source": [
        "import torch.nn as nn\n",
        "from torch.nn import functional as F\n",
        "\n",
        "# hyperparameters\n",
        "batch_size = 128 # independent sequences in parallel\n",
        "block_size = 256 # max context length for predictions\n",
        "max_iters = 5000\n",
        "eval_interval = 100 # after interval outputs\n",
        "learning_rate = 1e-3\n",
        "device = 'cuda' if torch.cuda.is_available() else 'cpu'\n",
        "eval_iters = 200\n",
        "n_embd = 384\n",
        "n_head = 8\n",
        "n_layer = 6\n",
        "dropout = 0.3\n",
        "# ------------\n",
        "\n",
        "torch.manual_seed(1337)\n",
        "\n",
        "# data loading\n",
        "def get_batch(split):\n",
        "    # generate a small batch of data of inputs x and targets y\n",
        "    data = train_data if split == 'train' else val_data\n",
        "    ix = torch.randint(len(data) - block_size, (batch_size,))\n",
        "    x = torch.stack([data[i:i+block_size] for i in ix])\n",
        "    y = torch.stack([data[i+1:i+block_size+1] for i in ix])\n",
        "    x, y = x.to(device), y.to(device)\n",
        "    return x, y\n",
        "\n",
        "@torch.no_grad()\n",
        "def estimate_loss():\n",
        "    out = {}\n",
        "    model.eval()\n",
        "    for split in ['train', 'val']:\n",
        "        losses = torch.zeros(eval_iters)\n",
        "        for k in range(eval_iters):\n",
        "            X, Y = get_batch(split)\n",
        "            logits, loss = model(X, Y)\n",
        "            losses[k] = loss.item()\n",
        "        out[split] = losses.mean()\n",
        "    model.train()\n",
        "    return out\n",
        "\n",
        "class Head(nn.Module):\n",
        "    \"\"\" one head of self-attention \"\"\"\n",
        "\n",
        "    def __init__(self, head_size):\n",
        "        super().__init__()\n",
        "        self.key = nn.Linear(n_embd, head_size, bias=False)\n",
        "        self.query = nn.Linear(n_embd, head_size, bias=False)\n",
        "        self.value = nn.Linear(n_embd, head_size, bias=False)\n",
        "        self.register_buffer('tril', torch.tril(torch.ones(block_size, block_size)))\n",
        "\n",
        "        self.dropout = nn.Dropout(dropout)\n",
        "\n",
        "    def forward(self, x):\n",
        "        B,T,C = x.shape\n",
        "        k = self.key(x)   # (B,T,C)\n",
        "        q = self.query(x) # (B,T,C)\n",
        "        # compute attention scores (\"affinities\")\n",
        "        wei = q @ k.transpose(-2,-1) * C**-0.5 # (B, T, C) @ (B, C, T) -> (B, T, T)\n",
        "        wei = wei.masked_fill(self.tril[:T, :T] == 0, float('-inf')) # (B, T, T)\n",
        "        wei = F.softmax(wei, dim=-1) # (B, T, T)\n",
        "        wei = self.dropout(wei)\n",
        "        # perform the weighted aggregation of the values\n",
        "        v = self.value(x) # (B,T,C)\n",
        "        out = wei @ v # (B, T, T) @ (B, T, C) -> (B, T, C)\n",
        "        return out\n",
        "\n",
        "class MultiHeadAttention(nn.Module):\n",
        "    \"\"\" multiple heads of self-attention in parallel \"\"\"\n",
        "\n",
        "    def __init__(self, num_heads, head_size):\n",
        "        super().__init__()\n",
        "        self.heads = nn.ModuleList([Head(head_size) for _ in range(num_heads)])\n",
        "        self.proj = nn.Linear(n_embd, n_embd)\n",
        "        self.dropout = nn.Dropout(dropout)\n",
        "\n",
        "    def forward(self, x):\n",
        "        out = torch.cat([h(x) for h in self.heads], dim=-1)\n",
        "        out = self.dropout(self.proj(out))\n",
        "        return out\n",
        "\n",
        "class FeedFoward(nn.Module):\n",
        "    \"\"\" a simple linear layer followed by a non-linearity \"\"\"\n",
        "\n",
        "    def __init__(self, n_embd):\n",
        "        super().__init__()\n",
        "        self.net = nn.Sequential(\n",
        "            nn.Linear(n_embd, 4 * n_embd),\n",
        "            nn.ReLU(),\n",
        "            nn.Linear(4 * n_embd, n_embd),\n",
        "            nn.Dropout(dropout),\n",
        "        )\n",
        "\n",
        "    def forward(self, x):\n",
        "        return self.net(x)\n",
        "\n",
        "class Block(nn.Module):\n",
        "    \"\"\" Transformer block: communication followed by computation \"\"\"\n",
        "\n",
        "    def __init__(self, n_embd, n_head):\n",
        "        # n_embd: embedding dimension, n_head: the number of heads we'd like\n",
        "        super().__init__()\n",
        "        head_size = n_embd // n_head\n",
        "        self.sa = MultiHeadAttention(n_head, head_size)\n",
        "        self.ffwd = FeedFoward(n_embd)\n",
        "        self.ln1 = nn.LayerNorm(n_embd)\n",
        "        self.ln2 = nn.LayerNorm(n_embd)\n",
        "\n",
        "    def forward(self, x):\n",
        "        x = x + self.sa(self.ln1(x))\n",
        "        x = x + self.ffwd(self.ln2(x))\n",
        "        return x\n",
        "\n",
        "# super simple bigram model\n",
        "class BigramLanguageModel(nn.Module):\n",
        "\n",
        "    def __init__(self):\n",
        "        super().__init__()\n",
        "        # each token directly reads off the logits for the next token from a lookup table\n",
        "        self.token_embedding_table = nn.Embedding(vocab_size, n_embd)\n",
        "        self.position_embedding_table = nn.Embedding(block_size, n_embd)\n",
        "        self.blocks = nn.Sequential(*[Block(n_embd, n_head=n_head) for _ in range(n_layer)])\n",
        "        self.ln_f = nn.LayerNorm(n_embd) # final layer norm\n",
        "        self.lm_head = nn.Linear(n_embd, vocab_size)\n",
        "\n",
        "    def forward(self, idx, targets=None):\n",
        "        B, T = idx.shape\n",
        "\n",
        "        # idx and targets are both (B,T) tensor of integers\n",
        "        tok_emb = self.token_embedding_table(idx) # (B,T,C)\n",
        "        pos_emb = self.position_embedding_table(torch.arange(T, device=device)) # (T,C)\n",
        "        x = tok_emb + pos_emb # (B,T,C)\n",
        "        x = self.blocks(x) # (B,T,C)\n",
        "        x = self.ln_f(x) # (B,T,C)\n",
        "        logits = self.lm_head(x) # (B,T,vocab_size)\n",
        "\n",
        "        if targets is None:\n",
        "            loss = None\n",
        "        else:\n",
        "            B, T, C = logits.shape\n",
        "            logits = logits.view(B*T, C)\n",
        "            targets = targets.view(B*T)\n",
        "            loss = F.cross_entropy(logits, targets)\n",
        "\n",
        "        return logits, loss\n",
        "\n",
        "    def generate(self, idx, max_new_tokens):\n",
        "        # idx is (B, T) array of indices in the current context\n",
        "        for _ in range(max_new_tokens):\n",
        "            # crop idx to the last block_size tokens\n",
        "            idx_cond = idx[:, -block_size:]\n",
        "            # get the predictions\n",
        "            logits, loss = self(idx_cond)\n",
        "            # focus only on the last time step\n",
        "            logits = logits[:, -1, :] # becomes (B, C)\n",
        "            # apply softmax to get probabilities\n",
        "            probs = F.softmax(logits, dim=-1) # (B, C)\n",
        "            # sample from the distribution\n",
        "            idx_next = torch.multinomial(probs, num_samples=1) # (B, 1)\n",
        "            # append sampled index to the running sequence\n",
        "            idx = torch.cat((idx, idx_next), dim=1) # (B, T+1)\n",
        "        return idx\n",
        "\n",
        "model = BigramLanguageModel()\n",
        "m = model.to(device)\n",
        "# print the number of parameters in the model\n",
        "print(sum(p.numel() for p in m.parameters())/1e6, 'M parameters')\n",
        "\n",
        "# create a PyTorch optimizer\n",
        "optimizer = torch.optim.AdamW(model.parameters(), lr=learning_rate)\n",
        "steps = []\n",
        "train_losses = []\n",
        "val_losses = []\n",
        "\n",
        "for iter in range(max_iters):\n",
        "\n",
        "    # every once in a while evaluate the loss on train and val sets\n",
        "    if iter % eval_interval == 0 or iter == max_iters - 1:\n",
        "        losses = estimate_loss()\n",
        "        print(f\"step {iter}: train loss {losses['train']:.4f}, val loss {losses['val']:.4f}\")\n",
        "\n",
        "        # Store step and loss values for visualization\n",
        "        steps.append(iter)\n",
        "        train_losses.append(losses['train'])\n",
        "        val_losses.append(losses['val'])\n",
        "\n",
        "    # sample a batch of data\n",
        "    xb, yb = get_batch('train')\n",
        "\n",
        "    # evaluate the loss\n",
        "    logits, loss = model(xb, yb)\n",
        "    optimizer.zero_grad(set_to_none=True)\n",
        "    loss.backward()\n",
        "    optimizer.step()\n",
        "\n",
        "# generate from the model\n",
        "context = torch.zeros((1, 1), dtype=torch.long, device=device)\n",
        "torch.save(model.state_dict(), 'large_parameter_transformer_model.pth')\n",
        "output_data = decode(m.generate(context, max_new_tokens=2000)[0].tolist())\n",
        "print(decode(m.generate(context, max_new_tokens=2000)[0].tolist()))"
      ],
      "metadata": {
        "id": "SRNw2nX3njOR",
        "colab": {
          "base_uri": "https://localhost:8080/"
        },
        "outputId": "41834a82-2953-4cfa-8ae3-96a6868e8433"
      },
      "execution_count": 10,
      "outputs": [
        {
          "output_type": "stream",
          "name": "stdout",
          "text": [
            "11.058848 M parameters\n",
            "step 0: train loss 6.2578, val loss 6.2638\n",
            "step 100: train loss 2.4326, val loss 2.5175\n",
            "step 200: train loss 2.3537, val loss 2.4177\n",
            "step 300: train loss 2.0659, val loss 2.1179\n",
            "step 400: train loss 1.8053, val loss 1.8415\n",
            "step 500: train loss 1.6527, val loss 1.6787\n",
            "step 600: train loss 1.5503, val loss 1.5679\n",
            "step 700: train loss 1.4810, val loss 1.4929\n",
            "step 800: train loss 1.4324, val loss 1.4357\n",
            "step 900: train loss 1.3903, val loss 1.4002\n",
            "step 1000: train loss 1.3643, val loss 1.3790\n",
            "step 1100: train loss 1.3337, val loss 1.3404\n",
            "step 1200: train loss 1.3200, val loss 1.3248\n",
            "step 1300: train loss 1.3002, val loss 1.3054\n",
            "step 1400: train loss 1.2838, val loss 1.2884\n",
            "step 1500: train loss 1.2679, val loss 1.2741\n",
            "step 1600: train loss 1.2569, val loss 1.2589\n",
            "step 1700: train loss 1.2389, val loss 1.2435\n",
            "step 1800: train loss 1.2246, val loss 1.2317\n",
            "step 1900: train loss 1.2206, val loss 1.2210\n",
            "step 2000: train loss 1.2100, val loss 1.2164\n",
            "step 2100: train loss 1.2039, val loss 1.2045\n",
            "step 2200: train loss 1.1991, val loss 1.1984\n",
            "step 2300: train loss 1.1896, val loss 1.1918\n",
            "step 2400: train loss 1.1874, val loss 1.1868\n",
            "step 2500: train loss 1.1772, val loss 1.1761\n",
            "step 2600: train loss 1.1762, val loss 1.1702\n",
            "step 2700: train loss 1.1704, val loss 1.1660\n",
            "step 2800: train loss 1.1698, val loss 1.1641\n",
            "step 2900: train loss 1.1611, val loss 1.1635\n",
            "step 3000: train loss 1.1591, val loss 1.1537\n",
            "step 3100: train loss 1.1535, val loss 1.1516\n",
            "step 3200: train loss 1.1526, val loss 1.1461\n",
            "step 3300: train loss 1.1495, val loss 1.1462\n",
            "step 3400: train loss 1.1463, val loss 1.1422\n",
            "step 3500: train loss 1.1414, val loss 1.1391\n",
            "step 3600: train loss 1.1419, val loss 1.1349\n",
            "step 3700: train loss 1.1360, val loss 1.1308\n",
            "step 3800: train loss 1.1344, val loss 1.1320\n",
            "step 3900: train loss 1.1365, val loss 1.1299\n",
            "step 4000: train loss 1.1283, val loss 1.1234\n",
            "step 4100: train loss 1.1268, val loss 1.1219\n",
            "step 4200: train loss 1.1279, val loss 1.1195\n",
            "step 4300: train loss 1.1233, val loss 1.1184\n",
            "step 4400: train loss 1.1236, val loss 1.1159\n",
            "step 4500: train loss 1.1232, val loss 1.1117\n",
            "step 4600: train loss 1.1193, val loss 1.1124\n",
            "step 4700: train loss 1.1170, val loss 1.1134\n",
            "step 4800: train loss 1.1199, val loss 1.1121\n",
            "step 4900: train loss 1.1139, val loss 1.1074\n",
            "step 4999: train loss 1.1147, val loss 1.1082\n",
            "\n",
            "so reciting the batcore is here but I'm on a lot. Good files are not askward.orえ sympus consequence. So, we Theraarson Chinal China\n",
            "limited that is necess to hear the games yet to stop until in appearing. Okay. quite that one worth of the equal\n",
            "consequences a basical lenson that doesn't. The idea is that does it mean consider every\n",
            "catches with honest and of indicates how to give\n",
            "hopeful flight down and just 18 a basically bietook this\n",
            "essencing that doesn't could be doing anything that would work. Even with have betme. Now, but right now about you\n",
            "have bad and just two topic and so two of coding have two. But before we didn't even do. Let's just say, well, But let's\n",
            "do something to them include the file. So that's really height. Oh, this is the programming. We'll set something variable check but also\n",
            "converts for the debugs as long and this-- forwards essence\n",
            "counts, help and consider. Message counts oun on your\n",
            "lucks. Let's start water whater happened in the ethero the grater to help our becide slates, and not\n",
            "even complete efficience with networked likes. And this functional functions\n",
            "had the function, would. I hoped the arrivative mass called So else focus\n",
            "in durable resembled or proper tabs that like, 500 and \"ProPre-minicans\";.... I also should now style hey go nookward code. (nollooking fund in part of VD pul-min Ross) [it] [? wharacter [it] [itins] ♪ blockward and then Motor Bush owns-Hush Orego\n",
            "wards against yet looking\n",
            "into liest out of along there's any violence. (communicatity). And so here, no transform transforms to how to make? Somewhere, and there's a bolk for us\n",
            "and D * 20 Mountains’ Mountain screen verriched, hzm were a room for lilbox-sedimagories. A part-get, under screens where she's worked in San Yome within the linbox is my R. From one and whites us body\n",
            "the year undernitune. But it’s my season, it's going too. And her co-eten-inietically effective. The Batheor is but more\n",
            "disable than Prik. But I’d see mystline might import so it’s promised t\n"
          ]
        }
      ]
    },
    {
      "cell_type": "code",
      "source": [
        "model_train = timeit.default_timer()\n",
        "\n",
        "print(f\"time taken to train the model {(model_train - start_time_2) / 3600 } hrs\")"
      ],
      "metadata": {
        "id": "KRSkGZd8pbgv",
        "colab": {
          "base_uri": "https://localhost:8080/"
        },
        "outputId": "97e24805-b7a0-423f-9b9d-daaf206052e7"
      },
      "execution_count": 11,
      "outputs": [
        {
          "output_type": "stream",
          "name": "stdout",
          "text": [
            "time taken to train the model 1.0235756409075 hrs\n"
          ]
        }
      ]
    },
    {
      "cell_type": "code",
      "source": [
        "import matplotlib.pyplot as plt\n",
        "\n",
        "plt.figure(figsize=(10, 6))\n",
        "plt.plot(steps, train_losses, label='Train Loss')\n",
        "plt.plot(steps, val_losses, label='Validation Loss')\n",
        "plt.title('Loss Over Steps')\n",
        "plt.xlabel('Steps')\n",
        "plt.ylabel('Loss')\n",
        "plt.legend()\n",
        "plt.show()"
      ],
      "metadata": {
        "id": "Fvbzqc4Mvnrw",
        "colab": {
          "base_uri": "https://localhost:8080/",
          "height": 564
        },
        "outputId": "f34160ea-3a35-4bd9-8403-fa06d4da68c7"
      },
      "execution_count": 12,
      "outputs": [
        {
          "output_type": "display_data",
          "data": {
            "text/plain": [
              "<Figure size 1000x600 with 1 Axes>"
            ],
            "image/png": "[encoded data removed]"
          },
          "metadata": {}
        }
      ]
    },
    {
      "cell_type": "code",
      "source": [
        "# summary\n",
        "end_time = timeit.default_timer()\n",
        "\n",
        "total_time = (end_time - start_time_2) / 3600\n",
        "\n",
        "ffn_factor = 4\n",
        "embedding_params = n_embd * vocab_size\n",
        "attention_params = n_head * (n_embd // n_head * 2 * n_embd) * n_layer\n",
        "\n",
        "feedforward_params = n_embd * ffn_factor * n_layer * 2\n",
        "total_param = sum(p.numel() for p in m.parameters()) / 1e6\n",
        "total_params = embedding_params + attention_params + feedforward_params\n",
        "\n",
        "print(\"///// summary /////\")\n",
        "# print(f\"time just to fetch the data was {(data_coll - start_time) / 3600} hrs and no of videos fetched were {videoNo}\")\n",
        "print(f\"total no of words in the file were: {total_no_of_words/1e6} million\")\n",
        "print(f\"total vocab size was {vocab_size}\")\n",
        "print(\"total no of calculated parameters:\", total_params)\n",
        "print(\"total no of actual parameters:\", total_param)\n",
        "print(f\"time taken to train the model was {(model_train - start_time_2) / 3600} hrs\")\n",
        "print(f\"model ran for {max_iters} iterations and final val loss: {val_losses[-1]} and train loss: {train_losses[-1]}\")\n",
        "print('\\n', '\\n')\n",
        "print(\"//// generated output ////\")\n",
        "print(output_data)"
      ],
      "metadata": {
        "id": "DetNldUaw_Ze",
        "colab": {
          "base_uri": "https://localhost:8080/"
        },
        "outputId": "b627f5a0-c21f-4061-db53-f8eb3d9ff13e"
      },
      "execution_count": 13,
      "outputs": [
        {
          "output_type": "stream",
          "name": "stdout",
          "text": [
            "///// summary /////\n",
            "total no of words in the file were: 219.382798 million\n",
            "total vocab size was 416\n",
            "total no of calculated parameters: 1947648\n",
            "total no of actual parameters: 11.058848\n",
            "time taken to train the model was 1.0235756409075 hrs\n",
            "model ran for 5000 iterations and final val loss: 1.1082205772399902 and train loss: 1.114668369293213\n",
            "\n",
            " \n",
            "\n",
            "//// generated output ////\n",
            "\n",
            "in his energy browality Trop his crue she\n",
            "is a 1-year-tempi energy Poster. Especially, posters she researching the animator of\n",
            "the resitants, but a ‘earer for fordunately we she sounds the copies \n",
            "for comed this. the weddie showerfig\n",
            "the cruewired second in instealed himself,\n",
            "Ohio. There was I-special headiet. The company. \"Constraine Twine ireleva. Both the shooths assistational his sonscientific increased users who will just\n",
            "leave that allies bone. And these geod, who might receigned likelins\n",
            "agreed to piece a repeat of friends\n",
            "our next weark sets in Russian. SafeCial Warn\n",
            "to be coming, and as many differences of\n",
            "likels have ding. On a couple of likesit likely. Hipplifying, a coursectors\n",
            "let's their hand. They\n",
            "will undeestly in how for low-lever differentless”, and government war, and safestions depressite. Now there are she\n",
            "are no work, and update killeds to emphasize drimns. War that Dwim%. How does they still play undersbate\n",
            "viewed sheets into between troubled tasks — asks-five thousands \n",
            "eners that distributes with it. Now we swear the   under datation do there we decide to mention what\n",
            "goes to sheet to build   on my nose. There will dissciously changes though \n",
            "is part of the weather number time and matter not the worse \n",
            "genuine flowing that we read on the most time bets   can do that. However, many of sounds, many other \n",
            "important won't have nose rip would a flower   color by whise, this, this time appli, ever if I want to do \n",
            "ourselves we're source idly more than continsite in absention or stuff.   I'll they're in the flowers,\n",
            "continuing which big love over   two blowers. Honestly what's not only very \n",
            "shipped. Well, mean. I do. \n",
            " - This \n",
            "is my new resours claimed like of those resourcembers coming with  these loues, welcome between my new blowers with all\n",
            "business, and engaging greens at the top-of-like \n",
            "is light basically like Cpadox, these are repovered in   the necosystems togeth. It is like budge and \n",
            "25 billions of skyllmer is \n",
            "investment in and having\n"
          ]
        }
      ]
    },
    {
      "cell_type": "code",
      "source": [
        "# Load the saved model\n",
        "loaded_model = BigramLanguageModel()\n",
        "loaded_model.load_state_dict(torch.load('large_parameter_transformer_model.pth'))\n",
        "loaded_model.to(device)\n",
        "\n",
        "# Print detailed information about the model's state dictionary\n",
        "for name, param in loaded_model.named_parameters():\n",
        "    print(f'{name}: {param.shape}, {param.numel()} parameters')"
      ],
      "metadata": {
        "id": "tKGmtIKHnFIC",
        "colab": {
          "base_uri": "https://localhost:8080/"
        },
        "outputId": "aaab7ce4-2017-46e4-eefe-1cb91c9aec4e"
      },
      "execution_count": 14,
      "outputs": [
        {
          "output_type": "stream",
          "name": "stdout",
          "text": [
            "token_embedding_table.weight: torch.Size([416, 384]), 159744 parameters\n",
            "position_embedding_table.weight: torch.Size([256, 384]), 98304 parameters\n",
            "blocks.0.sa.heads.0.key.weight: torch.Size([48, 384]), 18432 parameters\n",
            "blocks.0.sa.heads.0.query.weight: torch.Size([48, 384]), 18432 parameters\n",
            "blocks.0.sa.heads.0.value.weight: torch.Size([48, 384]), 18432 parameters\n",
            "blocks.0.sa.heads.1.key.weight: torch.Size([48, 384]), 18432 parameters\n",
            "blocks.0.sa.heads.1.query.weight: torch.Size([48, 384]), 18432 parameters\n",
            "blocks.0.sa.heads.1.value.weight: torch.Size([48, 384]), 18432 parameters\n",
            "blocks.0.sa.heads.2.key.weight: torch.Size([48, 384]), 18432 parameters\n",
            "blocks.0.sa.heads.2.query.weight: torch.Size([48, 384]), 18432 parameters\n",
            "blocks.0.sa.heads.2.value.weight: torch.Size([48, 384]), 18432 parameters\n",
            "blocks.0.sa.heads.3.key.weight: torch.Size([48, 384]), 18432 parameters\n",
            "blocks.0.sa.heads.3.query.weight: torch.Size([48, 384]), 18432 parameters\n",
            "blocks.0.sa.heads.3.value.weight: torch.Size([48, 384]), 18432 parameters\n",
            "blocks.0.sa.heads.4.key.weight: torch.Size([48, 384]), 18432 parameters\n",
            "blocks.0.sa.heads.4.query.weight: torch.Size([48, 384]), 18432 parameters\n",
            "blocks.0.sa.heads.4.value.weight: torch.Size([48, 384]), 18432 parameters\n",
            "blocks.0.sa.heads.5.key.weight: torch.Size([48, 384]), 18432 parameters\n",
            "blocks.0.sa.heads.5.query.weight: torch.Size([48, 384]), 18432 parameters\n",
            "blocks.0.sa.heads.5.value.weight: torch.Size([48, 384]), 18432 parameters\n",
            "blocks.0.sa.heads.6.key.weight: torch.Size([48, 384]), 18432 parameters\n",
            "blocks.0.sa.heads.6.query.weight: torch.Size([48, 384]), 18432 parameters\n",
            "blocks.0.sa.heads.6.value.weight: torch.Size([48, 384]), 18432 parameters\n",
            "blocks.0.sa.heads.7.key.weight: torch.Size([48, 384]), 18432 parameters\n",
            "blocks.0.sa.heads.7.query.weight: torch.Size([48, 384]), 18432 parameters\n",
            "blocks.0.sa.heads.7.value.weight: torch.Size([48, 384]), 18432 parameters\n",
            "blocks.0.sa.proj.weight: torch.Size([384, 384]), 147456 parameters\n",
            "blocks.0.sa.proj.bias: torch.Size([384]), 384 parameters\n",
            "blocks.0.ffwd.net.0.weight: torch.Size([1536, 384]), 589824 parameters\n",
            "blocks.0.ffwd.net.0.bias: torch.Size([1536]), 1536 parameters\n",
            "blocks.0.ffwd.net.2.weight: torch.Size([384, 1536]), 589824 parameters\n",
            "blocks.0.ffwd.net.2.bias: torch.Size([384]), 384 parameters\n",
            "blocks.0.ln1.weight: torch.Size([384]), 384 parameters\n",
            "blocks.0.ln1.bias: torch.Size([384]), 384 parameters\n",
            "blocks.0.ln2.weight: torch.Size([384]), 384 parameters\n",
            "blocks.0.ln2.bias: torch.Size([384]), 384 parameters\n",
            "blocks.1.sa.heads.0.key.weight: torch.Size([48, 384]), 18432 parameters\n",
            "blocks.1.sa.heads.0.query.weight: torch.Size([48, 384]), 18432 parameters\n",
            "blocks.1.sa.heads.0.value.weight: torch.Size([48, 384]), 18432 parameters\n",
            "blocks.1.sa.heads.1.key.weight: torch.Size([48, 384]), 18432 parameters\n",
            "blocks.1.sa.heads.1.query.weight: torch.Size([48, 384]), 18432 parameters\n",
            "blocks.1.sa.heads.1.value.weight: torch.Size([48, 384]), 18432 parameters\n",
            "blocks.1.sa.heads.2.key.weight: torch.Size([48, 384]), 18432 parameters\n",
            "blocks.1.sa.heads.2.query.weight: torch.Size([48, 384]), 18432 parameters\n",
            "blocks.1.sa.heads.2.value.weight: torch.Size([48, 384]), 18432 parameters\n",
            "blocks.1.sa.heads.3.key.weight: torch.Size([48, 384]), 18432 parameters\n",
            "blocks.1.sa.heads.3.query.weight: torch.Size([48, 384]), 18432 parameters\n",
            "blocks.1.sa.heads.3.value.weight: torch.Size([48, 384]), 18432 parameters\n",
            "blocks.1.sa.heads.4.key.weight: torch.Size([48, 384]), 18432 parameters\n",
            "blocks.1.sa.heads.4.query.weight: torch.Size([48, 384]), 18432 parameters\n",
            "blocks.1.sa.heads.4.value.weight: torch.Size([48, 384]), 18432 parameters\n",
            "blocks.1.sa.heads.5.key.weight: torch.Size([48, 384]), 18432 parameters\n",
            "blocks.1.sa.heads.5.query.weight: torch.Size([48, 384]), 18432 parameters\n",
            "blocks.1.sa.heads.5.value.weight: torch.Size([48, 384]), 18432 parameters\n",
            "blocks.1.sa.heads.6.key.weight: torch.Size([48, 384]), 18432 parameters\n",
            "blocks.1.sa.heads.6.query.weight: torch.Size([48, 384]), 18432 parameters\n",
            "blocks.1.sa.heads.6.value.weight: torch.Size([48, 384]), 18432 parameters\n",
            "blocks.1.sa.heads.7.key.weight: torch.Size([48, 384]), 18432 parameters\n",
            "blocks.1.sa.heads.7.query.weight: torch.Size([48, 384]), 18432 parameters\n",
            "blocks.1.sa.heads.7.value.weight: torch.Size([48, 384]), 18432 parameters\n",
            "blocks.1.sa.proj.weight: torch.Size([384, 384]), 147456 parameters\n",
            "blocks.1.sa.proj.bias: torch.Size([384]), 384 parameters\n",
            "blocks.1.ffwd.net.0.weight: torch.Size([1536, 384]), 589824 parameters\n",
            "blocks.1.ffwd.net.0.bias: torch.Size([1536]), 1536 parameters\n",
            "blocks.1.ffwd.net.2.weight: torch.Size([384, 1536]), 589824 parameters\n",
            "blocks.1.ffwd.net.2.bias: torch.Size([384]), 384 parameters\n",
            "blocks.1.ln1.weight: torch.Size([384]), 384 parameters\n",
            "blocks.1.ln1.bias: torch.Size([384]), 384 parameters\n",
            "blocks.1.ln2.weight: torch.Size([384]), 384 parameters\n",
            "blocks.1.ln2.bias: torch.Size([384]), 384 parameters\n",
            "blocks.2.sa.heads.0.key.weight: torch.Size([48, 384]), 18432 parameters\n",
            "blocks.2.sa.heads.0.query.weight: torch.Size([48, 384]), 18432 parameters\n",
            "blocks.2.sa.heads.0.value.weight: torch.Size([48, 384]), 18432 parameters\n",
            "blocks.2.sa.heads.1.key.weight: torch.Size([48, 384]), 18432 parameters\n",
            "blocks.2.sa.heads.1.query.weight: torch.Size([48, 384]), 18432 parameters\n",
            "blocks.2.sa.heads.1.value.weight: torch.Size([48, 384]), 18432 parameters\n",
            "blocks.2.sa.heads.2.key.weight: torch.Size([48, 384]), 18432 parameters\n",
            "blocks.2.sa.heads.2.query.weight: torch.Size([48, 384]), 18432 parameters\n",
            "blocks.2.sa.heads.2.value.weight: torch.Size([48, 384]), 18432 parameters\n",
            "blocks.2.sa.heads.3.key.weight: torch.Size([48, 384]), 18432 parameters\n",
            "blocks.2.sa.heads.3.query.weight: torch.Size([48, 384]), 18432 parameters\n",
            "blocks.2.sa.heads.3.value.weight: torch.Size([48, 384]), 18432 parameters\n",
            "blocks.2.sa.heads.4.key.weight: torch.Size([48, 384]), 18432 parameters\n",
            "blocks.2.sa.heads.4.query.weight: torch.Size([48, 384]), 18432 parameters\n",
            "blocks.2.sa.heads.4.value.weight: torch.Size([48, 384]), 18432 parameters\n",
            "blocks.2.sa.heads.5.key.weight: torch.Size([48, 384]), 18432 parameters\n",
            "blocks.2.sa.heads.5.query.weight: torch.Size([48, 384]), 18432 parameters\n",
            "blocks.2.sa.heads.5.value.weight: torch.Size([48, 384]), 18432 parameters\n",
            "blocks.2.sa.heads.6.key.weight: torch.Size([48, 384]), 18432 parameters\n",
            "blocks.2.sa.heads.6.query.weight: torch.Size([48, 384]), 18432 parameters\n",
            "blocks.2.sa.heads.6.value.weight: torch.Size([48, 384]), 18432 parameters\n",
            "blocks.2.sa.heads.7.key.weight: torch.Size([48, 384]), 18432 parameters\n",
            "blocks.2.sa.heads.7.query.weight: torch.Size([48, 384]), 18432 parameters\n",
            "blocks.2.sa.heads.7.value.weight: torch.Size([48, 384]), 18432 parameters\n",
            "blocks.2.sa.proj.weight: torch.Size([384, 384]), 147456 parameters\n",
            "blocks.2.sa.proj.bias: torch.Size([384]), 384 parameters\n",
            "blocks.2.ffwd.net.0.weight: torch.Size([1536, 384]), 589824 parameters\n",
            "blocks.2.ffwd.net.0.bias: torch.Size([1536]), 1536 parameters\n",
            "blocks.2.ffwd.net.2.weight: torch.Size([384, 1536]), 589824 parameters\n",
            "blocks.2.ffwd.net.2.bias: torch.Size([384]), 384 parameters\n",
            "blocks.2.ln1.weight: torch.Size([384]), 384 parameters\n",
            "blocks.2.ln1.bias: torch.Size([384]), 384 parameters\n",
            "blocks.2.ln2.weight: torch.Size([384]), 384 parameters\n",
            "blocks.2.ln2.bias: torch.Size([384]), 384 parameters\n",
            "blocks.3.sa.heads.0.key.weight: torch.Size([48, 384]), 18432 parameters\n",
            "blocks.3.sa.heads.0.query.weight: torch.Size([48, 384]), 18432 parameters\n",
            "blocks.3.sa.heads.0.value.weight: torch.Size([48, 384]), 18432 parameters\n",
            "blocks.3.sa.heads.1.key.weight: torch.Size([48, 384]), 18432 parameters\n",
            "blocks.3.sa.heads.1.query.weight: torch.Size([48, 384]), 18432 parameters\n",
            "blocks.3.sa.heads.1.value.weight: torch.Size([48, 384]), 18432 parameters\n",
            "blocks.3.sa.heads.2.key.weight: torch.Size([48, 384]), 18432 parameters\n",
            "blocks.3.sa.heads.2.query.weight: torch.Size([48, 384]), 18432 parameters\n",
            "blocks.3.sa.heads.2.value.weight: torch.Size([48, 384]), 18432 parameters\n",
            "blocks.3.sa.heads.3.key.weight: torch.Size([48, 384]), 18432 parameters\n",
            "blocks.3.sa.heads.3.query.weight: torch.Size([48, 384]), 18432 parameters\n",
            "blocks.3.sa.heads.3.value.weight: torch.Size([48, 384]), 18432 parameters\n",
            "blocks.3.sa.heads.4.key.weight: torch.Size([48, 384]), 18432 parameters\n",
            "blocks.3.sa.heads.4.query.weight: torch.Size([48, 384]), 18432 parameters\n",
            "blocks.3.sa.heads.4.value.weight: torch.Size([48, 384]), 18432 parameters\n",
            "blocks.3.sa.heads.5.key.weight: torch.Size([48, 384]), 18432 parameters\n",
            "blocks.3.sa.heads.5.query.weight: torch.Size([48, 384]), 18432 parameters\n",
            "blocks.3.sa.heads.5.value.weight: torch.Size([48, 384]), 18432 parameters\n",
            "blocks.3.sa.heads.6.key.weight: torch.Size([48, 384]), 18432 parameters\n",
            "blocks.3.sa.heads.6.query.weight: torch.Size([48, 384]), 18432 parameters\n",
            "blocks.3.sa.heads.6.value.weight: torch.Size([48, 384]), 18432 parameters\n",
            "blocks.3.sa.heads.7.key.weight: torch.Size([48, 384]), 18432 parameters\n",
            "blocks.3.sa.heads.7.query.weight: torch.Size([48, 384]), 18432 parameters\n",
            "blocks.3.sa.heads.7.value.weight: torch.Size([48, 384]), 18432 parameters\n",
            "blocks.3.sa.proj.weight: torch.Size([384, 384]), 147456 parameters\n",
            "blocks.3.sa.proj.bias: torch.Size([384]), 384 parameters\n",
            "blocks.3.ffwd.net.0.weight: torch.Size([1536, 384]), 589824 parameters\n",
            "blocks.3.ffwd.net.0.bias: torch.Size([1536]), 1536 parameters\n",
            "blocks.3.ffwd.net.2.weight: torch.Size([384, 1536]), 589824 parameters\n",
            "blocks.3.ffwd.net.2.bias: torch.Size([384]), 384 parameters\n",
            "blocks.3.ln1.weight: torch.Size([384]), 384 parameters\n",
            "blocks.3.ln1.bias: torch.Size([384]), 384 parameters\n",
            "blocks.3.ln2.weight: torch.Size([384]), 384 parameters\n",
            "blocks.3.ln2.bias: torch.Size([384]), 384 parameters\n",
            "blocks.4.sa.heads.0.key.weight: torch.Size([48, 384]), 18432 parameters\n",
            "blocks.4.sa.heads.0.query.weight: torch.Size([48, 384]), 18432 parameters\n",
            "blocks.4.sa.heads.0.value.weight: torch.Size([48, 384]), 18432 parameters\n",
            "blocks.4.sa.heads.1.key.weight: torch.Size([48, 384]), 18432 parameters\n",
            "blocks.4.sa.heads.1.query.weight: torch.Size([48, 384]), 18432 parameters\n",
            "blocks.4.sa.heads.1.value.weight: torch.Size([48, 384]), 18432 parameters\n",
            "blocks.4.sa.heads.2.key.weight: torch.Size([48, 384]), 18432 parameters\n",
            "blocks.4.sa.heads.2.query.weight: torch.Size([48, 384]), 18432 parameters\n",
            "blocks.4.sa.heads.2.value.weight: torch.Size([48, 384]), 18432 parameters\n",
            "blocks.4.sa.heads.3.key.weight: torch.Size([48, 384]), 18432 parameters\n",
            "blocks.4.sa.heads.3.query.weight: torch.Size([48, 384]), 18432 parameters\n",
            "blocks.4.sa.heads.3.value.weight: torch.Size([48, 384]), 18432 parameters\n",
            "blocks.4.sa.heads.4.key.weight: torch.Size([48, 384]), 18432 parameters\n",
            "blocks.4.sa.heads.4.query.weight: torch.Size([48, 384]), 18432 parameters\n",
            "blocks.4.sa.heads.4.value.weight: torch.Size([48, 384]), 18432 parameters\n",
            "blocks.4.sa.heads.5.key.weight: torch.Size([48, 384]), 18432 parameters\n",
            "blocks.4.sa.heads.5.query.weight: torch.Size([48, 384]), 18432 parameters\n",
            "blocks.4.sa.heads.5.value.weight: torch.Size([48, 384]), 18432 parameters\n",
            "blocks.4.sa.heads.6.key.weight: torch.Size([48, 384]), 18432 parameters\n",
            "blocks.4.sa.heads.6.query.weight: torch.Size([48, 384]), 18432 parameters\n",
            "blocks.4.sa.heads.6.value.weight: torch.Size([48, 384]), 18432 parameters\n",
            "blocks.4.sa.heads.7.key.weight: torch.Size([48, 384]), 18432 parameters\n",
            "blocks.4.sa.heads.7.query.weight: torch.Size([48, 384]), 18432 parameters\n",
            "blocks.4.sa.heads.7.value.weight: torch.Size([48, 384]), 18432 parameters\n",
            "blocks.4.sa.proj.weight: torch.Size([384, 384]), 147456 parameters\n",
            "blocks.4.sa.proj.bias: torch.Size([384]), 384 parameters\n",
            "blocks.4.ffwd.net.0.weight: torch.Size([1536, 384]), 589824 parameters\n",
            "blocks.4.ffwd.net.0.bias: torch.Size([1536]), 1536 parameters\n",
            "blocks.4.ffwd.net.2.weight: torch.Size([384, 1536]), 589824 parameters\n",
            "blocks.4.ffwd.net.2.bias: torch.Size([384]), 384 parameters\n",
            "blocks.4.ln1.weight: torch.Size([384]), 384 parameters\n",
            "blocks.4.ln1.bias: torch.Size([384]), 384 parameters\n",
            "blocks.4.ln2.weight: torch.Size([384]), 384 parameters\n",
            "blocks.4.ln2.bias: torch.Size([384]), 384 parameters\n",
            "blocks.5.sa.heads.0.key.weight: torch.Size([48, 384]), 18432 parameters\n",
            "blocks.5.sa.heads.0.query.weight: torch.Size([48, 384]), 18432 parameters\n",
            "blocks.5.sa.heads.0.value.weight: torch.Size([48, 384]), 18432 parameters\n",
            "blocks.5.sa.heads.1.key.weight: torch.Size([48, 384]), 18432 parameters\n",
            "blocks.5.sa.heads.1.query.weight: torch.Size([48, 384]), 18432 parameters\n",
            "blocks.5.sa.heads.1.value.weight: torch.Size([48, 384]), 18432 parameters\n",
            "blocks.5.sa.heads.2.key.weight: torch.Size([48, 384]), 18432 parameters\n",
            "blocks.5.sa.heads.2.query.weight: torch.Size([48, 384]), 18432 parameters\n",
            "blocks.5.sa.heads.2.value.weight: torch.Size([48, 384]), 18432 parameters\n",
            "blocks.5.sa.heads.3.key.weight: torch.Size([48, 384]), 18432 parameters\n",
            "blocks.5.sa.heads.3.query.weight: torch.Size([48, 384]), 18432 parameters\n",
            "blocks.5.sa.heads.3.value.weight: torch.Size([48, 384]), 18432 parameters\n",
            "blocks.5.sa.heads.4.key.weight: torch.Size([48, 384]), 18432 parameters\n",
            "blocks.5.sa.heads.4.query.weight: torch.Size([48, 384]), 18432 parameters\n",
            "blocks.5.sa.heads.4.value.weight: torch.Size([48, 384]), 18432 parameters\n",
            "blocks.5.sa.heads.5.key.weight: torch.Size([48, 384]), 18432 parameters\n",
            "blocks.5.sa.heads.5.query.weight: torch.Size([48, 384]), 18432 parameters\n",
            "blocks.5.sa.heads.5.value.weight: torch.Size([48, 384]), 18432 parameters\n",
            "blocks.5.sa.heads.6.key.weight: torch.Size([48, 384]), 18432 parameters\n",
            "blocks.5.sa.heads.6.query.weight: torch.Size([48, 384]), 18432 parameters\n",
            "blocks.5.sa.heads.6.value.weight: torch.Size([48, 384]), 18432 parameters\n",
            "blocks.5.sa.heads.7.key.weight: torch.Size([48, 384]), 18432 parameters\n",
            "blocks.5.sa.heads.7.query.weight: torch.Size([48, 384]), 18432 parameters\n",
            "blocks.5.sa.heads.7.value.weight: torch.Size([48, 384]), 18432 parameters\n",
            "blocks.5.sa.proj.weight: torch.Size([384, 384]), 147456 parameters\n",
            "blocks.5.sa.proj.bias: torch.Size([384]), 384 parameters\n",
            "blocks.5.ffwd.net.0.weight: torch.Size([1536, 384]), 589824 parameters\n",
            "blocks.5.ffwd.net.0.bias: torch.Size([1536]), 1536 parameters\n",
            "blocks.5.ffwd.net.2.weight: torch.Size([384, 1536]), 589824 parameters\n",
            "blocks.5.ffwd.net.2.bias: torch.Size([384]), 384 parameters\n",
            "blocks.5.ln1.weight: torch.Size([384]), 384 parameters\n",
            "blocks.5.ln1.bias: torch.Size([384]), 384 parameters\n",
            "blocks.5.ln2.weight: torch.Size([384]), 384 parameters\n",
            "blocks.5.ln2.bias: torch.Size([384]), 384 parameters\n",
            "ln_f.weight: torch.Size([384]), 384 parameters\n",
            "ln_f.bias: torch.Size([384]), 384 parameters\n",
            "lm_head.weight: torch.Size([416, 384]), 159744 parameters\n",
            "lm_head.bias: torch.Size([416]), 416 parameters\n"
          ]
        }
      ]
    },
    {
      "cell_type": "code",
      "source": [],
      "metadata": {
        "id": "p_PK2Jgw27wA"
      },
      "execution_count": null,
      "outputs": []
    }
  ]
}
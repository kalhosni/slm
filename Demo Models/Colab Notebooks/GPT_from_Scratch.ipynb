{
  "nbformat": 4,
  "nbformat_minor": 0,
  "metadata": {
    "colab": {
      "provenance": [],
      "machine_shape": "hm",
      "gpuType": "V100",
      "authorship_tag": "ABX9TyMftITMmRWRmM6VJNMeJQhz",
      "include_colab_link": true
    },
    "kernelspec": {
      "name": "python3",
      "display_name": "Python 3"
    },
    "language_info": {
      "name": "python"
    },
    "accelerator": "GPU"
  },
  "cells": [
    {
      "cell_type": "markdown",
      "metadata": {
        "id": "view-in-github",
        "colab_type": "text"
      },
      "source": [
        "<a href=\"https://colab.research.google.com/github/shivendrra/SmallLanguageModel-project/blob/main/Demo%20Models/Colab%20Notebooks/GPT_from_Scratch.ipynb\" target=\"_parent\"><img src=\"https://colab.research.google.com/assets/colab-badge.svg\" alt=\"Open In Colab\"/></a>"
      ]
    },
    {
      "cell_type": "code",
      "source": [
        "from google.colab import drive\n",
        "drive.mount('/content/drive')"
      ],
      "metadata": {
        "id": "S4Vqi5Ii3hF_",
        "colab": {
          "base_uri": "https://localhost:8080/"
        },
        "outputId": "6adfe2d1-9abc-4d00-b810-a894a598d35c"
      },
      "execution_count": 1,
      "outputs": [
        {
          "output_type": "stream",
          "name": "stdout",
          "text": [
            "Mounted at /content/drive\n"
          ]
        }
      ]
    },
    {
      "cell_type": "code",
      "source": [
        "# importing the data\n",
        "file_path = '/content/drive/MyDrive/more_data.txt'\n",
        "with open(file_path, 'r', encoding='utf-8') as file:\n",
        "  data = file.read()\n",
        "total_no_of_words = len(data)\n",
        "print(f\"{total_no_of_words/1e6} million words\")"
      ],
      "metadata": {
        "id": "QbLkBa5S3pwl",
        "colab": {
          "base_uri": "https://localhost:8080/"
        },
        "outputId": "401a3567-74f4-49f5-bc83-4ff09b124193"
      },
      "execution_count": 2,
      "outputs": [
        {
          "output_type": "stream",
          "name": "stdout",
          "text": [
            "397.043001 million words\n"
          ]
        }
      ]
    },
    {
      "cell_type": "code",
      "source": [
        "# total no of chars and vocab size\n",
        "chars = sorted(list(set(data)))\n",
        "vocab_size = len(chars)\n",
        "print(''.join(chars))\n",
        "print(vocab_size)"
      ],
      "metadata": {
        "id": "aWU788nx3rhB",
        "colab": {
          "base_uri": "https://localhost:8080/"
        },
        "outputId": "a2e4b403-810a-4acd-d870-8c05784bf749"
      },
      "execution_count": 3,
      "outputs": [
        {
          "output_type": "stream",
          "name": "stdout",
          "text": [
            "\n",
            " !\"#$%&'()*+,-./0123456789:;<=>?@ABCDEFGHIJKLMNOPQRSTUVWXYZ[\\]^_`abcdefghijklmnopqrstuvwxyz{|}~ ¡¢£¥§©«¬­®°±²³´µ·»¼½ÀÁÃÄÅÈÉÍÎÏÓÔÖ×ÙÜßàáâãäåæçèéêëìíîïñòóôõöøùúûüāăĄąĆćČĐęğīİŁłńōœŚśūźŻżʖʻʼ̴̵̶̷̸̡̢̧̨̛̖̗̘̙̜̝̞̟̠̣̤̥̦̩̪̫̬̭̮̯̰̱̲̳̹̺̻̼͇͈͉͍͎͓͔͕͖͙͚̀́̂̃̄̅̆̇̈̉̊̋̌̍̎̏̐̑̒̓̔̽̾̿̀́͂̓̈́͆͊͋͌͐͑͒͗͛̕̚͘͜͝͠͡ͅ͵΄ΆΈΉΊΌΎΐΑΒΓΔΕΖΗΘΙΚΛΜΝΞΟΠΡΣΤΥΦΧΨΩΪάέήίαβγδεζηθικλμνξοπρςστυφχψωϊόύώϑДабрсಠἀἁἂἃἄἅἈἉἊἋἌἍἐἑἔἕἘἙἜἝἠἡἢἣἤἥἦἧἨἩἪἫἬἭἮἯἰἱἴἵἶἷἸἹἼἽἾἿὀὁὃὄὅὈὉὋὌὍὐὑὔὕὖὗὙὝὟὠὡὥὦὧὩὭὮὯὰὲὴὶὸὺὼᾧᾳᾶᾷᾺ᾽᾿ῃῆῇῈῊῖῚῤῥῦῬῳῴῶῷῸῺ ​‍–—―‘’‚“”„•… ›‽⁠₂€₹™⅓⅔∆−≈⍵■□▲►▼◄♦♩♪♫♬♭⚡✓✨。えァアウェオサシジスッデトナニビフブボメョリルロンー一万写動千夜如宇宏开忽春来树梨活真花萌风꞉️﻿，ａｄｅｇｈｉｍｎｒｔｕｖｙ�𝅘𝅥𝅮𝔻𝕄𝕌𝕐𝕒𝕓𝕔𝕕𝕖𝕗𝕘𝕙𝕚𝕛𝕜𝕝𝕞𝕟𝕠𝕡𝕢𝕣𝕤𝕥𝕦𝕧𝕨𝕪𝘐𝘢𝘣𝘤𝘥𝘦𝘧𝘩𝘪𝘭𝘮𝘯𝘰𝘱𝘳𝘴𝘵𝘶𝘸𝘺🔮🤔\n",
            "622\n"
          ]
        }
      ]
    },
    {
      "cell_type": "code",
      "source": [
        "# train-test split\n",
        "\n",
        "n = int(0.9*len(data)) # first 90% will be train, rest val\n",
        "train_data = data[:n]\n",
        "val_data = data[n:]"
      ],
      "metadata": {
        "id": "P7G65oTV3tma"
      },
      "execution_count": 4,
      "outputs": []
    },
    {
      "cell_type": "code",
      "source": [
        "print(f\"train data {len(train_data)}, val data {len(val_data)}\")"
      ],
      "metadata": {
        "id": "M0flKW6njg5m",
        "colab": {
          "base_uri": "https://localhost:8080/"
        },
        "outputId": "34157b58-64d3-4560-d178-d1bd4b078494"
      },
      "execution_count": 5,
      "outputs": [
        {
          "output_type": "stream",
          "name": "stdout",
          "text": [
            "train data 357338700, val data 39704301\n"
          ]
        }
      ]
    },
    {
      "cell_type": "code",
      "source": [
        "import timeit\n",
        "start_time = timeit.default_timer()"
      ],
      "metadata": {
        "id": "6vOM85YE3vse"
      },
      "execution_count": 6,
      "outputs": []
    },
    {
      "cell_type": "code",
      "source": [
        "# encoder and decoder of the text\n",
        "string_to_index = { ch:i for i,ch in enumerate(chars) }\n",
        "index_to_string = { i:ch for i,ch in enumerate(chars) }\n",
        "\n",
        "encode = lambda s: [string_to_index[c] for c in s]\n",
        "decode = lambda l: ''.join([index_to_string[i] for i in l])\n",
        "\n",
        "print(encode('hello there'))\n",
        "print(decode(encode('hello there')))"
      ],
      "metadata": {
        "id": "1jOagLL43ymD",
        "colab": {
          "base_uri": "https://localhost:8080/"
        },
        "outputId": "72e35d25-c2ec-4e54-98dd-358d97bc14cb"
      },
      "execution_count": 7,
      "outputs": [
        {
          "output_type": "stream",
          "name": "stdout",
          "text": [
            "[73, 70, 77, 77, 80, 1, 85, 73, 70, 83, 70]\n",
            "hello there\n"
          ]
        }
      ]
    },
    {
      "cell_type": "code",
      "source": [
        "import torch\n",
        "\n",
        "# Convert to tensors\n",
        "train_data = torch.tensor(encode(train_data), dtype=torch.long)\n",
        "val_data = torch.tensor(encode(val_data), dtype=torch.long)"
      ],
      "metadata": {
        "id": "ZXimMdyR32wN"
      },
      "execution_count": 8,
      "outputs": []
    },
    {
      "cell_type": "code",
      "execution_count": 12,
      "metadata": {
        "id": "hSbAd0fCl_nx",
        "colab": {
          "base_uri": "https://localhost:8080/"
        },
        "outputId": "56b81d11-84ef-435f-d5f7-93513aca3a22"
      },
      "outputs": [
        {
          "output_type": "stream",
          "name": "stdout",
          "text": [
            "25.043122 million\n",
            "step 0: train loss 6.4854, val loss 6.4662\n",
            "step 1000: train loss 3.0239, val loss 3.0528\n",
            "step 2000: train loss 2.7007, val loss 2.7195\n",
            "step 3000: train loss 2.5742, val loss 2.5973\n",
            "step 4000: train loss 2.5118, val loss 2.5408\n",
            "step 5000: train loss 2.4748, val loss 2.5067\n",
            "step 6000: train loss 2.4522, val loss 2.4779\n",
            "step 7000: train loss 2.4306, val loss 2.4533\n",
            "step 8000: train loss 2.4072, val loss 2.4313\n",
            "step 9000: train loss 2.3689, val loss 2.3984\n",
            "step 10000: train loss 2.3039, val loss 2.3325\n",
            "step 11000: train loss 2.2386, val loss 2.2727\n",
            "step 12000: train loss 2.1980, val loss 2.2301\n",
            "step 13000: train loss 2.1486, val loss 2.1828\n",
            "step 14000: train loss 2.1096, val loss 2.1299\n",
            "step 14999: train loss 2.0685, val loss 2.0851\n"
          ]
        }
      ],
      "source": [
        "import torch\n",
        "import torch.nn as nn\n",
        "from torch.nn import functional as F\n",
        "\n",
        "# hyperparameters\n",
        "batch_size = 64 # independent sequences process in parallel\n",
        "block_size = 384 # maximum context length for predictions\n",
        "max_iters = 20000\n",
        "eval_interval = 1000\n",
        "learning_rate = 3e-6\n",
        "device = 'cuda' if torch.cuda.is_available() else 'cpu'\n",
        "eval_iters = 200\n",
        "n_embd = 450\n",
        "n_head = 8\n",
        "n_layer = 10\n",
        "dropout = 0.2\n",
        "# ------------\n",
        "\n",
        "torch.manual_seed(1400)\n",
        "\n",
        "# data loading\n",
        "def get_batch(split):\n",
        "    # generate a small batch of data of inputs x and targets y\n",
        "    data = train_data if split == 'train' else val_data\n",
        "    ix = torch.randint(len(data) - block_size, (batch_size,))\n",
        "    x = torch.stack([data[i:i+block_size] for i in ix])\n",
        "    y = torch.stack([data[i+1:i+block_size+1] for i in ix])\n",
        "    x, y = x.to(device), y.to(device)\n",
        "    return x, y\n",
        "\n",
        "@torch.no_grad()\n",
        "def estimate_loss():\n",
        "    out = {}\n",
        "    model.eval()\n",
        "    for split in ['train', 'val']:\n",
        "        losses = torch.zeros(eval_iters)\n",
        "        for k in range(eval_iters):\n",
        "            X, Y = get_batch(split)\n",
        "            logits, loss = model(X, Y)\n",
        "            losses[k] = loss.item()\n",
        "        out[split] = losses.mean()\n",
        "    model.train()\n",
        "    return out\n",
        "\n",
        "class Head(nn.Module):\n",
        "    \"\"\" one head of self-attention \"\"\"\n",
        "\n",
        "    def __init__(self, head_size):\n",
        "        super().__init__()\n",
        "        self.key = nn.Linear(n_embd, head_size, bias=False)\n",
        "        self.query = nn.Linear(n_embd, head_size, bias=False)\n",
        "        self.value = nn.Linear(n_embd, head_size, bias=False)\n",
        "        self.register_buffer('tril', torch.tril(torch.ones(block_size, block_size)))\n",
        "\n",
        "        self.dropout = nn.Dropout(dropout)\n",
        "\n",
        "    def forward(self, x):\n",
        "        # input of size (batch, time-step, channels)\n",
        "        # output of size (batch, time-step, head size)\n",
        "        B,T,C = x.shape\n",
        "        k = self.key(x)   # (B,T,hs)\n",
        "        q = self.query(x) # (B,T,hs)\n",
        "        # compute attention scores (\"affinities\")\n",
        "        wei = q @ k.transpose(-2,-1) * k.shape[-1]**-0.5 # (B, T, hs) @ (B, hs, T) -> (B, T, T)\n",
        "        wei = wei.masked_fill(self.tril[:T, :T] == 0, float('-inf')) # (B, T, T)\n",
        "        wei = F.softmax(wei, dim=-1) # (B, T, T)\n",
        "        wei = self.dropout(wei)\n",
        "        # perform the weighted aggregation of the values\n",
        "        v = self.value(x) # (B,T,hs)\n",
        "        out = wei @ v # (B, T, T) @ (B, T, hs) -> (B, T, hs)\n",
        "        return out\n",
        "\n",
        "class MultiHeadAttention(nn.Module):\n",
        "    \"\"\" multiple heads of self-attention in parallel \"\"\"\n",
        "\n",
        "    def __init__(self, num_heads, head_size):\n",
        "        super().__init__()\n",
        "        self.heads = nn.ModuleList([Head(head_size) for _ in range(num_heads)])\n",
        "        self.proj = nn.Linear(head_size * num_heads, n_embd)\n",
        "        self.dropout = nn.Dropout(dropout)\n",
        "\n",
        "    def forward(self, x):\n",
        "        out = torch.cat([h(x) for h in self.heads], dim=-1)\n",
        "        out = self.dropout(self.proj(out))\n",
        "        return out\n",
        "\n",
        "class FeedFoward(nn.Module):\n",
        "    \"\"\" a simple linear layer followed by a non-linearity \"\"\"\n",
        "\n",
        "    def __init__(self, n_embd):\n",
        "        super().__init__()\n",
        "        self.net = nn.Sequential(\n",
        "            nn.Linear(n_embd, 4 * n_embd),\n",
        "            nn.ReLU(),\n",
        "            nn.Linear(4 * n_embd, n_embd),\n",
        "            nn.Dropout(dropout),\n",
        "        )\n",
        "\n",
        "    def forward(self, x):\n",
        "        return self.net(x)\n",
        "class Block(nn.Module):\n",
        "    \"\"\" Transformer block: communication followed by computation \"\"\"\n",
        "\n",
        "    def __init__(self, n_embd, n_head):\n",
        "        # n_embd: embedding dimension, n_head: the number of heads we'd like\n",
        "        super().__init__()\n",
        "        head_size = n_embd // n_head\n",
        "        self.sa = MultiHeadAttention(n_head, head_size)\n",
        "        self.ffwd = FeedFoward(n_embd)\n",
        "        self.ln1 = nn.LayerNorm(n_embd)\n",
        "        self.ln2 = nn.LayerNorm(n_embd)\n",
        "\n",
        "    def forward(self, x):\n",
        "        x = x + self.sa(self.ln1(x))\n",
        "        x = x + self.ffwd(self.ln2(x))\n",
        "        return x\n",
        "\n",
        "class GPTLanguageModel(nn.Module):\n",
        "\n",
        "    def __init__(self):\n",
        "        super().__init__()\n",
        "        # each token directly reads off the logits for the next token from a lookup table\n",
        "        self.token_embedding_table = nn.Embedding(vocab_size, n_embd)\n",
        "        self.position_embedding_table = nn.Embedding(block_size, n_embd)\n",
        "        self.blocks = nn.Sequential(*[Block(n_embd, n_head=n_head) for _ in range(n_layer)])\n",
        "        self.ln_f = nn.LayerNorm(n_embd) # final layer norm\n",
        "        self.lm_head = nn.Linear(n_embd, vocab_size)\n",
        "        self.apply(self._init_weights)\n",
        "\n",
        "    def _init_weights(self, module):\n",
        "        if isinstance(module, nn.Linear):\n",
        "            torch.nn.init.normal_(module.weight, mean=0.0, std=0.02)\n",
        "            if module.bias is not None:\n",
        "                torch.nn.init.zeros_(module.bias)\n",
        "        elif isinstance(module, nn.Embedding):\n",
        "            torch.nn.init.normal_(module.weight, mean=0.0, std=0.02)\n",
        "\n",
        "    def forward(self, idx, targets=None):\n",
        "        B, T = idx.shape\n",
        "\n",
        "        # idx and targets are both (B,T) tensor of integers\n",
        "        tok_emb = self.token_embedding_table(idx) # (B,T,C)\n",
        "        pos_emb = self.position_embedding_table(torch.arange(T, device=device)) # (T,C)\n",
        "        x = tok_emb + pos_emb # (B,T,C)\n",
        "        x = self.blocks(x) # (B,T,C)\n",
        "        x = self.ln_f(x) # (B,T,C)\n",
        "        logits = self.lm_head(x) # (B,T,vocab_size)\n",
        "\n",
        "        if targets is None:\n",
        "            loss = None\n",
        "        else:\n",
        "            B, T, C = logits.shape\n",
        "            logits = logits.view(B*T, C)\n",
        "            targets = targets.view(B*T)\n",
        "            loss = F.cross_entropy(logits, targets)\n",
        "\n",
        "        return logits, loss\n",
        "\n",
        "    def generate(self, idx, max_new_tokens):\n",
        "        # idx is (B, T) array of indices in the current context\n",
        "        for _ in range(max_new_tokens):\n",
        "            # crop idx to the last block_size tokens\n",
        "            idx_cond = idx[:, -block_size:]\n",
        "            # get the predictions\n",
        "            logits, loss = self(idx_cond)\n",
        "            # focus only on the last time step\n",
        "            logits = logits[:, -1, :] # becomes (B, C)\n",
        "            # apply softmax to get probabilities\n",
        "            probs = F.softmax(logits, dim=-1) # (B, C)\n",
        "            # sample from the distribution\n",
        "            idx_next = torch.multinomial(probs, num_samples=1) # (B, 1)\n",
        "            # append sampled index to the running sequence\n",
        "            idx = torch.cat((idx, idx_next), dim=1) # (B, T+1)\n",
        "        return idx\n",
        "\n",
        "model = GPTLanguageModel()\n",
        "m = model.to(device)\n",
        "# print the number of parameters in the model\n",
        "n_param = sum(p.numel() for p in m.parameters())/1e6\n",
        "print(n_param, 'million')\n",
        "\n",
        "# create a PyTorch optimizer\n",
        "optimizer = torch.optim.AdamW(model.parameters(), lr=learning_rate)\n",
        "steps = []\n",
        "train_losses = []\n",
        "val_losses = []\n",
        "\n",
        "for iter in range(max_iters):\n",
        "\n",
        "    # every once in a while evaluate the loss on train and val sets\n",
        "    if iter % eval_interval == 0 or iter == max_iters - 1:\n",
        "        losses = estimate_loss()\n",
        "        print(f\"step {iter}: train loss {losses['train']:.4f}, val loss {losses['val']:.4f}\")\n",
        "\n",
        "        # Store step and loss values for visualization\n",
        "        steps.append(iter)\n",
        "        train_losses.append(losses['train'])\n",
        "        val_losses.append(losses['val'])\n",
        "\n",
        "    # sample a batch of data\n",
        "    xb, yb = get_batch('train')\n",
        "\n",
        "    # evaluate the loss\n",
        "    logits, loss = model(xb, yb)\n",
        "    optimizer.zero_grad(set_to_none=True)\n",
        "    loss.backward()\n",
        "    optimizer.step()"
      ]
    },
    {
      "cell_type": "code",
      "source": [
        "run_time = timeit.default_timer()\n",
        "total_time = run_time - start_time"
      ],
      "metadata": {
        "id": "BdXl_pFb2RqL"
      },
      "execution_count": 13,
      "outputs": []
    },
    {
      "cell_type": "code",
      "source": [
        "input_from_user = \"people often lie about themselves but\"\n",
        "token_input = encode(input_from_user)"
      ],
      "metadata": {
        "id": "79TNjWKC3Ut8"
      },
      "execution_count": 14,
      "outputs": []
    },
    {
      "cell_type": "code",
      "source": [
        "# generate from the model\n",
        "context = torch.tensor([token_input], dtype=torch.long, device=device)\n",
        "generated_output = decode(m.generate(context, max_new_tokens=400)[0].tolist())"
      ],
      "metadata": {
        "id": "XSLsqXg03T3j"
      },
      "execution_count": 15,
      "outputs": []
    },
    {
      "cell_type": "code",
      "source": [
        "import matplotlib.pyplot as plt\n",
        "\n",
        "plt.figure(figsize=(10, 6))\n",
        "plt.plot(steps, train_losses, label='Train Loss')\n",
        "plt.plot(steps, val_losses, label='Validation Loss')\n",
        "plt.title('Loss Over Steps')\n",
        "plt.xlabel('Steps')\n",
        "plt.ylabel('Loss')\n",
        "plt.legend()\n",
        "\n",
        "plt.show()"
      ],
      "metadata": {
        "id": "vmjyuccN42pV",
        "colab": {
          "base_uri": "https://localhost:8080/",
          "height": 483
        },
        "outputId": "fe4c4116-14ff-4315-c385-3367b41d09f7"
      },
      "execution_count": 16,
      "outputs": [
        {
          "output_type": "display_data",
          "data": {
            "text/plain": [
              "<Figure size 1000x600 with 1 Axes>"
            ],
            "image/png": "[encoded data removed]"
          },
          "metadata": {}
        }
      ]
    },
    {
      "cell_type": "code",
      "source": [
        "# saving the model\n",
        "torch.save(model.state_dict(), 'transformer_model.pth')"
      ],
      "metadata": {
        "id": "5bwKjvO_aBZ-"
      },
      "execution_count": 17,
      "outputs": []
    },
    {
      "cell_type": "code",
      "source": [
        "ffn_factor = 6\n",
        "embedding_params = n_embd * vocab_size\n",
        "attention_params = n_head * (n_embd // n_head * 2 * n_embd) * n_layer\n",
        "\n",
        "feedforward_params = n_embd * ffn_factor * n_layer * 2\n",
        "total_params = embedding_params + attention_params + feedforward_params"
      ],
      "metadata": {
        "id": "60DleGHAgFcy"
      },
      "execution_count": 18,
      "outputs": []
    },
    {
      "cell_type": "code",
      "source": [
        "# summary\n",
        "print('//// Summary ////')\n",
        "print(f\"total no of words in the file: {total_no_of_words / 1e6} million\")\n",
        "print(f\"total predicted parameters: {total_params / 1e6} million\")\n",
        "print(f\"actual no of parameters: {n_param} million\")\n",
        "print(f\"total time taken to run the model was {total_time / 3600} hrs\")\n",
        "print(f\"model ran for {max_iters} iterations and final val loss: {val_losses[-1]} and train loss: {train_losses[-1]}\")\n",
        "print('\\n')\n",
        "print(\"/// output ///\")\n",
        "print(f\"I gave input text as: '{input_from_user}'\")\n",
        "print(f\"generated output was {generated_output}\")"
      ],
      "metadata": {
        "id": "GWsCV-S72a1G",
        "colab": {
          "base_uri": "https://localhost:8080/"
        },
        "outputId": "c28bf14c-1602-46d9-c3fb-5d84d9f7a63e"
      },
      "execution_count": 19,
      "outputs": [
        {
          "output_type": "stream",
          "name": "stdout",
          "text": [
            "//// Summary ////\n",
            "total no of words in the file: 397.043001 million\n",
            "total predicted parameters: 4.3659 million\n",
            "actual no of parameters: 25.043122 million\n",
            "total time taken to run the model was 3.2263192910122225 hrs\n",
            "model ran for 15000 iterations and final val loss: 2.085087299346924 and train loss: 2.068484306335449\n",
            "\n",
            "\n",
            "/// output ///\n",
            "I gave input text as: 'people often lie about themselves but'\n",
            "generated output was people often lie about themselves butersowers in thickins wachat ot it'm liketis emy he herener the serandsct por sto goons o ad lingeny o oit seise to sakesendes hir xcrs asow end frimite tὙo it Po anies dit wetes wit itt he've don's il theokere ande ithit des un han'ld oust fnelilyping us doildsudy thing line di's t wank sesilin a t i an wik forar tof as sdecus wiskn guster rep unod pere evald iny tout she umaguty Avoks soal n wit'\n"
          ]
        }
      ]
    },
    {
      "cell_type": "code",
      "source": [
        "from google.colab import files\n",
        "files.download('transformer_model.pth')"
      ],
      "metadata": {
        "id": "VfkCY1IPuege"
      },
      "execution_count": null,
      "outputs": []
    }
  ]
}
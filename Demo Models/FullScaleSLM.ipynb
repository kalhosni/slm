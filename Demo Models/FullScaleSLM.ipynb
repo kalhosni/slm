{
  "nbformat": 4,
  "nbformat_minor": 0,
  "metadata": {
    "colab": {
      "provenance": [],
      "authorship_tag": "ABX9TyPduwyMZFFkyW9vAcZSduDB",
      "include_colab_link": true
    },
    "kernelspec": {
      "name": "python3",
      "display_name": "Python 3"
    },
    "language_info": {
      "name": "python"
    }
  },
  "cells": [
    {
      "cell_type": "markdown",
      "metadata": {
        "id": "view-in-github",
        "colab_type": "text"
      },
      "source": [
        "<a href=\"https://colab.research.google.com/github/shivendrra/SmallLanguageModel-project/blob/main/FullScaleSLM.ipynb\" target=\"_parent\"><img src=\"https://colab.research.google.com/assets/colab-badge.svg\" alt=\"Open In Colab\"/></a>"
      ]
    },
    {
      "cell_type": "markdown",
      "source": [
        "Full Scale Small Language Model\n",
        "by @shivendrra"
      ],
      "metadata": {
        "id": "_cMWcUwF5asT"
      }
    },
    {
      "cell_type": "code",
      "execution_count": null,
      "metadata": {
        "colab": {
          "base_uri": "https://localhost:8080/",
          "height": 38
        },
        "id": "JLfRlwSI5XSQ",
        "outputId": "0c3aad88-aa87-49cf-e858-3f74f6204a74"
      },
      "outputs": [
        {
          "output_type": "display_data",
          "data": {
            "text/plain": [
              "<IPython.core.display.HTML object>"
            ],
            "text/html": [
              "\n",
              "     <input type=\"file\" id=\"files-cc33c7a9-fbb8-424a-9f18-4afbb2351fc7\" name=\"files[]\" multiple disabled\n",
              "        style=\"border:none\" />\n",
              "     <output id=\"result-cc33c7a9-fbb8-424a-9f18-4afbb2351fc7\">\n",
              "      Upload widget is only available when the cell has been executed in the\n",
              "      current browser session. Please rerun this cell to enable.\n",
              "      </output>\n",
              "      <script>// Copyright 2017 Google LLC\n",
              "//\n",
              "// Licensed under the Apache License, Version 2.0 (the \"License\");\n",
              "// you may not use this file except in compliance with the License.\n",
              "// You may obtain a copy of the License at\n",
              "//\n",
              "//      http://www.apache.org/licenses/LICENSE-2.0\n",
              "//\n",
              "// Unless required by applicable law or agreed to in writing, software\n",
              "// distributed under the License is distributed on an \"AS IS\" BASIS,\n",
              "// WITHOUT WARRANTIES OR CONDITIONS OF ANY KIND, either express or implied.\n",
              "// See the License for the specific language governing permissions and\n",
              "// limitations under the License.\n",
              "\n",
              "/**\n",
              " * @fileoverview Helpers for google.colab Python module.\n",
              " */\n",
              "(function(scope) {\n",
              "function span(text, styleAttributes = {}) {\n",
              "  const element = document.createElement('span');\n",
              "  element.textContent = text;\n",
              "  for (const key of Object.keys(styleAttributes)) {\n",
              "    element.style[key] = styleAttributes[key];\n",
              "  }\n",
              "  return element;\n",
              "}\n",
              "\n",
              "// Max number of bytes which will be uploaded at a time.\n",
              "const MAX_PAYLOAD_SIZE = 100 * 1024;\n",
              "\n",
              "function _uploadFiles(inputId, outputId) {\n",
              "  const steps = uploadFilesStep(inputId, outputId);\n",
              "  const outputElement = document.getElementById(outputId);\n",
              "  // Cache steps on the outputElement to make it available for the next call\n",
              "  // to uploadFilesContinue from Python.\n",
              "  outputElement.steps = steps;\n",
              "\n",
              "  return _uploadFilesContinue(outputId);\n",
              "}\n",
              "\n",
              "// This is roughly an async generator (not supported in the browser yet),\n",
              "// where there are multiple asynchronous steps and the Python side is going\n",
              "// to poll for completion of each step.\n",
              "// This uses a Promise to block the python side on completion of each step,\n",
              "// then passes the result of the previous step as the input to the next step.\n",
              "function _uploadFilesContinue(outputId) {\n",
              "  const outputElement = document.getElementById(outputId);\n",
              "  const steps = outputElement.steps;\n",
              "\n",
              "  const next = steps.next(outputElement.lastPromiseValue);\n",
              "  return Promise.resolve(next.value.promise).then((value) => {\n",
              "    // Cache the last promise value to make it available to the next\n",
              "    // step of the generator.\n",
              "    outputElement.lastPromiseValue = value;\n",
              "    return next.value.response;\n",
              "  });\n",
              "}\n",
              "\n",
              "/**\n",
              " * Generator function which is called between each async step of the upload\n",
              " * process.\n",
              " * @param {string} inputId Element ID of the input file picker element.\n",
              " * @param {string} outputId Element ID of the output display.\n",
              " * @return {!Iterable<!Object>} Iterable of next steps.\n",
              " */\n",
              "function* uploadFilesStep(inputId, outputId) {\n",
              "  const inputElement = document.getElementById(inputId);\n",
              "  inputElement.disabled = false;\n",
              "\n",
              "  const outputElement = document.getElementById(outputId);\n",
              "  outputElement.innerHTML = '';\n",
              "\n",
              "  const pickedPromise = new Promise((resolve) => {\n",
              "    inputElement.addEventListener('change', (e) => {\n",
              "      resolve(e.target.files);\n",
              "    });\n",
              "  });\n",
              "\n",
              "  const cancel = document.createElement('button');\n",
              "  inputElement.parentElement.appendChild(cancel);\n",
              "  cancel.textContent = 'Cancel upload';\n",
              "  const cancelPromise = new Promise((resolve) => {\n",
              "    cancel.onclick = () => {\n",
              "      resolve(null);\n",
              "    };\n",
              "  });\n",
              "\n",
              "  // Wait for the user to pick the files.\n",
              "  const files = yield {\n",
              "    promise: Promise.race([pickedPromise, cancelPromise]),\n",
              "    response: {\n",
              "      action: 'starting',\n",
              "    }\n",
              "  };\n",
              "\n",
              "  cancel.remove();\n",
              "\n",
              "  // Disable the input element since further picks are not allowed.\n",
              "  inputElement.disabled = true;\n",
              "\n",
              "  if (!files) {\n",
              "    return {\n",
              "      response: {\n",
              "        action: 'complete',\n",
              "      }\n",
              "    };\n",
              "  }\n",
              "\n",
              "  for (const file of files) {\n",
              "    const li = document.createElement('li');\n",
              "    li.append(span(file.name, {fontWeight: 'bold'}));\n",
              "    li.append(span(\n",
              "        `(${file.type || 'n/a'}) - ${file.size} bytes, ` +\n",
              "        `last modified: ${\n",
              "            file.lastModifiedDate ? file.lastModifiedDate.toLocaleDateString() :\n",
              "                                    'n/a'} - `));\n",
              "    const percent = span('0% done');\n",
              "    li.appendChild(percent);\n",
              "\n",
              "    outputElement.appendChild(li);\n",
              "\n",
              "    const fileDataPromise = new Promise((resolve) => {\n",
              "      const reader = new FileReader();\n",
              "      reader.onload = (e) => {\n",
              "        resolve(e.target.result);\n",
              "      };\n",
              "      reader.readAsArrayBuffer(file);\n",
              "    });\n",
              "    // Wait for the data to be ready.\n",
              "    let fileData = yield {\n",
              "      promise: fileDataPromise,\n",
              "      response: {\n",
              "        action: 'continue',\n",
              "      }\n",
              "    };\n",
              "\n",
              "    // Use a chunked sending to avoid message size limits. See b/62115660.\n",
              "    let position = 0;\n",
              "    do {\n",
              "      const length = Math.min(fileData.byteLength - position, MAX_PAYLOAD_SIZE);\n",
              "      const chunk = new Uint8Array(fileData, position, length);\n",
              "      position += length;\n",
              "\n",
              "      const base64 = btoa(String.fromCharCode.apply(null, chunk));\n",
              "      yield {\n",
              "        response: {\n",
              "          action: 'append',\n",
              "          file: file.name,\n",
              "          data: base64,\n",
              "        },\n",
              "      };\n",
              "\n",
              "      let percentDone = fileData.byteLength === 0 ?\n",
              "          100 :\n",
              "          Math.round((position / fileData.byteLength) * 100);\n",
              "      percent.textContent = `${percentDone}% done`;\n",
              "\n",
              "    } while (position < fileData.byteLength);\n",
              "  }\n",
              "\n",
              "  // All done.\n",
              "  yield {\n",
              "    response: {\n",
              "      action: 'complete',\n",
              "    }\n",
              "  };\n",
              "}\n",
              "\n",
              "scope.google = scope.google || {};\n",
              "scope.google.colab = scope.google.colab || {};\n",
              "scope.google.colab._files = {\n",
              "  _uploadFiles,\n",
              "  _uploadFilesContinue,\n",
              "};\n",
              "})(self);\n",
              "</script> "
            ]
          },
          "metadata": {}
        }
      ],
      "source": [
        "from google.colab import files\n",
        "channelData = files.upload()"
      ]
    },
    {
      "cell_type": "code",
      "source": [
        "channel_Id_Json  = [\n",
        "  \"UCA19mAJURyYHbJzhfpqhpCA\",\n",
        "  \"UCsXVk37bltHxD1rDPwtNM8Q\",\n",
        "  \"UCRcgy6GzDeccI7dkbbBna3Q\",\n",
        "  \"UCmGSJVG3mCRXVOP4yZrU1Dw\",\n",
        "  \"UC415bOPUcGSamy543abLmRA\",\n",
        "  \"UCb_MAhL8Thb3HJ_wPkH3gcw\",\n",
        "  \"UC9RM-iSvTu1uPJb8X5yp3EQ\",\n",
        "  \"UCR1IuLEqb6UEA_zQ81kwXfg\",\n",
        "  \"UCYO_jab_esuFRV4b17AJtAw\",\n",
        "  \"UCA295QVkf9O1RQ8_-s3FVXg\",\n",
        "  \"UCqVEHtQoXHmUCfJ-9smpTSg\",\n",
        "  \"UC4QZ_LsYcvcq7qOsOhpAX4A\",\n",
        "  \"UCLXo7UDZvByw2ixzpQCufnA\"\n",
        "]"
      ],
      "metadata": {
        "id": "4F4emcLd5tnF"
      },
      "execution_count": null,
      "outputs": []
    },
    {
      "cell_type": "code",
      "source": [
        "!pip install python-dotenv\n",
        "!pip install youtube-transcript-api"
      ],
      "metadata": {
        "id": "CKw3U76A7E3c"
      },
      "execution_count": null,
      "outputs": []
    },
    {
      "cell_type": "code",
      "source": [
        "import json\n",
        "from dotenv import load_dotenv\n",
        "import os\n",
        "\n",
        "load_dotenv()\n",
        "api_key = os.getenv('yt_secret_key')"
      ],
      "metadata": {
        "id": "AT2UEmvX7tT3"
      },
      "execution_count": null,
      "outputs": []
    },
    {
      "cell_type": "code",
      "source": [
        "from googleapiclient.discovery import build\n",
        "from youtube_transcript_api import TranscriptsDisabled, YouTubeTranscriptApi\n",
        "import logging\n",
        "\n",
        "logging.basicConfig(filename='youtube_fetch.log', level=logging.ERROR)\n",
        "youtube = build('youtube', 'v3', developerKey=api_key)"
      ],
      "metadata": {
        "id": "XKPrCHP88Pdd"
      },
      "execution_count": null,
      "outputs": []
    },
    {
      "cell_type": "code",
      "source": [
        "import timeit\n",
        "\n",
        "start_time = timeit.default_timer()\n",
        "\n",
        "videoNo = 0\n",
        "for links in channel_Id_Json:\n",
        "  next_page_token = None\n",
        "  videoIds = []\n",
        "\n",
        "  while True:\n",
        "    channelRes = youtube.channels().list(\n",
        "      part='contentDetails', id=links\n",
        "    ).execute()\n",
        "\n",
        "    if 'items' in channelRes and channelRes['items']:\n",
        "      playlistId = channelRes['items'][0]['contentDetails']['relatedPlaylists']['uploads']\n",
        "\n",
        "      playlistResult = youtube.playlistItems().list(\n",
        "        part='contentDetails', playlistId=playlistId,\n",
        "        maxResults = 100, pageToken = next_page_token\n",
        "      ).execute()\n",
        "\n",
        "      videoIds.extend([item['contentDetails']['videoId'] for item in playlistResult.get('items', [])])\n",
        "\n",
        "      next_page_token = playlistResult.get('nextPageToken')\n",
        "\n",
        "      if not next_page_token:\n",
        "        break\n",
        "\n",
        "  for ids in videoIds:\n",
        "    videoUrl = f\"https://www.youtube.com/watch?v={ids}\"\n",
        "    try:\n",
        "      raw_transcripts = []\n",
        "      try:\n",
        "        captions = YouTubeTranscriptApi.get_transcript(\n",
        "          ids, languages=['en'], preserve_formatting=True\n",
        "        )\n",
        "        if captions:\n",
        "          formatted_captions = [{'text': caption['text']} for caption in captions]\n",
        "          raw_transcripts.append(formatted_captions)\n",
        "          videoNo += 1\n",
        "          print(f\"Number of videos with valid captions are: {videoNo}\")\n",
        "        else:\n",
        "          continue\n",
        "      except TranscriptsDisabled as e:\n",
        "        print(F\"There was an error while getting the captions: {e}\")\n",
        "      except Exception as e:\n",
        "        logging.error(f\"There was some error while fetching the video: {str(e)}\")\n",
        "    except Exception as e:\n",
        "      logging.error(f\"There was some error while getting the captions: {str(e)}\")\n",
        "\n",
        "    with open('training_data.txt', 'a', encoding='utf-8') as file:\n",
        "      for videoCaptions in raw_transcripts:\n",
        "        for line in videoCaptions:\n",
        "          file.write(line['text'] + ' ')\n",
        "\n",
        "print(f\"time taken to execute the code is {timeit.default_timer() - start_time} mins\")"
      ],
      "metadata": {
        "id": "1u_qDpAv8fZQ"
      },
      "execution_count": null,
      "outputs": []
    },
    {
      "cell_type": "code",
      "source": [
        "with open('training_data.txt', 'r', encoding='utf-8') as file:\n",
        "  captions = file.read()"
      ],
      "metadata": {
        "id": "jSMsgruO8j37"
      },
      "execution_count": 1,
      "outputs": []
    },
    {
      "cell_type": "code",
      "source": [
        "import nltk\n",
        "nltk.download('punkt')\n",
        "nltk.download('wordnet')\n",
        "from nltk.stem import WordNetLemmatizer, PorterStemmer\n",
        "ps = PorterStemmer()\n",
        "lm = WordNetLemmatizer()"
      ],
      "metadata": {
        "id": "0-Vp2yHT9UYE",
        "colab": {
          "base_uri": "https://localhost:8080/"
        },
        "outputId": "c253d3c4-fdf1-425a-a994-8136998c9b69"
      },
      "execution_count": 2,
      "outputs": [
        {
          "output_type": "stream",
          "name": "stderr",
          "text": [
            "[nltk_data] Downloading package punkt to /root/nltk_data...\n",
            "[nltk_data]   Unzipping tokenizers/punkt.zip.\n",
            "[nltk_data] Downloading package wordnet to /root/nltk_data...\n"
          ]
        }
      ]
    },
    {
      "cell_type": "code",
      "source": [
        "sent_token = nltk.sent_tokenize(captions)\n",
        "print(sent_token[10])"
      ],
      "metadata": {
        "colab": {
          "base_uri": "https://localhost:8080/"
        },
        "id": "COeLlwGIV_Be",
        "outputId": "427836aa-cd97-44f7-cee6-193c669b486d"
      },
      "execution_count": 28,
      "outputs": [
        {
          "output_type": "stream",
          "name": "stdout",
          "text": [
            "Something that would represent kurzgesagt’s   view of the world and our belief in \n",
            "humanity’s potential for greatness.\n"
          ]
        }
      ]
    },
    {
      "cell_type": "code",
      "source": [
        "for i in sent_token:\n",
        "  tokens = nltk.word_tokenize(i)\n",
        "  lemmatized_tokens = [lm.lemmatize(token.lower()) for token in tokens if token.isalpha()]"
      ],
      "metadata": {
        "id": "xP6rapvsX1Jt"
      },
      "execution_count": 33,
      "outputs": []
    },
    {
      "cell_type": "code",
      "source": [
        "# Applying tf-idf\n",
        "from sklearn.feature_extraction.text import TfidfVectorizer\n",
        "\n",
        "tfidf = TfidfVectorizer()\n",
        "tfidf_matrix = tfidf.fit_transform(lemmatized_tokens).toarray()"
      ],
      "metadata": {
        "id": "f-676zjB9xlj"
      },
      "execution_count": 57,
      "outputs": []
    },
    {
      "cell_type": "code",
      "source": [
        "print(len(tfidf_matrix))"
      ],
      "metadata": {
        "colab": {
          "base_uri": "https://localhost:8080/"
        },
        "id": "_xQoEKBAaRh5",
        "outputId": "ad418a0f-22bf-4ae1-e03e-d1b75316306a"
      },
      "execution_count": 58,
      "outputs": [
        {
          "output_type": "stream",
          "name": "stdout",
          "text": [
            "33\n"
          ]
        }
      ]
    },
    {
      "cell_type": "code",
      "source": [
        "# converting the vectors to .csv and then saving it\n",
        "import pandas as pd\n",
        "\n",
        "vector_array = pd.DataFrame(tfidf_matrix)\n",
        "vector_array.to_csv('vector_data.csv')\n",
        "\n",
        "print('data written to .csv file successfully!!')\n",
        "# print(f\"Data vectorized in : {timeit.default_timer() - start_time} mins\")"
      ],
      "metadata": {
        "id": "Ltbfb0l79zu0",
        "colab": {
          "base_uri": "https://localhost:8080/"
        },
        "outputId": "af4e5179-fad5-49dd-e25e-6d548c61bf71"
      },
      "execution_count": 59,
      "outputs": [
        {
          "output_type": "stream",
          "name": "stdout",
          "text": [
            "data written to .csv file successfully!!\n"
          ]
        }
      ]
    },
    {
      "cell_type": "code",
      "source": [
        "dataset = pd.read_csv('vector_data.csv')\n",
        "print(type(dataset))"
      ],
      "metadata": {
        "colab": {
          "base_uri": "https://localhost:8080/"
        },
        "id": "Peltax0mY2gu",
        "outputId": "96c462cb-6655-4dbc-88bb-7c695287fb54"
      },
      "execution_count": 60,
      "outputs": [
        {
          "output_type": "stream",
          "name": "stdout",
          "text": [
            "<class 'pandas.core.frame.DataFrame'>\n"
          ]
        }
      ]
    },
    {
      "cell_type": "code",
      "source": [
        "import torch\n",
        "import torch.nn as nn\n",
        "import torch.optim as optim\n",
        "from torch.utils.data import Dataset, DataLoader\n",
        "import pandas as pd\n",
        "import numpy as np\n",
        "import time\n",
        "\n",
        "start_time = time.time()\n",
        "\n",
        "class CustomDataset(Dataset):\n",
        "    def __init__(self, csv_file):\n",
        "        self.data = pd.read_csv(csv_file)\n",
        "\n",
        "    def __len__(self):\n",
        "        return len(self.data)\n",
        "\n",
        "    def __getitem__(self, idx):\n",
        "        sample = {'input': torch.FloatTensor(self.data.iloc[idx, :-5].values),\n",
        "                  'target': torch.FloatTensor([self.data.iloc[idx, -5]])}\n",
        "        return sample\n",
        "\n",
        "class TransformerModel(nn.Module):\n",
        "    def __init__(self, input_size, output_size, d_model=64, nhead=2, num_layers=2):\n",
        "        super(TransformerModel, self).__init__()\n",
        "        self.embedding = nn.Linear(input_size, d_model)\n",
        "        self.transformer = nn.Transformer(d_model, nhead, num_layers)\n",
        "        self.fc = nn.Linear(d_model, output_size)\n",
        "\n",
        "    def forward(self, x):\n",
        "        x = self.embedding(x)\n",
        "        x = x.unsqueeze(0)\n",
        "\n",
        "        # Apply transformer\n",
        "        x = self.transformer(x, x)\n",
        "        x = x.squeeze(0)\n",
        "        x = torch.mean(x, dim=0)\n",
        "        x = self.fc(x)\n",
        "        return x\n",
        "\n",
        "dataset = CustomDataset('vector_data.csv')\n",
        "dataloader = DataLoader(dataset, batch_size=32, shuffle=True)\n",
        "\n",
        "# model\n",
        "input_size = dataset[0]['input'].shape[0]\n",
        "output_size = dataset[0]['target'].shape[0]\n",
        "model = TransformerModel(input_size, output_size)\n",
        "\n",
        "# loss function and optimizer\n",
        "criterion = nn.MSELoss()\n",
        "optimizer = optim.Adam(model.parameters(), lr=0.001)\n",
        "\n",
        "# Training loop\n",
        "num_epochs = 100\n",
        "losses = []\n",
        "\n",
        "for epoch in range(num_epochs):\n",
        "    epoch_losses = []\n",
        "\n",
        "    for batch in dataloader:\n",
        "        inputs, targets = batch['input'], batch['target']\n",
        "\n",
        "        optimizer.zero_grad()\n",
        "        outputs = model(inputs)\n",
        "        loss = criterion(outputs, targets)\n",
        "        loss.backward()\n",
        "        optimizer.step()\n",
        "\n",
        "        epoch_losses.append(loss.item())\n",
        "\n",
        "    average_epoch_loss = np.mean(epoch_losses)\n",
        "    losses.append(average_epoch_loss)\n",
        "\n",
        "    print(f'Epoch {epoch + 1}/{num_epochs}, Loss: {average_epoch_loss}')\n",
        "\n",
        "end_time = start_time - time.time()\n",
        "print('\\n', f\"Code executed in {end_time / 60} mins\")\n",
        "\n",
        "torch.save(model.state_dict(), 'transformer_model.pth')"
      ],
      "metadata": {
        "id": "f3dPJdi5990B",
        "colab": {
          "base_uri": "https://localhost:8080/"
        },
        "outputId": "0131bc6c-e21a-4c96-ec76-7daddad91315"
      },
      "execution_count": 67,
      "outputs": [
        {
          "output_type": "stream",
          "name": "stderr",
          "text": [
            "/usr/local/lib/python3.10/dist-packages/torch/nn/modules/transformer.py:282: UserWarning: enable_nested_tensor is True, but self.use_nested_tensor is False because encoder_layer.self_attn.batch_first was not True(use batch_first for better inference performance)\n",
            "  warnings.warn(f\"enable_nested_tensor is True, but self.use_nested_tensor is False because {why_not_sparsity_fast_path}\")\n",
            "/usr/local/lib/python3.10/dist-packages/torch/nn/modules/loss.py:535: UserWarning: Using a target size (torch.Size([32, 1])) that is different to the input size (torch.Size([1])). This will likely lead to incorrect results due to broadcasting. Please ensure they have the same size.\n",
            "  return F.mse_loss(input, target, reduction=self.reduction)\n",
            "/usr/local/lib/python3.10/dist-packages/torch/nn/modules/loss.py:535: UserWarning: Using a target size (torch.Size([1, 1])) that is different to the input size (torch.Size([1])). This will likely lead to incorrect results due to broadcasting. Please ensure they have the same size.\n",
            "  return F.mse_loss(input, target, reduction=self.reduction)\n"
          ]
        },
        {
          "output_type": "stream",
          "name": "stdout",
          "text": [
            "Epoch 1/100, Loss: 4.443864047527313\n",
            "Epoch 2/100, Loss: 1.5579406023025513\n",
            "Epoch 3/100, Loss: 0.3652389645576477\n",
            "Epoch 4/100, Loss: 0.29687606915831566\n",
            "Epoch 5/100, Loss: 0.073617834597826\n",
            "Epoch 6/100, Loss: 0.19278176873922348\n",
            "Epoch 7/100, Loss: 0.04913720874553107\n",
            "Epoch 8/100, Loss: 0.02273709373548627\n",
            "Epoch 9/100, Loss: 0.01979414909146726\n",
            "Epoch 10/100, Loss: 0.03465003566816449\n",
            "Epoch 11/100, Loss: 0.027271769009530544\n",
            "Epoch 12/100, Loss: 0.06604825705289841\n",
            "Epoch 13/100, Loss: 0.015247741524945013\n",
            "Epoch 14/100, Loss: 0.06464808806777\n",
            "Epoch 15/100, Loss: 0.04653896111994982\n",
            "Epoch 16/100, Loss: 0.021390523795162153\n",
            "Epoch 17/100, Loss: 0.019155686488375068\n",
            "Epoch 18/100, Loss: 0.05180709436535835\n",
            "Epoch 19/100, Loss: 0.11360288225114346\n",
            "Epoch 20/100, Loss: 0.047052159905433655\n",
            "Epoch 21/100, Loss: 0.025042245164513588\n",
            "Epoch 22/100, Loss: 0.04250383656471968\n",
            "Epoch 23/100, Loss: 0.01949952752329409\n",
            "Epoch 24/100, Loss: 0.0159996617003344\n",
            "Epoch 25/100, Loss: 0.02052756278135348\n",
            "Epoch 26/100, Loss: 0.033712029457092285\n",
            "Epoch 27/100, Loss: 0.02917064167559147\n",
            "Epoch 28/100, Loss: 0.029698551632463932\n",
            "Epoch 29/100, Loss: 0.01598779719643062\n",
            "Epoch 30/100, Loss: 0.02063004905357957\n",
            "Epoch 31/100, Loss: 0.023082313127815723\n",
            "Epoch 32/100, Loss: 0.4044638443738222\n",
            "Epoch 33/100, Loss: 0.027378696016967297\n",
            "Epoch 34/100, Loss: 0.030095285270363092\n",
            "Epoch 35/100, Loss: 0.11668196320533752\n",
            "Epoch 36/100, Loss: 0.06544908508658409\n",
            "Epoch 37/100, Loss: 0.03274781070649624\n",
            "Epoch 38/100, Loss: 0.030371439643204212\n",
            "Epoch 39/100, Loss: 0.06967534124851227\n",
            "Epoch 40/100, Loss: 0.04291856475174427\n",
            "Epoch 41/100, Loss: 0.02001858182484284\n",
            "Epoch 42/100, Loss: 0.03991016000509262\n",
            "Epoch 43/100, Loss: 0.03974391333758831\n",
            "Epoch 44/100, Loss: 0.10573644191026688\n",
            "Epoch 45/100, Loss: 0.019935416989028454\n",
            "Epoch 46/100, Loss: 0.04051200672984123\n",
            "Epoch 47/100, Loss: 0.04374300595372915\n",
            "Epoch 48/100, Loss: 0.0341469906270504\n",
            "Epoch 49/100, Loss: 0.04390152916312218\n",
            "Epoch 50/100, Loss: 0.015665381564758718\n",
            "Epoch 51/100, Loss: 0.05348309315741062\n",
            "Epoch 52/100, Loss: 0.032163760624825954\n",
            "Epoch 53/100, Loss: 0.02274190029129386\n",
            "Epoch 54/100, Loss: 0.0198617042042315\n",
            "Epoch 55/100, Loss: 0.0548089575022459\n",
            "Epoch 56/100, Loss: 0.027830973267555237\n",
            "Epoch 57/100, Loss: 0.5661515370320842\n",
            "Epoch 58/100, Loss: 0.09490709938108921\n",
            "Epoch 59/100, Loss: 0.13121379911899567\n",
            "Epoch 60/100, Loss: 0.15853837132453918\n",
            "Epoch 61/100, Loss: 0.04081210633739829\n",
            "Epoch 62/100, Loss: 0.016313239641021937\n",
            "Epoch 63/100, Loss: 0.04291746858507395\n",
            "Epoch 64/100, Loss: 0.09615406021475792\n",
            "Epoch 65/100, Loss: 0.059185853227972984\n",
            "Epoch 66/100, Loss: 0.023460101860109717\n",
            "Epoch 67/100, Loss: 0.03022238053381443\n",
            "Epoch 68/100, Loss: 0.031743645668029785\n",
            "Epoch 69/100, Loss: 0.021318524843081832\n",
            "Epoch 70/100, Loss: 0.020914075765176676\n",
            "Epoch 71/100, Loss: 0.45576046989299357\n",
            "Epoch 72/100, Loss: 0.05120599828660488\n",
            "Epoch 73/100, Loss: 0.03307698853313923\n",
            "Epoch 74/100, Loss: 0.046999918296933174\n",
            "Epoch 75/100, Loss: 0.019656708522234112\n",
            "Epoch 76/100, Loss: 0.017039301223121583\n",
            "Epoch 77/100, Loss: 0.029147258028388023\n",
            "Epoch 78/100, Loss: 0.03157045040279627\n",
            "Epoch 79/100, Loss: 0.03365700482390821\n",
            "Epoch 80/100, Loss: 0.04829913191497326\n",
            "Epoch 81/100, Loss: 0.018532401183620095\n",
            "Epoch 82/100, Loss: 0.015856180456466973\n",
            "Epoch 83/100, Loss: 0.017489894235040992\n",
            "Epoch 84/100, Loss: 0.024129636585712433\n",
            "Epoch 85/100, Loss: 0.02688753604888916\n",
            "Epoch 86/100, Loss: 0.023884708527475595\n",
            "Epoch 87/100, Loss: 0.01587565673980862\n",
            "Epoch 88/100, Loss: 0.02793776709586382\n",
            "Epoch 89/100, Loss: 0.6367508589755744\n",
            "Epoch 90/100, Loss: 0.02409516368061304\n",
            "Epoch 91/100, Loss: 0.03950093314051628\n",
            "Epoch 92/100, Loss: 0.06488475762307644\n",
            "Epoch 93/100, Loss: 0.04270024970173836\n",
            "Epoch 94/100, Loss: 0.03223924990743399\n",
            "Epoch 95/100, Loss: 0.015327578847063705\n",
            "Epoch 96/100, Loss: 0.023934545693919063\n",
            "Epoch 97/100, Loss: 0.036437734961509705\n",
            "Epoch 98/100, Loss: 0.027568173594772816\n",
            "Epoch 99/100, Loss: 0.02069147862493992\n",
            "Epoch 100/100, Loss: 0.016316570690833032\n",
            "\n",
            " Code executed in -0.23681469758351645 mins\n"
          ]
        }
      ]
    },
    {
      "cell_type": "code",
      "source": [
        "import matplotlib.pyplot as plt\n",
        "\n",
        "plt.plot(range(1, num_epochs + 1), losses)\n",
        "plt.title('Training Loss Over Epochs')\n",
        "plt.xlabel('Epoch')\n",
        "plt.ylabel('Loss')\n",
        "plt.grid(False)\n",
        "plt.show()"
      ],
      "metadata": {
        "id": "xtSXpBWz-I69",
        "colab": {
          "base_uri": "https://localhost:8080/",
          "height": 472
        },
        "outputId": "51f4d143-490b-41ed-8096-03a170e4b311"
      },
      "execution_count": 68,
      "outputs": [
        {
          "output_type": "display_data",
          "data": {
            "text/plain": [
              "<Figure size 640x480 with 1 Axes>"
            ],
            "image/png": "[encoded data removed]"
          },
          "metadata": {}
        }
      ]
    },
    {
      "cell_type": "code",
      "source": [],
      "metadata": {
        "id": "g0w-CHEaSDGO"
      },
      "execution_count": null,
      "outputs": []
    }
  ]
}
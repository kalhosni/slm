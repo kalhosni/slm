{
  "nbformat": 4,
  "nbformat_minor": 0,
  "metadata": {
    "colab": {
      "provenance": [],
      "gpuType": "T4",
      "authorship_tag": "ABX9TyN3cx4FaQVLg7XtwX7MICYA",
      "include_colab_link": true
    },
    "kernelspec": {
      "name": "python3",
      "display_name": "Python 3"
    },
    "language_info": {
      "name": "python"
    },
    "accelerator": "GPU"
  },
  "cells": [
    {
      "cell_type": "markdown",
      "metadata": {
        "id": "view-in-github",
        "colab_type": "text"
      },
      "source": [
        "<a href=\"https://colab.research.google.com/github/shivendrra/SmallLanguageModel-project/blob/main/Final%20Models/Transformer/TransformerFromScratch.ipynb\" target=\"_parent\"><img src=\"https://colab.research.google.com/assets/colab-badge.svg\" alt=\"Open In Colab\"/></a>"
      ]
    },
    {
      "cell_type": "code",
      "execution_count": 1,
      "metadata": {
        "id": "uI03ZwJAd0bv"
      },
      "outputs": [],
      "source": [
        "from tokenizers import normalizers\n",
        "from tokenizers import Tokenizer, models, trainers, pre_tokenizers, decoders, processors\n",
        "from tokenizers.normalizers import NFD, StripAccents\n",
        "\n",
        "import os\n",
        "\n",
        "class EncoderDecoder:\n",
        "  def __init__(self, model_path=\"custom-model.json\"):\n",
        "    self.tokenizer = Tokenizer(models.BPE())\n",
        "    self.model_path = model_path\n",
        "    self.setup_tokenizer()\n",
        "\n",
        "  def train_tokenizer(self, corpus, vocab_size=1000):\n",
        "    trainer = trainers.BpeTrainer(special_tokens=[\"<pad>\", \"<unk>\", \"<s>\", \"<\\s>\"], vocab_size=vocab_size)\n",
        "    self.tokenizer.train_from_iterator(corpus, trainer=trainer)\n",
        "    # self.save_model()\n",
        "\n",
        "  def save_model(self):\n",
        "    model_directory = os.path.dirname(self.model_path)\n",
        "    os.makedirs(model_directory, exist_ok=True)\n",
        "    print(\"Model Path:\", self.model_path)\n",
        "    self.tokenizer.model.save(model_directory, \"custom-model\")\n",
        "\n",
        "  def load_model(self):\n",
        "    self.tokenizer.model = models.BPE.load(self.model_path)\n",
        "\n",
        "  def setup_tokenizer(self):\n",
        "    self.tokenizer.normalizer = normalizers.Sequence([NFD(), StripAccents()])\n",
        "    self.tokenizer.pre_tokenizer = pre_tokenizers.ByteLevel()\n",
        "    self.tokenizer.decoder = decoders.ByteLevel()\n",
        "    self.tokenizer.post_processor = processors.ByteLevel(trim_offsets=True)\n",
        "    self.tokenizer.enable_padding(pad_id=0, pad_token=\"<pad>\")\n",
        "\n",
        "  def encode(self, text):\n",
        "    encoding = self.tokenizer.encode(text)\n",
        "    return encoding.ids\n",
        "\n",
        "  def decode(self, ids):\n",
        "    ids_list = ids.tolist()\n",
        "    tokens = self.tokenizer.decode(ids_list)\n",
        "    return tokens"
      ]
    },
    {
      "cell_type": "code",
      "source": [
        "from google.colab import drive\n",
        "drive.mount('/content/drive')"
      ],
      "metadata": {
        "colab": {
          "base_uri": "https://localhost:8080/"
        },
        "id": "9l5-90t8d1mz",
        "outputId": "2857e635-9293-4c20-99a8-214b32aae19a"
      },
      "execution_count": 2,
      "outputs": [
        {
          "output_type": "stream",
          "name": "stdout",
          "text": [
            "Drive already mounted at /content/drive; to attempt to forcibly remount, call drive.mount(\"/content/drive\", force_remount=True).\n"
          ]
        }
      ]
    },
    {
      "cell_type": "code",
      "source": [
        "# data for training the BPE\n",
        "with open('/content/drive/MyDrive/training_data.txt', 'r', encoding='utf-8') as file:\n",
        "  captions = file.read()\n",
        "\n",
        "print(len(captions)/1e6, 'million words')"
      ],
      "metadata": {
        "colab": {
          "base_uri": "https://localhost:8080/"
        },
        "id": "5Joo9IjTd3l-",
        "outputId": "9962914d-0f35-4005-a20a-e801978b9071"
      },
      "execution_count": 3,
      "outputs": [
        {
          "output_type": "stream",
          "name": "stdout",
          "text": [
            "30.083569 million words\n"
          ]
        }
      ]
    },
    {
      "cell_type": "code",
      "source": [
        "# encoder-decoder\n",
        "encoder_decoder = EncoderDecoder()\n",
        "encoder_decoder.train_tokenizer(captions, vocab_size=10000)\n",
        "input_data = encoder_decoder.encode(captions)\n",
        "print(\"total tokens\", len(input_data)/1e5, 'hundred thousand')"
      ],
      "metadata": {
        "colab": {
          "base_uri": "https://localhost:8080/"
        },
        "id": "cJkfCB8Yd55F",
        "outputId": "44371c69-fc76-4755-dd00-515900cd0f4a"
      },
      "execution_count": 4,
      "outputs": [
        {
          "output_type": "stream",
          "name": "stdout",
          "text": [
            "total tokens 250.78023 hundred thousand\n"
          ]
        }
      ]
    },
    {
      "cell_type": "code",
      "source": [
        "print(len(encoder_decoder.tokenizer.get_vocab()))"
      ],
      "metadata": {
        "colab": {
          "base_uri": "https://localhost:8080/"
        },
        "id": "4kFBXaeDf0nA",
        "outputId": "77b5f04b-1103-4cf8-f37a-fd44c06b4ac5"
      },
      "execution_count": 5,
      "outputs": [
        {
          "output_type": "stream",
          "name": "stdout",
          "text": [
            "529\n"
          ]
        }
      ]
    },
    {
      "cell_type": "code",
      "source": [
        "# train-test split\n",
        "\n",
        "n = int(0.9*len(input_data)) # first 90% will be train, rest val\n",
        "train_data = input_data[:n]\n",
        "val_data = input_data[n:]\n",
        "print(f\"train data {len(train_data) / 1e3} thousand \\n validation data {len(val_data) / 1e3} thousand\")"
      ],
      "metadata": {
        "colab": {
          "base_uri": "https://localhost:8080/"
        },
        "id": "YPoEGhGjd7wT",
        "outputId": "3785bb91-28f7-4a60-e87f-961c91160205"
      },
      "execution_count": 6,
      "outputs": [
        {
          "output_type": "stream",
          "name": "stdout",
          "text": [
            "train data 22570.22 thousand \n",
            " validation data 2507.803 thousand\n"
          ]
        }
      ]
    },
    {
      "cell_type": "code",
      "source": [
        "print(\"Before trimming:\", len(train_data), len(val_data))\n",
        "\n",
        "# Trimming data for a multiple of 4\n",
        "train_remainder = len(train_data) % 4\n",
        "val_remainder = len(val_data) % 4\n",
        "train_data = train_data[:-train_remainder] if train_remainder != 0 else train_data\n",
        "val_data = val_data[:-val_remainder] if val_remainder != 0 else val_data\n",
        "\n",
        "print(len(train_data), len(val_data))"
      ],
      "metadata": {
        "id": "oQ-jNTokd-dt"
      },
      "execution_count": null,
      "outputs": []
    },
    {
      "cell_type": "code",
      "source": [
        "import torch\n",
        "\n",
        "# Convert to tensors\n",
        "train_data = torch.tensor(train_data, dtype=torch.long)\n",
        "val_data = torch.tensor(val_data, dtype=torch.long)\n",
        "print(f\"train data = {train_data[:10]}, \\nval data = {val_data[:10]}\")\n",
        "print(f\"train data = {encoder_decoder.decode(train_data[:10])}, val data = {encoder_decoder.decode(val_data[:10])}\")"
      ],
      "metadata": {
        "colab": {
          "base_uri": "https://localhost:8080/"
        },
        "id": "kbpCqSCCeAuW",
        "outputId": "6f8d6a4f-ef93-4eae-c5d0-7261d22ac701"
      },
      "execution_count": 7,
      "outputs": [
        {
          "output_type": "stream",
          "name": "stdout",
          "text": [
            "train data = tensor([183,  75,  76,  86, 186,  86, 194,  68,  79,  79]), \n",
            "val data = tensor([ 70,  75,  68,  81,  74,  72, 184,  69,  82,  88])\n",
            "train data =  this is call, val data = change abou\n"
          ]
        }
      ]
    },
    {
      "cell_type": "code",
      "source": [
        "import timeit\n",
        "\n",
        "start_time_2 = timeit.default_timer()"
      ],
      "metadata": {
        "id": "gCBK_lF1eCfH"
      },
      "execution_count": 8,
      "outputs": []
    },
    {
      "cell_type": "code",
      "source": [
        "import torch\n",
        "import torch.nn as nn\n",
        "from torch.nn import functional as F\n",
        "\n",
        "# hyperparameters\n",
        "batch_size = 128 # independent sequences process in parallel\n",
        "block_size = 256 # maximum context length for predictions\n",
        "max_iters = 2000\n",
        "eval_interval = 500\n",
        "learning_rate = 3e-4\n",
        "device = 'cuda' if torch.cuda.is_available() else 'cpu'\n",
        "eval_iters = 200\n",
        "n_embd = 384\n",
        "n_head = 8\n",
        "n_layer = 8\n",
        "dropout = 0.2\n",
        "norm_eps = 1e-05\n",
        "vocab_size = len(encoder_decoder.tokenizer.get_vocab())\n",
        "# ------------\n",
        "\n",
        "torch.manual_seed(1400)\n",
        "\n",
        "# data loading\n",
        "def get_batch(split):\n",
        "    # generate a small batch of data of inputs x and targets y\n",
        "    data = train_data if split == 'train' else val_data\n",
        "    ix = torch.randint(len(data) - block_size, (batch_size,))\n",
        "    x = torch.stack([data[i:i+block_size] for i in ix])\n",
        "    y = torch.stack([data[i+1:i+block_size+1] for i in ix])\n",
        "    x, y = x.to(device), y.to(device)\n",
        "    return x, y\n",
        "\n",
        "@torch.no_grad()\n",
        "def estimate_loss():\n",
        "    out = {}\n",
        "    model.eval()\n",
        "    for split in ['train', 'val']:\n",
        "        losses = torch.zeros(eval_iters)\n",
        "        for k in range(eval_iters):\n",
        "            X, Y = get_batch(split)\n",
        "            logits, loss = model(X, Y)\n",
        "            losses[k] = loss.item()\n",
        "        out[split] = losses.mean()\n",
        "    model.train()\n",
        "    return out\n",
        "\n",
        "class Head(nn.Module):\n",
        "    \"\"\" one head of self-attention \"\"\"\n",
        "\n",
        "    def __init__(self, head_size):\n",
        "        super().__init__()\n",
        "        self.key = nn.Linear(n_embd, head_size, bias=False)\n",
        "        self.query = nn.Linear(n_embd, head_size, bias=False)\n",
        "        self.value = nn.Linear(n_embd, head_size, bias=False)\n",
        "        self.register_buffer('tril', torch.tril(torch.ones(block_size, block_size)))\n",
        "\n",
        "        self.dropout = nn.Dropout(dropout)\n",
        "\n",
        "    def forward(self, x):\n",
        "        # input of size (batch, time-step, channels)\n",
        "        # output of size (batch, time-step, head size)\n",
        "        B,T,C = x.shape\n",
        "        k = self.key(x)   # (B,T,hs)\n",
        "        q = self.query(x) # (B,T,hs)\n",
        "        # compute attention scores (\"affinities\")\n",
        "        wei = q @ k.transpose(-2,-1) * k.shape[-1]**-0.5 # (B, T, hs) @ (B, hs, T) -> (B, T, T)\n",
        "        wei = wei.masked_fill(self.tril[:T, :T] == 0, float('-inf')) # (B, T, T)\n",
        "        wei = F.softmax(wei, dim=-1) # (B, T, T)\n",
        "        wei = self.dropout(wei)\n",
        "        # perform the weighted aggregation of the values\n",
        "        v = self.value(x) # (B,T,hs)\n",
        "        out = wei @ v # (B, T, T) @ (B, T, hs) -> (B, T, hs)\n",
        "        return out\n",
        "\n",
        "class MultiHeadAttention(nn.Module):\n",
        "    \"\"\" multiple heads of self-attention in parallel \"\"\"\n",
        "\n",
        "    def __init__(self, num_heads, head_size):\n",
        "        super().__init__()\n",
        "        self.heads = nn.ModuleList([Head(head_size) for _ in range(num_heads)])\n",
        "        self.proj = nn.Linear(head_size * num_heads, n_embd)\n",
        "        self.dropout = nn.Dropout(dropout)\n",
        "\n",
        "    def forward(self, x):\n",
        "        out = torch.cat([h(x) for h in self.heads], dim=-1)\n",
        "        out = self.dropout(self.proj(out))\n",
        "        return out\n",
        "\n",
        "class FeedFoward(nn.Module):\n",
        "    \"\"\" a simple linear layer followed by a non-linearity \"\"\"\n",
        "\n",
        "    def __init__(self, n_embd):\n",
        "        super().__init__()\n",
        "        self.net = nn.Sequential(\n",
        "            nn.Linear(n_embd, 4 * n_embd),\n",
        "            nn.ReLU(),\n",
        "            nn.Linear(4 * n_embd, n_embd),\n",
        "            nn.Dropout(dropout),\n",
        "        )\n",
        "\n",
        "    def forward(self, x):\n",
        "        return self.net(x)\n",
        "class Block(nn.Module):\n",
        "    \"\"\" Transformer block: communication followed by computation \"\"\"\n",
        "\n",
        "    def __init__(self, n_embd, n_head):\n",
        "        # n_embd: embedding dimension, n_head: the number of heads we'd like\n",
        "        super().__init__()\n",
        "        head_size = n_embd // n_head\n",
        "        self.sa = MultiHeadAttention(n_head, head_size)\n",
        "        self.ffwd = FeedFoward(n_embd)\n",
        "        self.ln1 = nn.LayerNorm(n_embd, eps=norm_eps)\n",
        "        self.ln2 = nn.LayerNorm(n_embd, eps=norm_eps)\n",
        "\n",
        "    def forward(self, x):\n",
        "        x = x + self.sa(self.ln1(x))\n",
        "        x = x + self.ffwd(self.ln2(x))\n",
        "        return x\n",
        "\n",
        "class GPTLanguageModel(nn.Module):\n",
        "\n",
        "    def __init__(self):\n",
        "        super().__init__()\n",
        "        # each token directly reads off the logits for the next token from a lookup table\n",
        "        self.token_embedding_table = nn.Embedding(vocab_size, n_embd)\n",
        "        self.position_embedding_table = nn.Embedding(block_size, n_embd)\n",
        "        self.blocks = nn.Sequential(*[Block(n_embd, n_head=n_head) for _ in range(n_layer)])\n",
        "        self.ln_f = nn.LayerNorm(n_embd, eps=norm_eps) # final layer norm\n",
        "        self.lm_head = nn.Linear(n_embd, vocab_size)\n",
        "        self.apply(self._init_weights)\n",
        "\n",
        "    def _init_weights(self, module):\n",
        "        if isinstance(module, nn.Linear):\n",
        "            torch.nn.init.normal_(module.weight, mean=0.0, std=0.02)\n",
        "            if module.bias is not None:\n",
        "                torch.nn.init.zeros_(module.bias.data)\n",
        "        elif isinstance(module, nn.Embedding):\n",
        "            torch.nn.init.normal_(module.weight, mean=0.0, std=0.02)\n",
        "\n",
        "    def forward(self, idx, targets=None):\n",
        "        B, T = idx.shape\n",
        "\n",
        "        # idx and targets are both (B,T) tensor of integers\n",
        "        tok_emb = self.token_embedding_table(idx) # (B,T,C)\n",
        "        pos_emb = self.position_embedding_table(torch.arange(T, device=device)) # (T,C)\n",
        "        x = tok_emb + pos_emb # (B,T,C)\n",
        "        x = self.blocks(x) # (B,T,C)\n",
        "        x = self.ln_f(x) # (B,T,C)\n",
        "        logits = self.lm_head(x) # (B,T,vocab_size)\n",
        "\n",
        "        if targets is None:\n",
        "            loss = None\n",
        "        else:\n",
        "            B, T, C = logits.shape\n",
        "            logits = logits.view(B*T, C)\n",
        "            targets = targets.view(B*T)\n",
        "            loss = F.cross_entropy(logits, targets)\n",
        "\n",
        "        return logits, loss\n",
        "\n",
        "    def generate(self, idx, max_new_tokens):\n",
        "        # idx is (B, T) array of indices in the current context\n",
        "        for _ in range(max_new_tokens):\n",
        "            # crop idx to the last block_size tokens\n",
        "            idx_cond = idx[:, -block_size:]\n",
        "            # get the predictions\n",
        "            logits, loss = self(idx_cond)\n",
        "            # focus only on the last time step\n",
        "            logits = logits[:, -1, :] # becomes (B, C)\n",
        "            # apply softmax to get probabilities\n",
        "            probs = F.softmax(logits, dim=-1) # (B, C)\n",
        "            # sample from the distribution\n",
        "            idx_next = torch.multinomial(probs, num_samples=1) # (B, 1)\n",
        "            # append sampled index to the running sequence\n",
        "            idx = torch.cat((idx, idx_next), dim=1) # (B, T+1)\n",
        "        return idx\n",
        "\n",
        "model = GPTLanguageModel()\n",
        "m = model.to(device)\n",
        "# print the number of parameters in the model\n",
        "n_param = sum(p.numel() for p in m.parameters())/1e6\n",
        "print(n_param, 'million')\n",
        "\n",
        "# create a PyTorch optimizer\n",
        "optimizer = torch.optim.AdamW(model.parameters(), lr=learning_rate)\n",
        "steps = []\n",
        "train_losses = []\n",
        "val_losses = []\n",
        "\n",
        "for iter in range(max_iters):\n",
        "\n",
        "    # every once in a while evaluate the loss on train and val sets\n",
        "    if iter % eval_interval == 0 or iter == max_iters - 1:\n",
        "        losses = estimate_loss()\n",
        "        print(f\"step {iter}: train loss {losses['train']:.4f}, val loss {losses['val']:.4f}\")\n",
        "\n",
        "        # Store step and loss values for visualization\n",
        "        steps.append(iter)\n",
        "        train_losses.append(losses['train'])\n",
        "        val_losses.append(losses['val'])\n",
        "\n",
        "    # sample a batch of data\n",
        "    xb, yb = get_batch('train')\n",
        "\n",
        "    # evaluate the loss\n",
        "    logits, loss = model(xb, yb)\n",
        "    optimizer.zero_grad(set_to_none=True)\n",
        "    loss.backward()\n",
        "    optimizer.step()"
      ],
      "metadata": {
        "colab": {
          "base_uri": "https://localhost:8080/"
        },
        "id": "TBYHOyu8eG3A",
        "outputId": "346cb764-1e04-44c7-9604-092946f98fcf"
      },
      "execution_count": 9,
      "outputs": [
        {
          "output_type": "stream",
          "name": "stdout",
          "text": [
            "14.692369 million\n",
            "step 0: train loss 6.3979, val loss 6.3987\n",
            "step 500: train loss 2.0186, val loss 2.0545\n",
            "step 1000: train loss 1.6711, val loss 1.7260\n",
            "step 1500: train loss 1.5604, val loss 1.6261\n",
            "step 1999: train loss 1.4908, val loss 1.5623\n"
          ]
        }
      ]
    },
    {
      "cell_type": "code",
      "source": [
        "model_train = timeit.default_timer()\n",
        "\n",
        "print(f\"time taken to train the model {(model_train - start_time_2) / 3600 } hrs\")"
      ],
      "metadata": {
        "colab": {
          "base_uri": "https://localhost:8080/"
        },
        "id": "pm27NbV8e6GX",
        "outputId": "5708bd74-9e7a-42fc-a87d-cc77109746d5"
      },
      "execution_count": 10,
      "outputs": [
        {
          "output_type": "stream",
          "name": "stdout",
          "text": [
            "time taken to train the model 0.9877082991602778 hrs\n"
          ]
        }
      ]
    },
    {
      "cell_type": "code",
      "source": [
        "# generate from the model\n",
        "context = 'when I was a kid'\n",
        "input_tokens = torch.tensor(encoder_decoder.encode(context), dtype=torch.long, device=device)\n",
        "input_tokens = input_tokens.unsqueeze(0)\n",
        "print(input_tokens)\n",
        "generated_output = m.generate(idx=input_tokens, max_new_tokens=100)[0]\n",
        "\n",
        "print(f\"generated output:\")\n",
        "print(f\"'{context}' {encoder_decoder.decode(generated_output)}\")"
      ],
      "metadata": {
        "colab": {
          "base_uri": "https://localhost:8080/"
        },
        "id": "giCa0cFbezec",
        "outputId": "0e0ea928-c533-476e-8401-0f0dafda6319"
      },
      "execution_count": 16,
      "outputs": [
        {
          "output_type": "stream",
          "name": "stdout",
          "text": [
            "tensor([[200,  75,  72,  81, 208, 200,  68,  86, 184, 204,  76,  71]],\n",
            "       device='cuda:0')\n",
            "generated output:\n",
            "'when I was a kid'  when I was a kid then push of wait to the whole ponce best and I do. It's got the discovery of it or wants to do watching describe to that pot o\n"
          ]
        }
      ]
    },
    {
      "cell_type": "code",
      "source": [
        "import matplotlib.pyplot as plt\n",
        "\n",
        "plt.figure(figsize=(10, 6))\n",
        "plt.plot(steps, train_losses, label='Train Loss')\n",
        "plt.plot(steps, val_losses, label='Validation Loss')\n",
        "plt.title('Loss Over Steps')\n",
        "plt.xlabel('Steps')\n",
        "plt.ylabel('Loss')\n",
        "plt.legend()\n",
        "plt.show()"
      ],
      "metadata": {
        "colab": {
          "base_uri": "https://localhost:8080/",
          "height": 504
        },
        "id": "aUR4if4Qe4eQ",
        "outputId": "fe31d7dc-e88e-40ec-f1c4-bcadc5ce1d8d"
      },
      "execution_count": 17,
      "outputs": [
        {
          "output_type": "display_data",
          "data": {
            "text/plain": [
              "<Figure size 1000x600 with 1 Axes>"
            ],
            "image/png": "[encoded data removed]"
          },
          "metadata": {}
        }
      ]
    },
    {
      "cell_type": "code",
      "source": [
        "# summary\n",
        "end_time = timeit.default_timer()\n",
        "\n",
        "total_time = (end_time - start_time_2) / 3600\n",
        "\n",
        "ffn_factor = 4\n",
        "embedding_params = n_embd * vocab_size\n",
        "attention_params = n_head * (n_embd // n_head * 2 * n_embd) * n_layer\n",
        "\n",
        "feedforward_params = n_embd * ffn_factor * n_layer * 2\n",
        "total_param = sum(p.numel() for p in m.parameters()) / 1e6\n",
        "total_params = embedding_params + attention_params + feedforward_params\n",
        "\n",
        "print(\"///// summary /////\")\n",
        "print(f\"total vocab size was {vocab_size}\")\n",
        "print(\"total no of calculated parameters:\", total_params)\n",
        "print(\"total no of actual parameters:\", total_param)\n",
        "print(f\"time taken to train the model was {(model_train - start_time_2) / 3600} hrs\")\n",
        "print(f\"model ran for {max_iters} iterations and final val loss: {val_losses[-1]} and train loss: {train_losses[-1]}\")\n",
        "print('\\n', '\\n')\n",
        "print(\"//// generated output ////\")\n",
        "print(encoder_decoder.decode(generated_output))"
      ],
      "metadata": {
        "colab": {
          "base_uri": "https://localhost:8080/"
        },
        "id": "YqSpaTiDfDQW",
        "outputId": "140d9cc0-c705-44cb-d852-ebaf181ef3f8"
      },
      "execution_count": 18,
      "outputs": [
        {
          "output_type": "stream",
          "name": "stdout",
          "text": [
            "///// summary /////\n",
            "total vocab size was 529\n",
            "total no of calculated parameters: 2587008\n",
            "total no of actual parameters: 14.692369\n",
            "time taken to train the model was 0.9877082991602778 hrs\n",
            "model ran for 2000 iterations and final val loss: 1.5622766017913818 and train loss: 1.4907718896865845\n",
            "\n",
            " \n",
            "\n",
            "//// generated output ////\n",
            " when I was a kid then push of wait to the whole ponce best and I do. It's got the discovery of it or wants to do watching describe to that pot o\n"
          ]
        }
      ]
    },
    {
      "cell_type": "code",
      "source": [
        "torch.save(model.state_dict(), f'{n_param:.2f}million_model.pth')"
      ],
      "metadata": {
        "id": "99EZX6ePr3wC"
      },
      "execution_count": 15,
      "outputs": []
    }
  ]
}